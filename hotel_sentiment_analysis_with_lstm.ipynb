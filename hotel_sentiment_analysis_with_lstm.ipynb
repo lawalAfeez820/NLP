{
  "cells": [
    {
      "cell_type": "markdown",
      "metadata": {
        "id": "view-in-github",
        "colab_type": "text"
      },
      "source": [
        "<a href=\"https://colab.research.google.com/github/lawalAfeez820/NLP/blob/main/hotel_sentiment_analysis_with_lstm.ipynb\" target=\"_parent\"><img src=\"https://colab.research.google.com/assets/colab-badge.svg\" alt=\"Open In Colab\"/></a>"
      ]
    },
    {
      "cell_type": "markdown",
      "metadata": {
        "id": "rq-JL6RCMn-S"
      },
      "source": [
        "# HOTEL REVIEW SENTIMENT ANALYSIS WITH LSTM.\n",
        "\n",
        "### Sentiment analysis is one of the test clasificaion problem in NLP,Sentiment analysis tool is used to detect and understand customers/users feelings. Sentiment analysis tools generate insights into how companies can enhance the customer experience and improve customer service.\n",
        "\n",
        "### Businesses can use machine learning based sentiment analysis software to examine the speech and text for positive and negative sentiment about their brand.\n",
        "\n",
        "#### I developed a simple machine learning model for an hotel review sentiment using LSTM with keras framework. The output of the model is shown below\n",
        "\n",
        "---\n",
        "\n"
      ]
    },
    {
      "cell_type": "code",
      "execution_count": 1,
      "metadata": {
        "id": "DYdDy1n7moe2",
        "colab": {
          "base_uri": "https://localhost:8080/"
        },
        "outputId": "0203bc16-7c73-4937-a25e-49b56a711f78"
      },
      "outputs": [
        {
          "output_type": "stream",
          "name": "stdout",
          "text": [
            "Looking in indexes: https://pypi.org/simple, https://us-python.pkg.dev/colab-wheels/public/simple/\n",
            "Requirement already satisfied: contractions in /usr/local/lib/python3.7/dist-packages (0.1.72)\n",
            "Requirement already satisfied: textsearch>=0.0.21 in /usr/local/lib/python3.7/dist-packages (from contractions) (0.0.21)\n",
            "Requirement already satisfied: pyahocorasick in /usr/local/lib/python3.7/dist-packages (from textsearch>=0.0.21->contractions) (1.4.4)\n",
            "Requirement already satisfied: anyascii in /usr/local/lib/python3.7/dist-packages (from textsearch>=0.0.21->contractions) (0.3.1)\n"
          ]
        },
        {
          "output_type": "stream",
          "name": "stderr",
          "text": [
            "[nltk_data] Downloading package stopwords to /root/nltk_data...\n",
            "[nltk_data]   Package stopwords is already up-to-date!\n"
          ]
        }
      ],
      "source": [
        "import tensorflow as tf\n",
        "import pandas as pd\n",
        "import re\n",
        "\n",
        "import string\n",
        "import spacy\n",
        "nlp=spacy.load(\"en_core_web_sm\")\n",
        "import gensim\n",
        "from textblob import TextBlob\n",
        "from nltk.corpus import stopwords\n",
        "from nltk.tokenize import word_tokenize\n",
        "!pip install contractions\n",
        "import contractions\n",
        "\n",
        "import nltk\n",
        "nltk.download('stopwords')\n",
        "stopword=list(stopwords.words(\"english\"))\n",
        "stopword.remove(\"no\")\n",
        "stopword.remove(\"not\")"
      ]
    },
    {
      "cell_type": "code",
      "source": [
        "nltk.download('punkt')"
      ],
      "metadata": {
        "colab": {
          "base_uri": "https://localhost:8080/"
        },
        "id": "EiGDs4YCkoDg",
        "outputId": "305455de-1373-43ff-c3dd-4d2c0e238512"
      },
      "execution_count": 51,
      "outputs": [
        {
          "output_type": "stream",
          "name": "stderr",
          "text": [
            "[nltk_data] Downloading package punkt to /root/nltk_data...\n",
            "[nltk_data]   Unzipping tokenizers/punkt.zip.\n"
          ]
        },
        {
          "output_type": "execute_result",
          "data": {
            "text/plain": [
              "True"
            ]
          },
          "metadata": {},
          "execution_count": 51
        }
      ]
    },
    {
      "cell_type": "code",
      "source": [
        "def fix_contraction(sentence):\n",
        "    sentence=sentence.lower()\n",
        "    return contractions.fix(sentence)\n",
        "def preprocessing(sentence):\n",
        "  \n",
        "    stopword=set(stopwords.words(\"english\"))\n",
        "    stopword.discard(\"no\")\n",
        "    stopword.discard(\"not\")\n",
        "    pattern=re.compile(\"[^A-Za-z ]\")\n",
        "\n",
        "    sentence=sentence.lower()\n",
        "    sentence=fix_contraction(sentence)\n",
        "    sentence=pattern.sub(\" \",sentence)\n",
        "    \n",
        "    \n",
        "\n",
        "    Word_in_sentence=word_tokenize(sentence)\n",
        "    join_sentence=[list(nlp(word).sents)[0].lemma_ for word in Word_in_sentence if word not in stopword]\n",
        "   \n",
        "    joined_sentence=\" \".join(join_sentence)\n",
        "    return joined_sentence"
      ],
      "metadata": {
        "id": "_BN2OAofZ_oC"
      },
      "execution_count": 2,
      "outputs": []
    },
    {
      "cell_type": "code",
      "execution_count": 4,
      "metadata": {
        "colab": {
          "base_uri": "https://localhost:8080/",
          "height": 206
        },
        "id": "VLeMGZoNnHzx",
        "outputId": "e7ec6fcb-f261-4911-938a-e8c0ac69bb87"
      },
      "outputs": [
        {
          "output_type": "execute_result",
          "data": {
            "text/plain": [
              "                                         Description Is_Response  \\\n",
              "0  book arlington night read review trip advisor ...   not happy   \n",
              "1  historic beautifully appoint hotel one block m...       happy   \n",
              "2  hotel clean update relatively new room furnitu...   not happy   \n",
              "3  hotel locate minute walk alamo hotel pretty go...       happy   \n",
              "4  spend night great hotel staff helpful breakfas...       happy   \n",
              "\n",
              "                                  fixed contractions  \n",
              "0  we booked at the arlington for - nights after ...  \n",
              "1  a very historic beautifully appointed hotel on...  \n",
              "2  if this hotel were cleaner and updated with re...  \n",
              "3  this hotel is located about - minute walk to t...  \n",
              "4  we spent - nights at this great hotel - the st...  "
            ],
            "text/html": [
              "\n",
              "  <div id=\"df-571b1d0a-9b62-4904-abfd-17d758e4ec8e\">\n",
              "    <div class=\"colab-df-container\">\n",
              "      <div>\n",
              "<style scoped>\n",
              "    .dataframe tbody tr th:only-of-type {\n",
              "        vertical-align: middle;\n",
              "    }\n",
              "\n",
              "    .dataframe tbody tr th {\n",
              "        vertical-align: top;\n",
              "    }\n",
              "\n",
              "    .dataframe thead th {\n",
              "        text-align: right;\n",
              "    }\n",
              "</style>\n",
              "<table border=\"1\" class=\"dataframe\">\n",
              "  <thead>\n",
              "    <tr style=\"text-align: right;\">\n",
              "      <th></th>\n",
              "      <th>Description</th>\n",
              "      <th>Is_Response</th>\n",
              "      <th>fixed contractions</th>\n",
              "    </tr>\n",
              "  </thead>\n",
              "  <tbody>\n",
              "    <tr>\n",
              "      <th>0</th>\n",
              "      <td>book arlington night read review trip advisor ...</td>\n",
              "      <td>not happy</td>\n",
              "      <td>we booked at the arlington for - nights after ...</td>\n",
              "    </tr>\n",
              "    <tr>\n",
              "      <th>1</th>\n",
              "      <td>historic beautifully appoint hotel one block m...</td>\n",
              "      <td>happy</td>\n",
              "      <td>a very historic beautifully appointed hotel on...</td>\n",
              "    </tr>\n",
              "    <tr>\n",
              "      <th>2</th>\n",
              "      <td>hotel clean update relatively new room furnitu...</td>\n",
              "      <td>not happy</td>\n",
              "      <td>if this hotel were cleaner and updated with re...</td>\n",
              "    </tr>\n",
              "    <tr>\n",
              "      <th>3</th>\n",
              "      <td>hotel locate minute walk alamo hotel pretty go...</td>\n",
              "      <td>happy</td>\n",
              "      <td>this hotel is located about - minute walk to t...</td>\n",
              "    </tr>\n",
              "    <tr>\n",
              "      <th>4</th>\n",
              "      <td>spend night great hotel staff helpful breakfas...</td>\n",
              "      <td>happy</td>\n",
              "      <td>we spent - nights at this great hotel - the st...</td>\n",
              "    </tr>\n",
              "  </tbody>\n",
              "</table>\n",
              "</div>\n",
              "      <button class=\"colab-df-convert\" onclick=\"convertToInteractive('df-571b1d0a-9b62-4904-abfd-17d758e4ec8e')\"\n",
              "              title=\"Convert this dataframe to an interactive table.\"\n",
              "              style=\"display:none;\">\n",
              "        \n",
              "  <svg xmlns=\"http://www.w3.org/2000/svg\" height=\"24px\"viewBox=\"0 0 24 24\"\n",
              "       width=\"24px\">\n",
              "    <path d=\"M0 0h24v24H0V0z\" fill=\"none\"/>\n",
              "    <path d=\"M18.56 5.44l.94 2.06.94-2.06 2.06-.94-2.06-.94-.94-2.06-.94 2.06-2.06.94zm-11 1L8.5 8.5l.94-2.06 2.06-.94-2.06-.94L8.5 2.5l-.94 2.06-2.06.94zm10 10l.94 2.06.94-2.06 2.06-.94-2.06-.94-.94-2.06-.94 2.06-2.06.94z\"/><path d=\"M17.41 7.96l-1.37-1.37c-.4-.4-.92-.59-1.43-.59-.52 0-1.04.2-1.43.59L10.3 9.45l-7.72 7.72c-.78.78-.78 2.05 0 2.83L4 21.41c.39.39.9.59 1.41.59.51 0 1.02-.2 1.41-.59l7.78-7.78 2.81-2.81c.8-.78.8-2.07 0-2.86zM5.41 20L4 18.59l7.72-7.72 1.47 1.35L5.41 20z\"/>\n",
              "  </svg>\n",
              "      </button>\n",
              "      \n",
              "  <style>\n",
              "    .colab-df-container {\n",
              "      display:flex;\n",
              "      flex-wrap:wrap;\n",
              "      gap: 12px;\n",
              "    }\n",
              "\n",
              "    .colab-df-convert {\n",
              "      background-color: #E8F0FE;\n",
              "      border: none;\n",
              "      border-radius: 50%;\n",
              "      cursor: pointer;\n",
              "      display: none;\n",
              "      fill: #1967D2;\n",
              "      height: 32px;\n",
              "      padding: 0 0 0 0;\n",
              "      width: 32px;\n",
              "    }\n",
              "\n",
              "    .colab-df-convert:hover {\n",
              "      background-color: #E2EBFA;\n",
              "      box-shadow: 0px 1px 2px rgba(60, 64, 67, 0.3), 0px 1px 3px 1px rgba(60, 64, 67, 0.15);\n",
              "      fill: #174EA6;\n",
              "    }\n",
              "\n",
              "    [theme=dark] .colab-df-convert {\n",
              "      background-color: #3B4455;\n",
              "      fill: #D2E3FC;\n",
              "    }\n",
              "\n",
              "    [theme=dark] .colab-df-convert:hover {\n",
              "      background-color: #434B5C;\n",
              "      box-shadow: 0px 1px 3px 1px rgba(0, 0, 0, 0.15);\n",
              "      filter: drop-shadow(0px 1px 2px rgba(0, 0, 0, 0.3));\n",
              "      fill: #FFFFFF;\n",
              "    }\n",
              "  </style>\n",
              "\n",
              "      <script>\n",
              "        const buttonEl =\n",
              "          document.querySelector('#df-571b1d0a-9b62-4904-abfd-17d758e4ec8e button.colab-df-convert');\n",
              "        buttonEl.style.display =\n",
              "          google.colab.kernel.accessAllowed ? 'block' : 'none';\n",
              "\n",
              "        async function convertToInteractive(key) {\n",
              "          const element = document.querySelector('#df-571b1d0a-9b62-4904-abfd-17d758e4ec8e');\n",
              "          const dataTable =\n",
              "            await google.colab.kernel.invokeFunction('convertToInteractive',\n",
              "                                                     [key], {});\n",
              "          if (!dataTable) return;\n",
              "\n",
              "          const docLinkHtml = 'Like what you see? Visit the ' +\n",
              "            '<a target=\"_blank\" href=https://colab.research.google.com/notebooks/data_table.ipynb>data table notebook</a>'\n",
              "            + ' to learn more about interactive tables.';\n",
              "          element.innerHTML = '';\n",
              "          dataTable['output_type'] = 'display_data';\n",
              "          await google.colab.output.renderOutput(dataTable, element);\n",
              "          const docLink = document.createElement('div');\n",
              "          docLink.innerHTML = docLinkHtml;\n",
              "          element.appendChild(docLink);\n",
              "        }\n",
              "      </script>\n",
              "    </div>\n",
              "  </div>\n",
              "  "
            ]
          },
          "metadata": {},
          "execution_count": 4
        }
      ],
      "source": [
        "# loading the dataset into pandas dataframe\n",
        "\n",
        "data=pd.read_csv(\"/content/description.csv\" ,delimiter=\",\" )\n",
        "\n",
        "data.head()"
      ]
    },
    {
      "cell_type": "code",
      "execution_count": 5,
      "metadata": {
        "colab": {
          "base_uri": "https://localhost:8080/"
        },
        "id": "wsfYdwr0o2j7",
        "outputId": "e0ab70a3-7b6c-403c-a514-54eb10a2db44"
      },
      "outputs": [
        {
          "output_type": "execute_result",
          "data": {
            "text/plain": [
              "not happy    0.5\n",
              "happy        0.5\n",
              "Name: Is_Response, dtype: float64"
            ]
          },
          "metadata": {},
          "execution_count": 5
        }
      ],
      "source": [
        "data[\"Is_Response\"].value_counts(normalize=True)"
      ]
    },
    {
      "cell_type": "code",
      "execution_count": 6,
      "metadata": {
        "colab": {
          "base_uri": "https://localhost:8080/"
        },
        "id": "F60mE1KapGoY",
        "outputId": "3ac0ff65-a9cc-4bf1-894d-9b2c30432391"
      },
      "outputs": [
        {
          "output_type": "execute_result",
          "data": {
            "text/plain": [
              "not happy    4000\n",
              "happy        4000\n",
              "Name: Is_Response, dtype: int64"
            ]
          },
          "metadata": {},
          "execution_count": 6
        }
      ],
      "source": [
        "data[\"Is_Response\"].value_counts()"
      ]
    },
    {
      "cell_type": "code",
      "execution_count": 7,
      "metadata": {
        "colab": {
          "base_uri": "https://localhost:8080/",
          "height": 206
        },
        "id": "AcQJ-eOipfcr",
        "outputId": "0015882a-b642-4619-a8f7-92566724c1c6"
      },
      "outputs": [
        {
          "output_type": "execute_result",
          "data": {
            "text/plain": [
              "                                         Description Is_Response\n",
              "0  book arlington night read review trip advisor ...   not happy\n",
              "1  historic beautifully appoint hotel one block m...       happy\n",
              "2  hotel clean update relatively new room furnitu...   not happy\n",
              "3  hotel locate minute walk alamo hotel pretty go...       happy\n",
              "4  spend night great hotel staff helpful breakfas...       happy"
            ],
            "text/html": [
              "\n",
              "  <div id=\"df-9666a30e-bce8-4a8b-a248-6cc48e01e4bf\">\n",
              "    <div class=\"colab-df-container\">\n",
              "      <div>\n",
              "<style scoped>\n",
              "    .dataframe tbody tr th:only-of-type {\n",
              "        vertical-align: middle;\n",
              "    }\n",
              "\n",
              "    .dataframe tbody tr th {\n",
              "        vertical-align: top;\n",
              "    }\n",
              "\n",
              "    .dataframe thead th {\n",
              "        text-align: right;\n",
              "    }\n",
              "</style>\n",
              "<table border=\"1\" class=\"dataframe\">\n",
              "  <thead>\n",
              "    <tr style=\"text-align: right;\">\n",
              "      <th></th>\n",
              "      <th>Description</th>\n",
              "      <th>Is_Response</th>\n",
              "    </tr>\n",
              "  </thead>\n",
              "  <tbody>\n",
              "    <tr>\n",
              "      <th>0</th>\n",
              "      <td>book arlington night read review trip advisor ...</td>\n",
              "      <td>not happy</td>\n",
              "    </tr>\n",
              "    <tr>\n",
              "      <th>1</th>\n",
              "      <td>historic beautifully appoint hotel one block m...</td>\n",
              "      <td>happy</td>\n",
              "    </tr>\n",
              "    <tr>\n",
              "      <th>2</th>\n",
              "      <td>hotel clean update relatively new room furnitu...</td>\n",
              "      <td>not happy</td>\n",
              "    </tr>\n",
              "    <tr>\n",
              "      <th>3</th>\n",
              "      <td>hotel locate minute walk alamo hotel pretty go...</td>\n",
              "      <td>happy</td>\n",
              "    </tr>\n",
              "    <tr>\n",
              "      <th>4</th>\n",
              "      <td>spend night great hotel staff helpful breakfas...</td>\n",
              "      <td>happy</td>\n",
              "    </tr>\n",
              "  </tbody>\n",
              "</table>\n",
              "</div>\n",
              "      <button class=\"colab-df-convert\" onclick=\"convertToInteractive('df-9666a30e-bce8-4a8b-a248-6cc48e01e4bf')\"\n",
              "              title=\"Convert this dataframe to an interactive table.\"\n",
              "              style=\"display:none;\">\n",
              "        \n",
              "  <svg xmlns=\"http://www.w3.org/2000/svg\" height=\"24px\"viewBox=\"0 0 24 24\"\n",
              "       width=\"24px\">\n",
              "    <path d=\"M0 0h24v24H0V0z\" fill=\"none\"/>\n",
              "    <path d=\"M18.56 5.44l.94 2.06.94-2.06 2.06-.94-2.06-.94-.94-2.06-.94 2.06-2.06.94zm-11 1L8.5 8.5l.94-2.06 2.06-.94-2.06-.94L8.5 2.5l-.94 2.06-2.06.94zm10 10l.94 2.06.94-2.06 2.06-.94-2.06-.94-.94-2.06-.94 2.06-2.06.94z\"/><path d=\"M17.41 7.96l-1.37-1.37c-.4-.4-.92-.59-1.43-.59-.52 0-1.04.2-1.43.59L10.3 9.45l-7.72 7.72c-.78.78-.78 2.05 0 2.83L4 21.41c.39.39.9.59 1.41.59.51 0 1.02-.2 1.41-.59l7.78-7.78 2.81-2.81c.8-.78.8-2.07 0-2.86zM5.41 20L4 18.59l7.72-7.72 1.47 1.35L5.41 20z\"/>\n",
              "  </svg>\n",
              "      </button>\n",
              "      \n",
              "  <style>\n",
              "    .colab-df-container {\n",
              "      display:flex;\n",
              "      flex-wrap:wrap;\n",
              "      gap: 12px;\n",
              "    }\n",
              "\n",
              "    .colab-df-convert {\n",
              "      background-color: #E8F0FE;\n",
              "      border: none;\n",
              "      border-radius: 50%;\n",
              "      cursor: pointer;\n",
              "      display: none;\n",
              "      fill: #1967D2;\n",
              "      height: 32px;\n",
              "      padding: 0 0 0 0;\n",
              "      width: 32px;\n",
              "    }\n",
              "\n",
              "    .colab-df-convert:hover {\n",
              "      background-color: #E2EBFA;\n",
              "      box-shadow: 0px 1px 2px rgba(60, 64, 67, 0.3), 0px 1px 3px 1px rgba(60, 64, 67, 0.15);\n",
              "      fill: #174EA6;\n",
              "    }\n",
              "\n",
              "    [theme=dark] .colab-df-convert {\n",
              "      background-color: #3B4455;\n",
              "      fill: #D2E3FC;\n",
              "    }\n",
              "\n",
              "    [theme=dark] .colab-df-convert:hover {\n",
              "      background-color: #434B5C;\n",
              "      box-shadow: 0px 1px 3px 1px rgba(0, 0, 0, 0.15);\n",
              "      filter: drop-shadow(0px 1px 2px rgba(0, 0, 0, 0.3));\n",
              "      fill: #FFFFFF;\n",
              "    }\n",
              "  </style>\n",
              "\n",
              "      <script>\n",
              "        const buttonEl =\n",
              "          document.querySelector('#df-9666a30e-bce8-4a8b-a248-6cc48e01e4bf button.colab-df-convert');\n",
              "        buttonEl.style.display =\n",
              "          google.colab.kernel.accessAllowed ? 'block' : 'none';\n",
              "\n",
              "        async function convertToInteractive(key) {\n",
              "          const element = document.querySelector('#df-9666a30e-bce8-4a8b-a248-6cc48e01e4bf');\n",
              "          const dataTable =\n",
              "            await google.colab.kernel.invokeFunction('convertToInteractive',\n",
              "                                                     [key], {});\n",
              "          if (!dataTable) return;\n",
              "\n",
              "          const docLinkHtml = 'Like what you see? Visit the ' +\n",
              "            '<a target=\"_blank\" href=https://colab.research.google.com/notebooks/data_table.ipynb>data table notebook</a>'\n",
              "            + ' to learn more about interactive tables.';\n",
              "          element.innerHTML = '';\n",
              "          dataTable['output_type'] = 'display_data';\n",
              "          await google.colab.output.renderOutput(dataTable, element);\n",
              "          const docLink = document.createElement('div');\n",
              "          docLink.innerHTML = docLinkHtml;\n",
              "          element.appendChild(docLink);\n",
              "        }\n",
              "      </script>\n",
              "    </div>\n",
              "  </div>\n",
              "  "
            ]
          },
          "metadata": {},
          "execution_count": 7
        }
      ],
      "source": [
        "data=data[[\"Description\",\"Is_Response\"]]\n",
        "data.head()"
      ]
    },
    {
      "cell_type": "code",
      "execution_count": 8,
      "metadata": {
        "id": "dZX9lWV-tEtQ"
      },
      "outputs": [],
      "source": [
        "data[\"Is_Response\"]=data[\"Is_Response\"].map({\"happy\":1,\"not happy\":0})"
      ]
    },
    {
      "cell_type": "code",
      "execution_count": 9,
      "metadata": {
        "colab": {
          "base_uri": "https://localhost:8080/"
        },
        "id": "Anv6pwB0tmk1",
        "outputId": "32f36279-4bf3-4c78-efd4-7903fd37bb24"
      },
      "outputs": [
        {
          "output_type": "execute_result",
          "data": {
            "text/plain": [
              "83.503"
            ]
          },
          "metadata": {},
          "execution_count": 9
        }
      ],
      "source": [
        "average_word_per_review=sum([len(i.split())for i in data[\"Description\"]])/len(data[\"Description\"])\n",
        "average_word_per_review"
      ]
    },
    {
      "cell_type": "code",
      "execution_count": 10,
      "metadata": {
        "id": "Cjg144-3qVkz"
      },
      "outputs": [],
      "source": [
        "from sklearn.model_selection import train_test_split\n",
        "\n",
        "train_x,test_x,train_y,test_y=train_test_split(data[\"Description\"],data[\"Is_Response\"],stratify=data[\"Is_Response\"],random_state=2,test_size=0.1)"
      ]
    },
    {
      "cell_type": "code",
      "execution_count": 11,
      "metadata": {
        "colab": {
          "base_uri": "https://localhost:8080/"
        },
        "id": "MqOG3KrprKVB",
        "outputId": "aa24af77-3138-4489-c9cc-2af1f7fa5739"
      },
      "outputs": [
        {
          "output_type": "execute_result",
          "data": {
            "text/plain": [
              "pandas.core.series.Series"
            ]
          },
          "metadata": {},
          "execution_count": 11
        }
      ],
      "source": [
        "type(train_y)"
      ]
    },
    {
      "cell_type": "code",
      "execution_count": 12,
      "metadata": {
        "id": "EVSZXnDtoKws"
      },
      "outputs": [],
      "source": [
        "x_train_data=tf.data.Dataset.from_tensor_slices(train_x)\n",
        "y_train_data=tf.data.Dataset.from_tensor_slices(train_y)\n",
        "\n",
        "x_test_data=tf.data.Dataset.from_tensor_slices(test_x)\n",
        "y_test_data=tf.data.Dataset.from_tensor_slices(test_y)"
      ]
    },
    {
      "cell_type": "code",
      "execution_count": 13,
      "metadata": {
        "id": "QvrgQl8g2N05"
      },
      "outputs": [],
      "source": [
        "#preprocessing the dataset with keras preprocessing layer\n",
        "\n",
        "#Preprocessing the text using preprocessing layer text vectorization\n",
        "\n",
        "import re,string\n",
        "def custom_standadization(text):\n",
        "\n",
        "  lowercase=tf.strings.lower(text)\n",
        "\n",
        "  stripped_html=tf.strings.regex_replace(lowercase,\"<br />\" ,\" \")\n",
        "\n",
        "  stripped_number=tf.strings.regex_replace(stripped_html,\"[\\d-]\",\" \")\n",
        "\n",
        "  stripped_punc=tf.strings.regex_replace(stripped_number,\"[%s]\" % re.escape(string.punctuation),\"\")\n",
        "\n",
        "  return stripped_punc"
      ]
    },
    {
      "cell_type": "code",
      "execution_count": 14,
      "metadata": {
        "id": "mt6E3WhmonPP"
      },
      "outputs": [],
      "source": [
        "from pandas.compat.numpy.function import TAKE_DEFAULTS\n",
        "from keras.layers import TextVectorization\n",
        "\n",
        "vectorize=TextVectorization(\n",
        "    standardize=custom_standadization,\n",
        "    output_sequence_length=int(average_word_per_review)\n",
        ")"
      ]
    },
    {
      "cell_type": "code",
      "execution_count": 15,
      "metadata": {
        "colab": {
          "base_uri": "https://localhost:8080/"
        },
        "id": "MG-rZNaH1aPt",
        "outputId": "1d75411f-f659-4648-e3dc-9454441a440b"
      },
      "outputs": [
        {
          "output_type": "execute_result",
          "data": {
            "text/plain": [
              "TensorSpec(shape=(), dtype=tf.int64, name=None)"
            ]
          },
          "metadata": {},
          "execution_count": 15
        }
      ],
      "source": [
        "y_train_data.element_spec"
      ]
    },
    {
      "cell_type": "code",
      "execution_count": 16,
      "metadata": {
        "id": "sv4-c7LT1H_y"
      },
      "outputs": [],
      "source": [
        "y_train_data=y_train_data.map(lambda x: tf.reshape(x,[1]))\n",
        "y_trest_data=y_test_data.map(lambda x: tf.reshape(x,[1]))"
      ]
    },
    {
      "cell_type": "code",
      "execution_count": 17,
      "metadata": {
        "colab": {
          "base_uri": "https://localhost:8080/"
        },
        "id": "EC594HUm24Gc",
        "outputId": "b28b4841-c116-4055-d781-3eb81fb106bb"
      },
      "outputs": [
        {
          "output_type": "execute_result",
          "data": {
            "text/plain": [
              "TensorSpec(shape=(1,), dtype=tf.int64, name=None)"
            ]
          },
          "metadata": {},
          "execution_count": 17
        }
      ],
      "source": [
        "y_train_data.element_spec"
      ]
    },
    {
      "cell_type": "code",
      "execution_count": 18,
      "metadata": {
        "id": "oLy9deBpsPdy"
      },
      "outputs": [],
      "source": [
        "vectorize.adapt(x_train_data)"
      ]
    },
    {
      "cell_type": "code",
      "execution_count": 19,
      "metadata": {
        "colab": {
          "base_uri": "https://localhost:8080/"
        },
        "id": "7nDD_OsVsuOU",
        "outputId": "1d230432-0139-4754-9372-a02a9d4d7871"
      },
      "outputs": [
        {
          "output_type": "execute_result",
          "data": {
            "text/plain": [
              "16398"
            ]
          },
          "metadata": {},
          "execution_count": 19
        }
      ],
      "source": [
        "len(vectorize.get_vocabulary())"
      ]
    },
    {
      "cell_type": "code",
      "execution_count": 20,
      "metadata": {
        "id": "7apxgfJCsXx9"
      },
      "outputs": [],
      "source": [
        "x_train_data=x_train_data.map(lambda x : vectorize(x))\n",
        "x_test_data=x_test_data.map(lambda x : vectorize(x))"
      ]
    },
    {
      "cell_type": "code",
      "execution_count": 21,
      "metadata": {
        "colab": {
          "base_uri": "https://localhost:8080/"
        },
        "id": "NX58ypiFu2Mx",
        "outputId": "526a0505-8b0a-44c3-8fd5-2395224e8912"
      },
      "outputs": [
        {
          "output_type": "stream",
          "name": "stdout",
          "text": [
            "tf.Tensor(\n",
            "[  54    2  131   48   50   59 2376   52   62 2030  200   97   12 1424\n",
            "  247   65   82  322 1560 1202   18  176   17    3   85   52 1252   62\n",
            "  152  952  108 1514  287  370  135   24   82  462 1127   21    4  113\n",
            "   24  531 1076 7137 3020   24  374  110   14  559    3   41  176   14\n",
            "  190   86   33   41   17   59   79   76  268  132  116 1097 1717  165\n",
            "   40 1066  515   16  617  393  284    2   40 7011 2598 1063   19], shape=(83,), dtype=int64)\n",
            "tf.Tensor(\n",
            "[   3  176 1159   19  277  158  199 1991  417 1354  253  124  136  168\n",
            "   27  770 1946   50 2232  712  636 6597 2948 1433  561  796  672 1590\n",
            "  803 1024 1973 2533  247  117   13   11  192  126   30 2533  155  511\n",
            "    4   60  235   40  193  556 3303    3  117   47 1227 1127  390  135\n",
            " 2755 3489  165 1876  473    6    4  121  245   15 3067    0    0    0\n",
            "    0    0    0    0    0    0    0    0    0    0    0    0    0], shape=(83,), dtype=int64)\n"
          ]
        }
      ],
      "source": [
        "for i in x_train_data.take(2):\n",
        "  print(i)\n"
      ]
    },
    {
      "cell_type": "code",
      "execution_count": 22,
      "metadata": {
        "colab": {
          "base_uri": "https://localhost:8080/"
        },
        "id": "BrQJz6bOu_j6",
        "outputId": "a93b0032-a475-48a2-b63d-e519618e5916"
      },
      "outputs": [
        {
          "output_type": "execute_result",
          "data": {
            "text/plain": [
              "(TensorSpec(shape=(None,), dtype=tf.int64, name=None),\n",
              " TensorSpec(shape=(1,), dtype=tf.int64, name=None))"
            ]
          },
          "metadata": {},
          "execution_count": 22
        }
      ],
      "source": [
        "train_ds=tf.data.Dataset.zip((x_train_data,y_train_data))\n",
        "test_ds=tf.data.Dataset.zip((x_test_data,y_test_data))\n",
        "train_ds.element_spec"
      ]
    },
    {
      "cell_type": "code",
      "execution_count": 23,
      "metadata": {
        "id": "YFDnEA03xUVD"
      },
      "outputs": [],
      "source": [
        "\n",
        "def shape(x,y):\n",
        "  x.set_shape([83])\n",
        "  y=y\n",
        "\n",
        "  return x,y"
      ]
    },
    {
      "cell_type": "code",
      "execution_count": 24,
      "metadata": {
        "id": "kNIXiw-OxnJe"
      },
      "outputs": [],
      "source": [
        "train_ds=train_ds.map(shape)\n",
        "test_ds=test_ds.map(shape)"
      ]
    },
    {
      "cell_type": "code",
      "execution_count": 25,
      "metadata": {
        "colab": {
          "base_uri": "https://localhost:8080/"
        },
        "id": "cjUnk6UI08Sx",
        "outputId": "0bc41ad9-bad1-4d59-fa5c-16c3e3256871"
      },
      "outputs": [
        {
          "output_type": "execute_result",
          "data": {
            "text/plain": [
              "(TensorSpec(shape=(83,), dtype=tf.int64, name=None),\n",
              " TensorSpec(shape=(1,), dtype=tf.int64, name=None))"
            ]
          },
          "metadata": {},
          "execution_count": 25
        }
      ],
      "source": [
        "train_ds.element_spec"
      ]
    },
    {
      "cell_type": "code",
      "execution_count": 26,
      "metadata": {
        "id": "R1slsGmdvy4y"
      },
      "outputs": [],
      "source": [
        "\n",
        "train_ds=train_ds.shuffle(23).padded_batch(128,drop_remainder=True).cache().prefetch(tf.data.AUTOTUNE)\n",
        "\n",
        "test_ds=test_ds.shuffle(23).padded_batch(128,drop_remainder=True).cache().prefetch(tf.data.AUTOTUNE)"
      ]
    },
    {
      "cell_type": "code",
      "execution_count": 27,
      "metadata": {
        "colab": {
          "base_uri": "https://localhost:8080/"
        },
        "id": "JV9ttdRkw-sq",
        "outputId": "e991657f-49d7-4265-faf4-67a8eabb43e5"
      },
      "outputs": [
        {
          "output_type": "execute_result",
          "data": {
            "text/plain": [
              "(TensorSpec(shape=(128, 83), dtype=tf.int64, name=None),\n",
              " TensorSpec(shape=(128, 1), dtype=tf.int64, name=None))"
            ]
          },
          "metadata": {},
          "execution_count": 27
        }
      ],
      "source": [
        "train_ds.element_spec"
      ]
    },
    {
      "cell_type": "code",
      "execution_count": 28,
      "metadata": {
        "colab": {
          "base_uri": "https://localhost:8080/"
        },
        "id": "JDr5o2lixDR-",
        "outputId": "6feaf1e5-dd52-41df-92a9-0e7094530ed8"
      },
      "outputs": [
        {
          "output_type": "stream",
          "name": "stdout",
          "text": [
            "Model: \"model\"\n",
            "_________________________________________________________________\n",
            " Layer (type)                Output Shape              Param #   \n",
            "=================================================================\n",
            " input_1 (InputLayer)        [(None, 83)]              0         \n",
            "                                                                 \n",
            " embedding (Embedding)       (None, 83, 50)            819900    \n",
            "                                                                 \n",
            " dropout (Dropout)           (None, 83, 50)            0         \n",
            "                                                                 \n",
            " lstm (LSTM)                 (None, 83, 128)           91648     \n",
            "                                                                 \n",
            " dropout_1 (Dropout)         (None, 83, 128)           0         \n",
            "                                                                 \n",
            " lstm_1 (LSTM)               (None, 83, 64)            49408     \n",
            "                                                                 \n",
            " dropout_2 (Dropout)         (None, 83, 64)            0         \n",
            "                                                                 \n",
            " flatten (Flatten)           (None, 5312)              0         \n",
            "                                                                 \n",
            " dense (Dense)               (None, 1)                 5313      \n",
            "                                                                 \n",
            "=================================================================\n",
            "Total params: 966,269\n",
            "Trainable params: 966,269\n",
            "Non-trainable params: 0\n",
            "_________________________________________________________________\n"
          ]
        }
      ],
      "source": [
        "from keras.layers import LSTM,Input,Embedding,Dropout,Dense,Flatten\n",
        "from keras.models import Model\n",
        "\n",
        "input=Input(shape=(83))\n",
        "embedding=Embedding(len(vectorize.get_vocabulary()),50)(input)\n",
        "dropout1=Dropout(0.4)(embedding)\n",
        "lstm1=LSTM(128,return_sequences=True)(dropout1)\n",
        "dropout2=Dropout(0.4)(lstm1)\n",
        "lstm2=LSTM(64,return_sequences=True)(dropout2)\n",
        "dropout3=Dropout(0.3)(lstm2)\n",
        "flatten=Flatten()(dropout3)\n",
        "output=Dense(1,activation=\"sigmoid\")(flatten)\n",
        "\n",
        "model=Model(input,output)\n",
        "model.summary()"
      ]
    },
    {
      "cell_type": "code",
      "execution_count": 29,
      "metadata": {
        "id": "jDELZioi4IGL"
      },
      "outputs": [],
      "source": [
        "model.compile(optimizer=\"adam\",loss=\"binary_crossentropy\",metrics=[\"accuracy\"])"
      ]
    },
    {
      "cell_type": "code",
      "execution_count": 30,
      "metadata": {
        "colab": {
          "base_uri": "https://localhost:8080/"
        },
        "id": "QWpFM_Ch6MYx",
        "outputId": "c1a181a7-043f-4e18-956f-c8e799231d09"
      },
      "outputs": [
        {
          "output_type": "stream",
          "name": "stdout",
          "text": [
            "Epoch 1/30\n",
            "56/56 [==============================] - 11s 48ms/step - loss: 0.5503 - accuracy: 0.7063 - val_loss: 0.4090 - val_accuracy: 0.8307\n",
            "Epoch 2/30\n",
            "56/56 [==============================] - 1s 16ms/step - loss: 0.3155 - accuracy: 0.8669 - val_loss: 0.3907 - val_accuracy: 0.8346\n",
            "Epoch 3/30\n",
            "56/56 [==============================] - 1s 14ms/step - loss: 0.2329 - accuracy: 0.9096 - val_loss: 0.4650 - val_accuracy: 0.8307\n",
            "Epoch 4/30\n",
            "56/56 [==============================] - 1s 15ms/step - loss: 0.1782 - accuracy: 0.9304 - val_loss: 0.4958 - val_accuracy: 0.8216\n",
            "Epoch 5/30\n",
            "56/56 [==============================] - 1s 14ms/step - loss: 0.1443 - accuracy: 0.9482 - val_loss: 0.4859 - val_accuracy: 0.8099\n",
            "Epoch 6/30\n",
            "56/56 [==============================] - 1s 14ms/step - loss: 0.1305 - accuracy: 0.9487 - val_loss: 0.6234 - val_accuracy: 0.8047\n",
            "Epoch 7/30\n",
            "56/56 [==============================] - 1s 14ms/step - loss: 0.0925 - accuracy: 0.9653 - val_loss: 0.6427 - val_accuracy: 0.8177\n"
          ]
        }
      ],
      "source": [
        "\n",
        "from keras.callbacks import EarlyStopping\n",
        "es=EarlyStopping(patience=5,mode=\"min\")\n",
        "\n",
        "history=model.fit(train_ds,validation_data=test_ds,epochs=30,callbacks=[es])"
      ]
    },
    {
      "cell_type": "code",
      "execution_count": 31,
      "metadata": {
        "colab": {
          "base_uri": "https://localhost:8080/"
        },
        "id": "3PIpWsgy6Y03",
        "outputId": "fddc06bb-8d6f-4492-9191-5f99d2318eb0"
      },
      "outputs": [
        {
          "output_type": "stream",
          "name": "stdout",
          "text": [
            "6/6 [==============================] - 0s 6ms/step - loss: 0.6427 - accuracy: 0.8177\n"
          ]
        }
      ],
      "source": [
        "val_loss,val_accuracy=model.evaluate(test_ds)"
      ]
    },
    {
      "cell_type": "code",
      "execution_count": 32,
      "metadata": {
        "id": "WrXtCki484Jt"
      },
      "outputs": [],
      "source": [
        "prediction=model.predict(test_ds)"
      ]
    },
    {
      "cell_type": "code",
      "execution_count": 33,
      "metadata": {
        "colab": {
          "base_uri": "https://localhost:8080/"
        },
        "id": "z2DEUXrW9XwO",
        "outputId": "08957d3f-e476-40ca-d048-8d253c1970bc"
      },
      "outputs": [
        {
          "output_type": "execute_result",
          "data": {
            "text/plain": [
              "array([0, 0, 1, 0, 0, 1, 0, 0, 0, 0, 0, 1, 0, 1, 0, 1, 0, 1, 1, 1, 1, 0,\n",
              "       1, 0, 1, 0, 1, 0, 0, 0, 1, 0, 1, 0, 1, 0, 0, 0, 0, 1, 0, 0, 0, 1,\n",
              "       0, 1, 1, 1, 0, 1, 1, 1, 1, 0, 0, 0, 1, 0, 1, 0, 0, 0, 0, 1, 0, 0,\n",
              "       1, 1, 0, 0, 0, 0, 0, 0, 1, 1, 1, 1, 1, 1, 0, 0, 1, 1, 0, 0, 0, 0,\n",
              "       0, 1, 0, 0, 0, 0, 1, 0, 1, 0, 0, 1, 0, 1, 0, 1, 1, 1, 0, 1, 1, 0,\n",
              "       0, 1, 0, 0, 1, 0, 0, 0, 1, 0, 1, 0, 0, 1, 0, 0, 1, 1, 1, 1, 0, 0,\n",
              "       1, 1, 1, 0, 0, 0, 0, 1, 0, 0, 0, 1, 0, 0, 1, 0, 0, 0, 1, 0, 0, 1,\n",
              "       0, 1, 1, 1, 1, 1, 0, 0, 0, 0, 1, 1, 1, 1, 0, 1, 0, 1, 1, 0, 0, 1,\n",
              "       1, 0, 0, 0, 1, 0, 1, 1, 0, 0, 1, 1, 1, 0, 1, 1, 0, 1, 0, 1, 0, 1,\n",
              "       0, 1, 0, 0, 1, 1, 0, 1, 1, 0, 0, 1, 1, 0, 0, 1, 0, 1, 1, 0, 0, 0,\n",
              "       1, 0, 0, 0, 1, 1, 0, 1, 0, 1, 1, 1, 1, 0, 1, 1, 0, 1, 0, 1, 0, 0,\n",
              "       1, 1, 0, 1, 1, 0, 0, 0, 0, 1, 1, 1, 0, 1, 1, 0, 1, 1, 0, 0, 0, 1,\n",
              "       0, 1, 1, 0, 0, 0, 1, 0, 1, 1, 0, 1, 1, 0, 0, 0, 0, 0, 0, 0, 1, 0,\n",
              "       1, 0, 1, 1, 1, 0, 1, 0, 1, 1, 1, 1, 0, 1, 1, 1, 1, 0, 0, 0, 0, 1,\n",
              "       0, 1, 0, 1, 1, 1, 1, 1, 1, 0, 0, 1, 0, 0, 0, 1, 1, 1, 0, 1, 0, 0,\n",
              "       1, 1, 1, 0, 1, 1, 0, 0, 1, 0, 0, 1, 1, 1, 1, 1, 1, 0, 1, 1, 1, 0,\n",
              "       0, 1, 0, 0, 1, 1, 0, 0, 1, 0, 1, 1, 0, 0, 1, 1, 0, 0, 0, 1, 0, 1,\n",
              "       0, 1, 1, 0, 1, 0, 0, 0, 0, 0, 1, 0, 0, 0, 1, 0, 1, 1, 1, 0, 1, 1,\n",
              "       0, 0, 1, 1, 1, 1, 0, 0, 0, 0, 1, 0, 0, 0, 0, 1, 1, 0, 1, 0, 0, 1,\n",
              "       0, 0, 1, 0, 0, 0, 1, 1, 0, 0, 0, 0, 1, 0, 0, 1, 1, 1, 1, 1, 0, 0,\n",
              "       1, 1, 0, 0, 1, 1, 1, 1, 0, 0, 0, 0, 0, 0, 1, 0, 0, 0, 0, 0, 0, 1,\n",
              "       0, 1, 1, 1, 0, 1, 0, 0, 1, 0, 0, 1, 0, 1, 0, 0, 1, 1, 1, 0, 0, 1,\n",
              "       1, 0, 1, 1, 0, 0, 0, 0, 1, 1, 0, 1, 0, 0, 0, 0, 0, 1, 0, 1, 1, 0,\n",
              "       1, 1, 1, 0, 1, 1, 1, 0, 1, 1, 1, 1, 1, 0, 0, 0, 1, 0, 0, 1, 1, 1,\n",
              "       1, 0, 1, 0, 0, 1, 1, 1, 1, 0, 1, 0, 1, 0, 1, 0, 1, 1, 1, 0, 0, 1,\n",
              "       1, 1, 0, 0, 1, 0, 1, 0, 0, 1, 0, 1, 0, 0, 1, 0, 1, 0, 0, 1, 1, 1,\n",
              "       0, 0, 0, 1, 0, 0, 1, 1, 1, 0, 1, 0, 1, 1, 0, 1, 0, 0, 1, 1, 1, 1,\n",
              "       0, 0, 0, 1, 1, 0, 0, 0, 1, 1, 1, 1, 1, 0, 0, 0, 1, 1, 1, 1, 0, 0,\n",
              "       0, 0, 1, 1, 1, 1, 0, 1, 0, 1, 0, 1, 0, 0, 1, 1, 0, 0, 0, 1, 0, 0,\n",
              "       1, 0, 0, 0, 0, 1, 1, 1, 0, 1, 0, 1, 0, 0, 0, 0, 1, 0, 0, 1, 1, 1,\n",
              "       1, 0, 0, 0, 1, 1, 1, 0, 1, 0, 0, 1, 1, 0, 1, 0, 1, 1, 0, 0, 1, 0,\n",
              "       1, 1, 0, 0, 0, 1, 1, 1, 1, 1, 0, 0, 0, 0, 1, 1, 0, 1, 0, 0, 0, 1,\n",
              "       0, 0, 0, 1, 1, 1, 1, 0, 0, 1, 1, 1, 1, 1, 1, 0, 1, 1, 1, 1, 0, 1,\n",
              "       0, 0, 0, 1, 1, 1, 0, 1, 1, 0, 0, 1, 1, 0, 1, 1, 0, 0, 0, 0, 1, 0,\n",
              "       1, 0, 0, 0, 0, 0, 1, 1, 0, 0, 1, 0, 1, 1, 0, 0, 0, 0, 0, 1])"
            ]
          },
          "metadata": {},
          "execution_count": 33
        }
      ],
      "source": [
        "prediction=(prediction.flatten()>0.5).astype(int)\n",
        "prediction"
      ]
    },
    {
      "cell_type": "code",
      "execution_count": 46,
      "metadata": {
        "colab": {
          "base_uri": "https://localhost:8080/"
        },
        "id": "c2LmZFVI9e0A",
        "outputId": "557d7c4d-848a-418d-d18b-a7a19bbdfe7b"
      },
      "outputs": [
        {
          "output_type": "execute_result",
          "data": {
            "text/plain": [
              "True"
            ]
          },
          "metadata": {},
          "execution_count": 46
        }
      ],
      "source": [
        "model.predict(vectorize(\"interest\").numpy().reshape(1,83))[0][0]>0.4"
      ]
    },
    {
      "cell_type": "code",
      "source": [
        "def analyse_review(review):\n",
        "\n",
        "  review=preprocessing(review)\n",
        "\n",
        "  prediction=model.predict(vectorize(review).numpy().reshape(1,83))[0][0]>=0.5\n",
        "\n",
        "  if prediction :\n",
        "\n",
        "    return \"POSITIVE REVIEW\"\n",
        "\n",
        "  else:\n",
        "\n",
        "    return \"NEGATIVE REVIEW\"\n",
        "\n"
      ],
      "metadata": {
        "id": "WXwnPvEoBzR0"
      },
      "execution_count": 79,
      "outputs": []
    },
    {
      "cell_type": "markdown",
      "source": [
        "# SAMPLES"
      ],
      "metadata": {
        "id": "KFKe30etrmuU"
      }
    },
    {
      "cell_type": "code",
      "source": [
        ""
      ],
      "metadata": {
        "id": "4I9uFheZrl9p"
      },
      "execution_count": null,
      "outputs": []
    },
    {
      "cell_type": "code",
      "source": [
        "analyse_review(\"\"\"I was told that my room would have several amenities like microwave and a.c. unfortunately There was only a mini fridge \n",
        "                 in my room and the air conditioner didn’t work at all which is and was a problem in 100⁰ weather.\"\"\")"
      ],
      "metadata": {
        "colab": {
          "base_uri": "https://localhost:8080/",
          "height": 35
        },
        "id": "4ZehSmT-j7s9",
        "outputId": "91049ba9-ba6f-447d-d857-57b4270b00f6"
      },
      "execution_count": 80,
      "outputs": [
        {
          "output_type": "execute_result",
          "data": {
            "text/plain": [
              "'NEGATIVE REVIEW'"
            ],
            "application/vnd.google.colaboratory.intrinsic+json": {
              "type": "string"
            }
          },
          "metadata": {},
          "execution_count": 80
        }
      ]
    },
    {
      "cell_type": "code",
      "source": [
        "analyse_review(\"This hotel use to be great,I'm not sure if they switched owners but it has gone down hill from food to service.\")"
      ],
      "metadata": {
        "colab": {
          "base_uri": "https://localhost:8080/",
          "height": 35
        },
        "id": "XqYYWwlppCrR",
        "outputId": "04bd4bf1-dc2c-4c79-ed99-48e56015a9f2"
      },
      "execution_count": 81,
      "outputs": [
        {
          "output_type": "execute_result",
          "data": {
            "text/plain": [
              "'NEGATIVE REVIEW'"
            ],
            "application/vnd.google.colaboratory.intrinsic+json": {
              "type": "string"
            }
          },
          "metadata": {},
          "execution_count": 81
        }
      ]
    },
    {
      "cell_type": "code",
      "source": [
        "analyse_review(\"\"\"The room was clean,very comfortable and the staff was amazing.They went over and beyond to help make our stay enjoyable.\n",
        "                 I highly recommend this hotel for anyone visiting downtown\"\"\")"
      ],
      "metadata": {
        "colab": {
          "base_uri": "https://localhost:8080/",
          "height": 35
        },
        "id": "4TKHlrYUkN71",
        "outputId": "3f59fe76-f57a-4854-9675-87389e783183"
      },
      "execution_count": 82,
      "outputs": [
        {
          "output_type": "execute_result",
          "data": {
            "text/plain": [
              "'POSITIVE REVIEW'"
            ],
            "application/vnd.google.colaboratory.intrinsic+json": {
              "type": "string"
            }
          },
          "metadata": {},
          "execution_count": 82
        }
      ]
    },
    {
      "cell_type": "code",
      "source": [
        "analyse_review(\"\"\"They were extremely accommodating and allowed us to check in early at like 10am. We got to hotel super early and I didn’t wanna wait.\n",
        "                 So this was a big plus. The sevice was exceptional as well. Would definitely send a friend there.\"\"\")"
      ],
      "metadata": {
        "colab": {
          "base_uri": "https://localhost:8080/",
          "height": 35
        },
        "id": "2YFB0I0mnICn",
        "outputId": "6681dce3-c9a8-4882-b5c0-6d0828051dd8"
      },
      "execution_count": 83,
      "outputs": [
        {
          "output_type": "execute_result",
          "data": {
            "text/plain": [
              "'POSITIVE REVIEW'"
            ],
            "application/vnd.google.colaboratory.intrinsic+json": {
              "type": "string"
            }
          },
          "metadata": {},
          "execution_count": 83
        }
      ]
    },
    {
      "cell_type": "code",
      "source": [
        "analyse_review(\"\"\"The rooms stink. They are not clean. I requested a non smoking room and both rooms smelled like smoke. Bathrooms were gross and bugs were everywhere! ! \n",
        "                 The door did not seem secure and was not evened out so bugs got in easily. The second room was full of gnats.\"\"\")"
      ],
      "metadata": {
        "colab": {
          "base_uri": "https://localhost:8080/",
          "height": 35
        },
        "id": "1niDaMSXq5g8",
        "outputId": "458d1980-0283-4484-f994-80b8cf5e2f78"
      },
      "execution_count": 84,
      "outputs": [
        {
          "output_type": "execute_result",
          "data": {
            "text/plain": [
              "'NEGATIVE REVIEW'"
            ],
            "application/vnd.google.colaboratory.intrinsic+json": {
              "type": "string"
            }
          },
          "metadata": {},
          "execution_count": 84
        }
      ]
    },
    {
      "cell_type": "code",
      "source": [
        ""
      ],
      "metadata": {
        "id": "_bORzweqrtIu"
      },
      "execution_count": null,
      "outputs": []
    }
  ],
  "metadata": {
    "colab": {
      "collapsed_sections": [],
      "name": "hotel sentiment analysis with lstm.ipynb",
      "provenance": [],
      "authorship_tag": "ABX9TyN8rvjvNenOpD3QFVbaqxRv",
      "include_colab_link": true
    },
    "kernelspec": {
      "display_name": "Python 3",
      "name": "python3"
    },
    "language_info": {
      "name": "python"
    },
    "accelerator": "GPU",
    "gpuClass": "standard"
  },
  "nbformat": 4,
  "nbformat_minor": 0
}