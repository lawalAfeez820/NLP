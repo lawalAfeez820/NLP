{
  "cells": [
    {
      "cell_type": "markdown",
      "metadata": {
        "id": "view-in-github",
        "colab_type": "text"
      },
      "source": [
        "<a href=\"https://colab.research.google.com/github/lawalAfeez820/NLP/blob/main/SPAM_HAM_CLASSIFIER.ipynb\" target=\"_parent\"><img src=\"https://colab.research.google.com/assets/colab-badge.svg\" alt=\"Open In Colab\"/></a>"
      ]
    },
    {
      "cell_type": "markdown",
      "source": [
        "# DESCRIPTION\n",
        "\n",
        "FITTING MACHINE LEARNING MODEL ON E-MAIL CORPUS TO DIFFERENTIATE BETWEEN SPAM AND HAM E-MAIL.\n",
        "\n",
        "## DATASET\n",
        "\n",
        "The dataset is an imbalanced one, the ham cstegory contain 86% of the whole dataset.\n",
        "\n",
        "## APPROACH\n",
        "\n",
        "The first step includ loading the tsv file into pandas dataframe for easy analysis, The dataset was split into train and test data in the beginning state to above data leakage(for the model not to have most of the data set during the training).All process was performed om the separated train data.\n",
        "Since this is an NLP classification task,the necessary the preprocessing and cleaning was done on the train dataset.Some of the cleaning that was done on the data are:\n",
        "1. Tokenization:Breaking sentences into words\n",
        "\n",
        "2. Contraction to Expansion: Changing the contraction words to their expanded form e.g she'll--->she will\n",
        "\n",
        "3. Converting all words to their lower cases\n",
        "\n",
        "4. Lemmatization: Converting words to their root form. e.g sleeping--->sleep\n",
        "\n",
        "5. Text Correction\n",
        "\n",
        "6. Punctuation removal. \n",
        "\n",
        "After the text cleaning phase, all the sentences were converted to vectors and machine handle numericsl data better. Document to Vector that convert all the word into a vector size of 70 was implemented at first but after fitting these vector to some classification algorithm like logistic regression and GaussianNB, the performance was bad, i then try an ensemble technique (RandomForestClassifier) which overfit the training dataset i.e it classified all the train data perfectly(100%) but just 60% on the unseen data. At first, I thought this bad performance was due to the imbalanced nature of the dataset so i tried some technique that is used for handling imbalanced dataset but same result was generated(All technique in the notebook).\n",
        "\n",
        "The next thing that was done after this bad result was to implement another word to vector algorithm apart from doc2vec, and this was TfidfVectorizer.After the conversion and training with random forest classifier, A better result was generated for both the train and unseen dataset.\n",
        "\n",
        "\n",
        "## Libraries\n",
        "\n",
        "1. Gensim for document to vector conversion\n",
        "\n",
        "2. Pandas for some preprocessing\n",
        "\n",
        "3. Contraction Library\n",
        "\n",
        "4. Textblob library for text correction\n",
        "\n",
        "5. Spacy Library for lemmatization\n",
        "\n",
        "6. sklearn for model training\n",
        "\n",
        "7. Imblearn for handling class imbalance\n",
        "\n",
        "\n",
        "\n",
        "\n",
        "library\n",
        "\n"
      ],
      "metadata": {
        "id": "U5MEPFRqUwxz"
      }
    },
    {
      "cell_type": "markdown",
      "source": [
        ""
      ],
      "metadata": {
        "id": "wqAv9AXqYK5D"
      }
    },
    {
      "cell_type": "code",
      "source": [
        ""
      ],
      "metadata": {
        "id": "dWp2uG3_Uv6J"
      },
      "execution_count": null,
      "outputs": []
    },
    {
      "cell_type": "code",
      "execution_count": null,
      "metadata": {
        "colab": {
          "base_uri": "https://localhost:8080/"
        },
        "id": "V7bDzx9nH5jj",
        "outputId": "b1075ae7-0a24-4e10-b35f-5b5178d48b03"
      },
      "outputs": [
        {
          "output_type": "stream",
          "name": "stdout",
          "text": [
            "Looking in indexes: https://pypi.org/simple, https://us-python.pkg.dev/colab-wheels/public/simple/\n",
            "Collecting contractions\n",
            "  Downloading contractions-0.1.72-py2.py3-none-any.whl (8.3 kB)\n",
            "Collecting textsearch>=0.0.21\n",
            "  Downloading textsearch-0.0.21-py2.py3-none-any.whl (7.5 kB)\n",
            "Collecting pyahocorasick\n",
            "  Downloading pyahocorasick-1.4.4-cp37-cp37m-manylinux_2_17_x86_64.manylinux2014_x86_64.whl (106 kB)\n",
            "\u001b[K     |████████████████████████████████| 106 kB 31.3 MB/s \n",
            "\u001b[?25hCollecting anyascii\n",
            "  Downloading anyascii-0.3.1-py3-none-any.whl (287 kB)\n",
            "\u001b[K     |████████████████████████████████| 287 kB 38.0 MB/s \n",
            "\u001b[?25hInstalling collected packages: pyahocorasick, anyascii, textsearch, contractions\n",
            "Successfully installed anyascii-0.3.1 contractions-0.1.72 pyahocorasick-1.4.4 textsearch-0.0.21\n"
          ]
        }
      ],
      "source": [
        "#import the libraries\n",
        "\n",
        "import pandas as pd\n",
        "import numpy as np\n",
        "import matplotlib.pyplot as plt\n",
        "!pip install contractions\n",
        "import contractions\n",
        "from gensim.models import Doc2Vec\n"
      ]
    },
    {
      "cell_type": "code",
      "execution_count": null,
      "metadata": {
        "id": "6bAhYEm9IRjS"
      },
      "outputs": [],
      "source": [
        "data=pd.read_csv(\"/content/spam.tsv\",sep=\"\\t\")"
      ]
    },
    {
      "cell_type": "code",
      "execution_count": null,
      "metadata": {
        "colab": {
          "base_uri": "https://localhost:8080/",
          "height": 206
        },
        "id": "cMx96saOI-6m",
        "outputId": "2012d1fd-a4d3-4f16-b9c6-532841131855"
      },
      "outputs": [
        {
          "output_type": "execute_result",
          "data": {
            "text/plain": [
              "  label                                            message  length  punct\n",
              "0   ham  Go until jurong point, crazy.. Available only ...     111      9\n",
              "1   ham                      Ok lar... Joking wif u oni...      29      6\n",
              "2  spam  Free entry in 2 a wkly comp to win FA Cup fina...     155      6\n",
              "3   ham  U dun say so early hor... U c already then say...      49      6\n",
              "4   ham  Nah I don't think he goes to usf, he lives aro...      61      2"
            ],
            "text/html": [
              "\n",
              "  <div id=\"df-c723606b-887d-497a-806b-14ce700ce747\">\n",
              "    <div class=\"colab-df-container\">\n",
              "      <div>\n",
              "<style scoped>\n",
              "    .dataframe tbody tr th:only-of-type {\n",
              "        vertical-align: middle;\n",
              "    }\n",
              "\n",
              "    .dataframe tbody tr th {\n",
              "        vertical-align: top;\n",
              "    }\n",
              "\n",
              "    .dataframe thead th {\n",
              "        text-align: right;\n",
              "    }\n",
              "</style>\n",
              "<table border=\"1\" class=\"dataframe\">\n",
              "  <thead>\n",
              "    <tr style=\"text-align: right;\">\n",
              "      <th></th>\n",
              "      <th>label</th>\n",
              "      <th>message</th>\n",
              "      <th>length</th>\n",
              "      <th>punct</th>\n",
              "    </tr>\n",
              "  </thead>\n",
              "  <tbody>\n",
              "    <tr>\n",
              "      <th>0</th>\n",
              "      <td>ham</td>\n",
              "      <td>Go until jurong point, crazy.. Available only ...</td>\n",
              "      <td>111</td>\n",
              "      <td>9</td>\n",
              "    </tr>\n",
              "    <tr>\n",
              "      <th>1</th>\n",
              "      <td>ham</td>\n",
              "      <td>Ok lar... Joking wif u oni...</td>\n",
              "      <td>29</td>\n",
              "      <td>6</td>\n",
              "    </tr>\n",
              "    <tr>\n",
              "      <th>2</th>\n",
              "      <td>spam</td>\n",
              "      <td>Free entry in 2 a wkly comp to win FA Cup fina...</td>\n",
              "      <td>155</td>\n",
              "      <td>6</td>\n",
              "    </tr>\n",
              "    <tr>\n",
              "      <th>3</th>\n",
              "      <td>ham</td>\n",
              "      <td>U dun say so early hor... U c already then say...</td>\n",
              "      <td>49</td>\n",
              "      <td>6</td>\n",
              "    </tr>\n",
              "    <tr>\n",
              "      <th>4</th>\n",
              "      <td>ham</td>\n",
              "      <td>Nah I don't think he goes to usf, he lives aro...</td>\n",
              "      <td>61</td>\n",
              "      <td>2</td>\n",
              "    </tr>\n",
              "  </tbody>\n",
              "</table>\n",
              "</div>\n",
              "      <button class=\"colab-df-convert\" onclick=\"convertToInteractive('df-c723606b-887d-497a-806b-14ce700ce747')\"\n",
              "              title=\"Convert this dataframe to an interactive table.\"\n",
              "              style=\"display:none;\">\n",
              "        \n",
              "  <svg xmlns=\"http://www.w3.org/2000/svg\" height=\"24px\"viewBox=\"0 0 24 24\"\n",
              "       width=\"24px\">\n",
              "    <path d=\"M0 0h24v24H0V0z\" fill=\"none\"/>\n",
              "    <path d=\"M18.56 5.44l.94 2.06.94-2.06 2.06-.94-2.06-.94-.94-2.06-.94 2.06-2.06.94zm-11 1L8.5 8.5l.94-2.06 2.06-.94-2.06-.94L8.5 2.5l-.94 2.06-2.06.94zm10 10l.94 2.06.94-2.06 2.06-.94-2.06-.94-.94-2.06-.94 2.06-2.06.94z\"/><path d=\"M17.41 7.96l-1.37-1.37c-.4-.4-.92-.59-1.43-.59-.52 0-1.04.2-1.43.59L10.3 9.45l-7.72 7.72c-.78.78-.78 2.05 0 2.83L4 21.41c.39.39.9.59 1.41.59.51 0 1.02-.2 1.41-.59l7.78-7.78 2.81-2.81c.8-.78.8-2.07 0-2.86zM5.41 20L4 18.59l7.72-7.72 1.47 1.35L5.41 20z\"/>\n",
              "  </svg>\n",
              "      </button>\n",
              "      \n",
              "  <style>\n",
              "    .colab-df-container {\n",
              "      display:flex;\n",
              "      flex-wrap:wrap;\n",
              "      gap: 12px;\n",
              "    }\n",
              "\n",
              "    .colab-df-convert {\n",
              "      background-color: #E8F0FE;\n",
              "      border: none;\n",
              "      border-radius: 50%;\n",
              "      cursor: pointer;\n",
              "      display: none;\n",
              "      fill: #1967D2;\n",
              "      height: 32px;\n",
              "      padding: 0 0 0 0;\n",
              "      width: 32px;\n",
              "    }\n",
              "\n",
              "    .colab-df-convert:hover {\n",
              "      background-color: #E2EBFA;\n",
              "      box-shadow: 0px 1px 2px rgba(60, 64, 67, 0.3), 0px 1px 3px 1px rgba(60, 64, 67, 0.15);\n",
              "      fill: #174EA6;\n",
              "    }\n",
              "\n",
              "    [theme=dark] .colab-df-convert {\n",
              "      background-color: #3B4455;\n",
              "      fill: #D2E3FC;\n",
              "    }\n",
              "\n",
              "    [theme=dark] .colab-df-convert:hover {\n",
              "      background-color: #434B5C;\n",
              "      box-shadow: 0px 1px 3px 1px rgba(0, 0, 0, 0.15);\n",
              "      filter: drop-shadow(0px 1px 2px rgba(0, 0, 0, 0.3));\n",
              "      fill: #FFFFFF;\n",
              "    }\n",
              "  </style>\n",
              "\n",
              "      <script>\n",
              "        const buttonEl =\n",
              "          document.querySelector('#df-c723606b-887d-497a-806b-14ce700ce747 button.colab-df-convert');\n",
              "        buttonEl.style.display =\n",
              "          google.colab.kernel.accessAllowed ? 'block' : 'none';\n",
              "\n",
              "        async function convertToInteractive(key) {\n",
              "          const element = document.querySelector('#df-c723606b-887d-497a-806b-14ce700ce747');\n",
              "          const dataTable =\n",
              "            await google.colab.kernel.invokeFunction('convertToInteractive',\n",
              "                                                     [key], {});\n",
              "          if (!dataTable) return;\n",
              "\n",
              "          const docLinkHtml = 'Like what you see? Visit the ' +\n",
              "            '<a target=\"_blank\" href=https://colab.research.google.com/notebooks/data_table.ipynb>data table notebook</a>'\n",
              "            + ' to learn more about interactive tables.';\n",
              "          element.innerHTML = '';\n",
              "          dataTable['output_type'] = 'display_data';\n",
              "          await google.colab.output.renderOutput(dataTable, element);\n",
              "          const docLink = document.createElement('div');\n",
              "          docLink.innerHTML = docLinkHtml;\n",
              "          element.appendChild(docLink);\n",
              "        }\n",
              "      </script>\n",
              "    </div>\n",
              "  </div>\n",
              "  "
            ]
          },
          "metadata": {},
          "execution_count": 3
        }
      ],
      "source": [
        "data.head()"
      ]
    },
    {
      "cell_type": "code",
      "execution_count": null,
      "metadata": {
        "colab": {
          "base_uri": "https://localhost:8080/"
        },
        "id": "8o6xuIIhLTor",
        "outputId": "70b3df02-eeb0-474d-b6b9-9c90c08cf9f1"
      },
      "outputs": [
        {
          "output_type": "execute_result",
          "data": {
            "text/plain": [
              "(5572, 4)"
            ]
          },
          "metadata": {},
          "execution_count": 4
        }
      ],
      "source": [
        "data.shape"
      ]
    },
    {
      "cell_type": "code",
      "execution_count": null,
      "metadata": {
        "colab": {
          "base_uri": "https://localhost:8080/"
        },
        "id": "fRlsZA51LWn1",
        "outputId": "3cb7888b-8789-4289-fc40-0aee65a7f8f0"
      },
      "outputs": [
        {
          "output_type": "execute_result",
          "data": {
            "text/plain": [
              "label      0\n",
              "message    0\n",
              "length     0\n",
              "punct      0\n",
              "dtype: int64"
            ]
          },
          "metadata": {},
          "execution_count": 5
        }
      ],
      "source": [
        "data.isnull().sum()"
      ]
    },
    {
      "cell_type": "code",
      "execution_count": null,
      "metadata": {
        "id": "Q1h7yInFLclF"
      },
      "outputs": [],
      "source": [
        "# spliting the data to training and test data to avoid data leakage\n",
        "from sklearn.model_selection import train_test_split\n",
        "\n",
        "x_train,x_test,y_train,y_test=train_test_split(data[\"message\"],data[\"label\"],stratify=data[\"label\"],test_size=0.2,random_state=42)"
      ]
    },
    {
      "cell_type": "code",
      "execution_count": null,
      "metadata": {
        "colab": {
          "base_uri": "https://localhost:8080/"
        },
        "id": "fVKrFhK3OHhh",
        "outputId": "40c8e33c-5947-488f-cb36-c3d4478187d4"
      },
      "outputs": [
        {
          "output_type": "execute_result",
          "data": {
            "text/plain": [
              "184                              He will, you guys close?\n",
              "2171    CAN I PLEASE COME UP NOW IMIN TOWN.DONTMATTER ...\n",
              "5422              Ok k..sry i knw 2 siva..tats y i askd..\n",
              "4113                            I'll see, but prolly yeah\n",
              "4588    I'll see if I can swing by in a bit, got some ...\n",
              "Name: message, dtype: object"
            ]
          },
          "metadata": {},
          "execution_count": 7
        }
      ],
      "source": [
        "x_train.head()"
      ]
    },
    {
      "cell_type": "code",
      "execution_count": null,
      "metadata": {
        "colab": {
          "base_uri": "https://localhost:8080/"
        },
        "id": "2JuzAMDMOM48",
        "outputId": "ae9d3dd4-f8a0-4529-93c6-f3a3778fdd94"
      },
      "outputs": [
        {
          "output_type": "execute_result",
          "data": {
            "text/plain": [
              "(4457,)"
            ]
          },
          "metadata": {},
          "execution_count": 8
        }
      ],
      "source": [
        "x_train.shape"
      ]
    },
    {
      "cell_type": "code",
      "execution_count": null,
      "metadata": {
        "id": "j9p1zL5mLEgk"
      },
      "outputs": [],
      "source": [
        ""
      ]
    },
    {
      "cell_type": "code",
      "execution_count": null,
      "metadata": {
        "colab": {
          "base_uri": "https://localhost:8080/"
        },
        "id": "I2NU4J5DOUcZ",
        "outputId": "12500484-07e6-4c80-f8a6-6ce03233bba7"
      },
      "outputs": [
        {
          "output_type": "execute_result",
          "data": {
            "text/plain": [
              "ham     0.865829\n",
              "spam    0.134171\n",
              "Name: label, dtype: float64"
            ]
          },
          "metadata": {},
          "execution_count": 9
        }
      ],
      "source": [
        "y_train.value_counts(normalize=True)"
      ]
    },
    {
      "cell_type": "code",
      "execution_count": null,
      "metadata": {
        "colab": {
          "base_uri": "https://localhost:8080/"
        },
        "id": "ZZ1uMIIO_1rK",
        "outputId": "409247c2-7805-430f-ab97-3c8d7e55d467"
      },
      "outputs": [
        {
          "output_type": "execute_result",
          "data": {
            "text/plain": [
              "ham     3859\n",
              "spam     598\n",
              "Name: label, dtype: int64"
            ]
          },
          "metadata": {},
          "execution_count": 10
        }
      ],
      "source": [
        "y_train.value_counts()"
      ]
    },
    {
      "cell_type": "markdown",
      "metadata": {
        "id": "-t3LTv3lOsJk"
      },
      "source": [
        "#### this above infomation shows the data is imbalanced"
      ]
    },
    {
      "cell_type": "markdown",
      "metadata": {
        "id": "ZhvnrJYePDcX"
      },
      "source": [
        "# DATA EXPLORATION\n",
        "\n",
        "1. Word counts\n",
        "\n",
        "2. Stop words count\n",
        "\n",
        "3. Upper case word count\n",
        "\n",
        "4. Numeric data check"
      ]
    },
    {
      "cell_type": "code",
      "execution_count": null,
      "metadata": {
        "id": "O4j8Tf6OObyd"
      },
      "outputs": [],
      "source": [
        "train_data=pd.concat([x_train,y_train],axis=1)"
      ]
    },
    {
      "cell_type": "code",
      "execution_count": null,
      "metadata": {
        "id": "L7R8dx1-LJnY"
      },
      "outputs": [],
      "source": [
        "ham=train_data[train_data[\"label\"]==\"ham\"].sample(2000)"
      ]
    },
    {
      "cell_type": "code",
      "source": [
        "ham"
      ],
      "metadata": {
        "colab": {
          "base_uri": "https://localhost:8080/",
          "height": 424
        },
        "id": "gYWCATiLSbge",
        "outputId": "721f3ba1-d9aa-4e84-d890-f9ee44818785"
      },
      "execution_count": null,
      "outputs": [
        {
          "output_type": "execute_result",
          "data": {
            "text/plain": [
              "                                                message label\n",
              "4631          Everybody had fun this evening. Miss you.   ham\n",
              "4250     Loosu go to hospital. De dont let it careless.   ham\n",
              "2062  Hey ! I want you ! I crave you ! I miss you ! ...   ham\n",
              "2797  Tell your friends what you plan to do on Valen...   ham\n",
              "1676  Painful words- \"I thought being Happy was the ...   ham\n",
              "...                                                 ...   ...\n",
              "3103   Even if he my friend he is a priest call him now   ham\n",
              "5371             Lol, oh you got a friend for the dog ?   ham\n",
              "3740                         Did you stitch his trouser   ham\n",
              "1664                        S but mostly not like that.   ham\n",
              "4416  Yeah I should be able to, I'll text you when I...   ham\n",
              "\n",
              "[2000 rows x 2 columns]"
            ],
            "text/html": [
              "\n",
              "  <div id=\"df-a21bbaf6-d6e6-4c1b-b3a3-886f98942db6\">\n",
              "    <div class=\"colab-df-container\">\n",
              "      <div>\n",
              "<style scoped>\n",
              "    .dataframe tbody tr th:only-of-type {\n",
              "        vertical-align: middle;\n",
              "    }\n",
              "\n",
              "    .dataframe tbody tr th {\n",
              "        vertical-align: top;\n",
              "    }\n",
              "\n",
              "    .dataframe thead th {\n",
              "        text-align: right;\n",
              "    }\n",
              "</style>\n",
              "<table border=\"1\" class=\"dataframe\">\n",
              "  <thead>\n",
              "    <tr style=\"text-align: right;\">\n",
              "      <th></th>\n",
              "      <th>message</th>\n",
              "      <th>label</th>\n",
              "    </tr>\n",
              "  </thead>\n",
              "  <tbody>\n",
              "    <tr>\n",
              "      <th>4631</th>\n",
              "      <td>Everybody had fun this evening. Miss you.</td>\n",
              "      <td>ham</td>\n",
              "    </tr>\n",
              "    <tr>\n",
              "      <th>4250</th>\n",
              "      <td>Loosu go to hospital. De dont let it careless.</td>\n",
              "      <td>ham</td>\n",
              "    </tr>\n",
              "    <tr>\n",
              "      <th>2062</th>\n",
              "      <td>Hey ! I want you ! I crave you ! I miss you ! ...</td>\n",
              "      <td>ham</td>\n",
              "    </tr>\n",
              "    <tr>\n",
              "      <th>2797</th>\n",
              "      <td>Tell your friends what you plan to do on Valen...</td>\n",
              "      <td>ham</td>\n",
              "    </tr>\n",
              "    <tr>\n",
              "      <th>1676</th>\n",
              "      <td>Painful words- \"I thought being Happy was the ...</td>\n",
              "      <td>ham</td>\n",
              "    </tr>\n",
              "    <tr>\n",
              "      <th>...</th>\n",
              "      <td>...</td>\n",
              "      <td>...</td>\n",
              "    </tr>\n",
              "    <tr>\n",
              "      <th>3103</th>\n",
              "      <td>Even if he my friend he is a priest call him now</td>\n",
              "      <td>ham</td>\n",
              "    </tr>\n",
              "    <tr>\n",
              "      <th>5371</th>\n",
              "      <td>Lol, oh you got a friend for the dog ?</td>\n",
              "      <td>ham</td>\n",
              "    </tr>\n",
              "    <tr>\n",
              "      <th>3740</th>\n",
              "      <td>Did you stitch his trouser</td>\n",
              "      <td>ham</td>\n",
              "    </tr>\n",
              "    <tr>\n",
              "      <th>1664</th>\n",
              "      <td>S but mostly not like that.</td>\n",
              "      <td>ham</td>\n",
              "    </tr>\n",
              "    <tr>\n",
              "      <th>4416</th>\n",
              "      <td>Yeah I should be able to, I'll text you when I...</td>\n",
              "      <td>ham</td>\n",
              "    </tr>\n",
              "  </tbody>\n",
              "</table>\n",
              "<p>2000 rows × 2 columns</p>\n",
              "</div>\n",
              "      <button class=\"colab-df-convert\" onclick=\"convertToInteractive('df-a21bbaf6-d6e6-4c1b-b3a3-886f98942db6')\"\n",
              "              title=\"Convert this dataframe to an interactive table.\"\n",
              "              style=\"display:none;\">\n",
              "        \n",
              "  <svg xmlns=\"http://www.w3.org/2000/svg\" height=\"24px\"viewBox=\"0 0 24 24\"\n",
              "       width=\"24px\">\n",
              "    <path d=\"M0 0h24v24H0V0z\" fill=\"none\"/>\n",
              "    <path d=\"M18.56 5.44l.94 2.06.94-2.06 2.06-.94-2.06-.94-.94-2.06-.94 2.06-2.06.94zm-11 1L8.5 8.5l.94-2.06 2.06-.94-2.06-.94L8.5 2.5l-.94 2.06-2.06.94zm10 10l.94 2.06.94-2.06 2.06-.94-2.06-.94-.94-2.06-.94 2.06-2.06.94z\"/><path d=\"M17.41 7.96l-1.37-1.37c-.4-.4-.92-.59-1.43-.59-.52 0-1.04.2-1.43.59L10.3 9.45l-7.72 7.72c-.78.78-.78 2.05 0 2.83L4 21.41c.39.39.9.59 1.41.59.51 0 1.02-.2 1.41-.59l7.78-7.78 2.81-2.81c.8-.78.8-2.07 0-2.86zM5.41 20L4 18.59l7.72-7.72 1.47 1.35L5.41 20z\"/>\n",
              "  </svg>\n",
              "      </button>\n",
              "      \n",
              "  <style>\n",
              "    .colab-df-container {\n",
              "      display:flex;\n",
              "      flex-wrap:wrap;\n",
              "      gap: 12px;\n",
              "    }\n",
              "\n",
              "    .colab-df-convert {\n",
              "      background-color: #E8F0FE;\n",
              "      border: none;\n",
              "      border-radius: 50%;\n",
              "      cursor: pointer;\n",
              "      display: none;\n",
              "      fill: #1967D2;\n",
              "      height: 32px;\n",
              "      padding: 0 0 0 0;\n",
              "      width: 32px;\n",
              "    }\n",
              "\n",
              "    .colab-df-convert:hover {\n",
              "      background-color: #E2EBFA;\n",
              "      box-shadow: 0px 1px 2px rgba(60, 64, 67, 0.3), 0px 1px 3px 1px rgba(60, 64, 67, 0.15);\n",
              "      fill: #174EA6;\n",
              "    }\n",
              "\n",
              "    [theme=dark] .colab-df-convert {\n",
              "      background-color: #3B4455;\n",
              "      fill: #D2E3FC;\n",
              "    }\n",
              "\n",
              "    [theme=dark] .colab-df-convert:hover {\n",
              "      background-color: #434B5C;\n",
              "      box-shadow: 0px 1px 3px 1px rgba(0, 0, 0, 0.15);\n",
              "      filter: drop-shadow(0px 1px 2px rgba(0, 0, 0, 0.3));\n",
              "      fill: #FFFFFF;\n",
              "    }\n",
              "  </style>\n",
              "\n",
              "      <script>\n",
              "        const buttonEl =\n",
              "          document.querySelector('#df-a21bbaf6-d6e6-4c1b-b3a3-886f98942db6 button.colab-df-convert');\n",
              "        buttonEl.style.display =\n",
              "          google.colab.kernel.accessAllowed ? 'block' : 'none';\n",
              "\n",
              "        async function convertToInteractive(key) {\n",
              "          const element = document.querySelector('#df-a21bbaf6-d6e6-4c1b-b3a3-886f98942db6');\n",
              "          const dataTable =\n",
              "            await google.colab.kernel.invokeFunction('convertToInteractive',\n",
              "                                                     [key], {});\n",
              "          if (!dataTable) return;\n",
              "\n",
              "          const docLinkHtml = 'Like what you see? Visit the ' +\n",
              "            '<a target=\"_blank\" href=https://colab.research.google.com/notebooks/data_table.ipynb>data table notebook</a>'\n",
              "            + ' to learn more about interactive tables.';\n",
              "          element.innerHTML = '';\n",
              "          dataTable['output_type'] = 'display_data';\n",
              "          await google.colab.output.renderOutput(dataTable, element);\n",
              "          const docLink = document.createElement('div');\n",
              "          docLink.innerHTML = docLinkHtml;\n",
              "          element.appendChild(docLink);\n",
              "        }\n",
              "      </script>\n",
              "    </div>\n",
              "  </div>\n",
              "  "
            ]
          },
          "metadata": {},
          "execution_count": 13
        }
      ]
    },
    {
      "cell_type": "code",
      "execution_count": null,
      "metadata": {
        "id": "jBI-wlKuLXI1"
      },
      "outputs": [],
      "source": [
        "spam=train_data[train_data[\"label\"]==\"spam\"]"
      ]
    },
    {
      "cell_type": "code",
      "execution_count": null,
      "metadata": {
        "id": "eICMUbjiLlkC"
      },
      "outputs": [],
      "source": [
        "train_data=pd.concat([ham,spam],axis=0)"
      ]
    },
    {
      "cell_type": "code",
      "execution_count": null,
      "metadata": {
        "colab": {
          "base_uri": "https://localhost:8080/",
          "height": 206
        },
        "id": "VPRZLUrPQtYh",
        "outputId": "2e8cf6cf-ab46-40a4-ca8b-dbdddf2b6564"
      },
      "outputs": [
        {
          "output_type": "execute_result",
          "data": {
            "text/plain": [
              "                                                message label\n",
              "4631          Everybody had fun this evening. Miss you.   ham\n",
              "4250     Loosu go to hospital. De dont let it careless.   ham\n",
              "2062  Hey ! I want you ! I crave you ! I miss you ! ...   ham\n",
              "2797  Tell your friends what you plan to do on Valen...   ham\n",
              "1676  Painful words- \"I thought being Happy was the ...   ham"
            ],
            "text/html": [
              "\n",
              "  <div id=\"df-9cd2b477-e1d7-4cf1-a2cc-934aaa507234\">\n",
              "    <div class=\"colab-df-container\">\n",
              "      <div>\n",
              "<style scoped>\n",
              "    .dataframe tbody tr th:only-of-type {\n",
              "        vertical-align: middle;\n",
              "    }\n",
              "\n",
              "    .dataframe tbody tr th {\n",
              "        vertical-align: top;\n",
              "    }\n",
              "\n",
              "    .dataframe thead th {\n",
              "        text-align: right;\n",
              "    }\n",
              "</style>\n",
              "<table border=\"1\" class=\"dataframe\">\n",
              "  <thead>\n",
              "    <tr style=\"text-align: right;\">\n",
              "      <th></th>\n",
              "      <th>message</th>\n",
              "      <th>label</th>\n",
              "    </tr>\n",
              "  </thead>\n",
              "  <tbody>\n",
              "    <tr>\n",
              "      <th>4631</th>\n",
              "      <td>Everybody had fun this evening. Miss you.</td>\n",
              "      <td>ham</td>\n",
              "    </tr>\n",
              "    <tr>\n",
              "      <th>4250</th>\n",
              "      <td>Loosu go to hospital. De dont let it careless.</td>\n",
              "      <td>ham</td>\n",
              "    </tr>\n",
              "    <tr>\n",
              "      <th>2062</th>\n",
              "      <td>Hey ! I want you ! I crave you ! I miss you ! ...</td>\n",
              "      <td>ham</td>\n",
              "    </tr>\n",
              "    <tr>\n",
              "      <th>2797</th>\n",
              "      <td>Tell your friends what you plan to do on Valen...</td>\n",
              "      <td>ham</td>\n",
              "    </tr>\n",
              "    <tr>\n",
              "      <th>1676</th>\n",
              "      <td>Painful words- \"I thought being Happy was the ...</td>\n",
              "      <td>ham</td>\n",
              "    </tr>\n",
              "  </tbody>\n",
              "</table>\n",
              "</div>\n",
              "      <button class=\"colab-df-convert\" onclick=\"convertToInteractive('df-9cd2b477-e1d7-4cf1-a2cc-934aaa507234')\"\n",
              "              title=\"Convert this dataframe to an interactive table.\"\n",
              "              style=\"display:none;\">\n",
              "        \n",
              "  <svg xmlns=\"http://www.w3.org/2000/svg\" height=\"24px\"viewBox=\"0 0 24 24\"\n",
              "       width=\"24px\">\n",
              "    <path d=\"M0 0h24v24H0V0z\" fill=\"none\"/>\n",
              "    <path d=\"M18.56 5.44l.94 2.06.94-2.06 2.06-.94-2.06-.94-.94-2.06-.94 2.06-2.06.94zm-11 1L8.5 8.5l.94-2.06 2.06-.94-2.06-.94L8.5 2.5l-.94 2.06-2.06.94zm10 10l.94 2.06.94-2.06 2.06-.94-2.06-.94-.94-2.06-.94 2.06-2.06.94z\"/><path d=\"M17.41 7.96l-1.37-1.37c-.4-.4-.92-.59-1.43-.59-.52 0-1.04.2-1.43.59L10.3 9.45l-7.72 7.72c-.78.78-.78 2.05 0 2.83L4 21.41c.39.39.9.59 1.41.59.51 0 1.02-.2 1.41-.59l7.78-7.78 2.81-2.81c.8-.78.8-2.07 0-2.86zM5.41 20L4 18.59l7.72-7.72 1.47 1.35L5.41 20z\"/>\n",
              "  </svg>\n",
              "      </button>\n",
              "      \n",
              "  <style>\n",
              "    .colab-df-container {\n",
              "      display:flex;\n",
              "      flex-wrap:wrap;\n",
              "      gap: 12px;\n",
              "    }\n",
              "\n",
              "    .colab-df-convert {\n",
              "      background-color: #E8F0FE;\n",
              "      border: none;\n",
              "      border-radius: 50%;\n",
              "      cursor: pointer;\n",
              "      display: none;\n",
              "      fill: #1967D2;\n",
              "      height: 32px;\n",
              "      padding: 0 0 0 0;\n",
              "      width: 32px;\n",
              "    }\n",
              "\n",
              "    .colab-df-convert:hover {\n",
              "      background-color: #E2EBFA;\n",
              "      box-shadow: 0px 1px 2px rgba(60, 64, 67, 0.3), 0px 1px 3px 1px rgba(60, 64, 67, 0.15);\n",
              "      fill: #174EA6;\n",
              "    }\n",
              "\n",
              "    [theme=dark] .colab-df-convert {\n",
              "      background-color: #3B4455;\n",
              "      fill: #D2E3FC;\n",
              "    }\n",
              "\n",
              "    [theme=dark] .colab-df-convert:hover {\n",
              "      background-color: #434B5C;\n",
              "      box-shadow: 0px 1px 3px 1px rgba(0, 0, 0, 0.15);\n",
              "      filter: drop-shadow(0px 1px 2px rgba(0, 0, 0, 0.3));\n",
              "      fill: #FFFFFF;\n",
              "    }\n",
              "  </style>\n",
              "\n",
              "      <script>\n",
              "        const buttonEl =\n",
              "          document.querySelector('#df-9cd2b477-e1d7-4cf1-a2cc-934aaa507234 button.colab-df-convert');\n",
              "        buttonEl.style.display =\n",
              "          google.colab.kernel.accessAllowed ? 'block' : 'none';\n",
              "\n",
              "        async function convertToInteractive(key) {\n",
              "          const element = document.querySelector('#df-9cd2b477-e1d7-4cf1-a2cc-934aaa507234');\n",
              "          const dataTable =\n",
              "            await google.colab.kernel.invokeFunction('convertToInteractive',\n",
              "                                                     [key], {});\n",
              "          if (!dataTable) return;\n",
              "\n",
              "          const docLinkHtml = 'Like what you see? Visit the ' +\n",
              "            '<a target=\"_blank\" href=https://colab.research.google.com/notebooks/data_table.ipynb>data table notebook</a>'\n",
              "            + ' to learn more about interactive tables.';\n",
              "          element.innerHTML = '';\n",
              "          dataTable['output_type'] = 'display_data';\n",
              "          await google.colab.output.renderOutput(dataTable, element);\n",
              "          const docLink = document.createElement('div');\n",
              "          docLink.innerHTML = docLinkHtml;\n",
              "          element.appendChild(docLink);\n",
              "        }\n",
              "      </script>\n",
              "    </div>\n",
              "  </div>\n",
              "  "
            ]
          },
          "metadata": {},
          "execution_count": 16
        }
      ],
      "source": [
        "train_data.head()"
      ]
    },
    {
      "cell_type": "code",
      "execution_count": null,
      "metadata": {
        "colab": {
          "base_uri": "https://localhost:8080/",
          "height": 300
        },
        "id": "sXGqFAF7Lzkp",
        "outputId": "4360f4a3-5547-4b29-c049-1bda6181af22"
      },
      "outputs": [
        {
          "output_type": "execute_result",
          "data": {
            "text/plain": [
              "<matplotlib.axes._subplots.AxesSubplot at 0x7f5ece129210>"
            ]
          },
          "metadata": {},
          "execution_count": 17
        },
        {
          "output_type": "display_data",
          "data": {
            "text/plain": [
              "<Figure size 432x288 with 1 Axes>"
            ],
            "image/png": "[encoded data removed]"
          },
          "metadata": {
            "needs_background": "light"
          }
        }
      ],
      "source": [
        "train_data[\"label\"].value_counts().plot(kind=\"bar\")"
      ]
    },
    {
      "cell_type": "code",
      "execution_count": null,
      "metadata": {
        "id": "yBAfyXEuRftv"
      },
      "outputs": [],
      "source": [
        "from nltk.corpus import stopwords"
      ]
    },
    {
      "cell_type": "code",
      "execution_count": null,
      "metadata": {
        "colab": {
          "base_uri": "https://localhost:8080/"
        },
        "id": "RJ7HJnXuRmd6",
        "outputId": "e7a1b526-2e6c-4740-f53b-49f5b423f6a1"
      },
      "outputs": [
        {
          "output_type": "stream",
          "name": "stderr",
          "text": [
            "[nltk_data] Downloading package stopwords to /root/nltk_data...\n",
            "[nltk_data]   Unzipping corpora/stopwords.zip.\n"
          ]
        }
      ],
      "source": [
        "\n",
        "import nltk\n",
        "nltk.download('stopwords')\n",
        "stop=list(stopwords.words(\"english\"))"
      ]
    },
    {
      "cell_type": "code",
      "execution_count": null,
      "metadata": {
        "id": "iXzq4ouLQ17r"
      },
      "outputs": [],
      "source": [
        "import re\n",
        "\n",
        "def word_count(message):\n",
        "\n",
        "  return len(message.split())\n",
        "\n",
        "def stop_words(message):\n",
        "\n",
        "  return len([word for word in message.split() if word in stop])\n",
        "\n",
        "\n",
        "def digit_count(message):\n",
        "  pattern=re.compile(\" \\d+ \")\n",
        "\n",
        "  return len(pattern.findall(message))\n",
        "\n",
        " \n",
        "def upper_case(message):\n",
        "\n",
        "  return len([word for word in message.split() if word.isupper() and len(word)>1])\n",
        "\n",
        "  \n",
        "\n",
        "\n",
        "\n",
        "\n"
      ]
    },
    {
      "cell_type": "code",
      "execution_count": null,
      "metadata": {
        "id": "I_vzbem-Ux2z"
      },
      "outputs": [],
      "source": [
        "train_data[\"word_count\"]=train_data[\"message\"].apply(word_count)\n",
        "\n",
        "train_data[\"stop_words_count\"]=train_data[\"message\"].apply(stop_words)\n",
        "\n",
        "train_data[\"digit_count\"]=train_data[\"message\"].apply(digit_count)\n",
        "\n",
        "train_data[\"upper_case_count\"]=train_data[\"message\"].apply(upper_case)"
      ]
    },
    {
      "cell_type": "code",
      "execution_count": null,
      "metadata": {
        "colab": {
          "base_uri": "https://localhost:8080/",
          "height": 206
        },
        "id": "AGSxodboVdfW",
        "outputId": "2af046c9-0bc5-4f13-efc1-609c25c73474"
      },
      "outputs": [
        {
          "output_type": "execute_result",
          "data": {
            "text/plain": [
              "                                                message label  word_count  \\\n",
              "4631          Everybody had fun this evening. Miss you.   ham           7   \n",
              "4250     Loosu go to hospital. De dont let it careless.   ham           9   \n",
              "2062  Hey ! I want you ! I crave you ! I miss you ! ...   ham          26   \n",
              "2797  Tell your friends what you plan to do on Valen...   ham          13   \n",
              "1676  Painful words- \"I thought being Happy was the ...   ham          24   \n",
              "\n",
              "      stop_words_count  digit_count  upper_case_count  \n",
              "4631                 2            0                 0  \n",
              "4250                 2            0                 0  \n",
              "2062                 4            0                 0  \n",
              "2797                 6            0                 0  \n",
              "1676                 9            0                 1  "
            ],
            "text/html": [
              "\n",
              "  <div id=\"df-f7e73432-350b-4801-8965-2a714c28a23d\">\n",
              "    <div class=\"colab-df-container\">\n",
              "      <div>\n",
              "<style scoped>\n",
              "    .dataframe tbody tr th:only-of-type {\n",
              "        vertical-align: middle;\n",
              "    }\n",
              "\n",
              "    .dataframe tbody tr th {\n",
              "        vertical-align: top;\n",
              "    }\n",
              "\n",
              "    .dataframe thead th {\n",
              "        text-align: right;\n",
              "    }\n",
              "</style>\n",
              "<table border=\"1\" class=\"dataframe\">\n",
              "  <thead>\n",
              "    <tr style=\"text-align: right;\">\n",
              "      <th></th>\n",
              "      <th>message</th>\n",
              "      <th>label</th>\n",
              "      <th>word_count</th>\n",
              "      <th>stop_words_count</th>\n",
              "      <th>digit_count</th>\n",
              "      <th>upper_case_count</th>\n",
              "    </tr>\n",
              "  </thead>\n",
              "  <tbody>\n",
              "    <tr>\n",
              "      <th>4631</th>\n",
              "      <td>Everybody had fun this evening. Miss you.</td>\n",
              "      <td>ham</td>\n",
              "      <td>7</td>\n",
              "      <td>2</td>\n",
              "      <td>0</td>\n",
              "      <td>0</td>\n",
              "    </tr>\n",
              "    <tr>\n",
              "      <th>4250</th>\n",
              "      <td>Loosu go to hospital. De dont let it careless.</td>\n",
              "      <td>ham</td>\n",
              "      <td>9</td>\n",
              "      <td>2</td>\n",
              "      <td>0</td>\n",
              "      <td>0</td>\n",
              "    </tr>\n",
              "    <tr>\n",
              "      <th>2062</th>\n",
              "      <td>Hey ! I want you ! I crave you ! I miss you ! ...</td>\n",
              "      <td>ham</td>\n",
              "      <td>26</td>\n",
              "      <td>4</td>\n",
              "      <td>0</td>\n",
              "      <td>0</td>\n",
              "    </tr>\n",
              "    <tr>\n",
              "      <th>2797</th>\n",
              "      <td>Tell your friends what you plan to do on Valen...</td>\n",
              "      <td>ham</td>\n",
              "      <td>13</td>\n",
              "      <td>6</td>\n",
              "      <td>0</td>\n",
              "      <td>0</td>\n",
              "    </tr>\n",
              "    <tr>\n",
              "      <th>1676</th>\n",
              "      <td>Painful words- \"I thought being Happy was the ...</td>\n",
              "      <td>ham</td>\n",
              "      <td>24</td>\n",
              "      <td>9</td>\n",
              "      <td>0</td>\n",
              "      <td>1</td>\n",
              "    </tr>\n",
              "  </tbody>\n",
              "</table>\n",
              "</div>\n",
              "      <button class=\"colab-df-convert\" onclick=\"convertToInteractive('df-f7e73432-350b-4801-8965-2a714c28a23d')\"\n",
              "              title=\"Convert this dataframe to an interactive table.\"\n",
              "              style=\"display:none;\">\n",
              "        \n",
              "  <svg xmlns=\"http://www.w3.org/2000/svg\" height=\"24px\"viewBox=\"0 0 24 24\"\n",
              "       width=\"24px\">\n",
              "    <path d=\"M0 0h24v24H0V0z\" fill=\"none\"/>\n",
              "    <path d=\"M18.56 5.44l.94 2.06.94-2.06 2.06-.94-2.06-.94-.94-2.06-.94 2.06-2.06.94zm-11 1L8.5 8.5l.94-2.06 2.06-.94-2.06-.94L8.5 2.5l-.94 2.06-2.06.94zm10 10l.94 2.06.94-2.06 2.06-.94-2.06-.94-.94-2.06-.94 2.06-2.06.94z\"/><path d=\"M17.41 7.96l-1.37-1.37c-.4-.4-.92-.59-1.43-.59-.52 0-1.04.2-1.43.59L10.3 9.45l-7.72 7.72c-.78.78-.78 2.05 0 2.83L4 21.41c.39.39.9.59 1.41.59.51 0 1.02-.2 1.41-.59l7.78-7.78 2.81-2.81c.8-.78.8-2.07 0-2.86zM5.41 20L4 18.59l7.72-7.72 1.47 1.35L5.41 20z\"/>\n",
              "  </svg>\n",
              "      </button>\n",
              "      \n",
              "  <style>\n",
              "    .colab-df-container {\n",
              "      display:flex;\n",
              "      flex-wrap:wrap;\n",
              "      gap: 12px;\n",
              "    }\n",
              "\n",
              "    .colab-df-convert {\n",
              "      background-color: #E8F0FE;\n",
              "      border: none;\n",
              "      border-radius: 50%;\n",
              "      cursor: pointer;\n",
              "      display: none;\n",
              "      fill: #1967D2;\n",
              "      height: 32px;\n",
              "      padding: 0 0 0 0;\n",
              "      width: 32px;\n",
              "    }\n",
              "\n",
              "    .colab-df-convert:hover {\n",
              "      background-color: #E2EBFA;\n",
              "      box-shadow: 0px 1px 2px rgba(60, 64, 67, 0.3), 0px 1px 3px 1px rgba(60, 64, 67, 0.15);\n",
              "      fill: #174EA6;\n",
              "    }\n",
              "\n",
              "    [theme=dark] .colab-df-convert {\n",
              "      background-color: #3B4455;\n",
              "      fill: #D2E3FC;\n",
              "    }\n",
              "\n",
              "    [theme=dark] .colab-df-convert:hover {\n",
              "      background-color: #434B5C;\n",
              "      box-shadow: 0px 1px 3px 1px rgba(0, 0, 0, 0.15);\n",
              "      filter: drop-shadow(0px 1px 2px rgba(0, 0, 0, 0.3));\n",
              "      fill: #FFFFFF;\n",
              "    }\n",
              "  </style>\n",
              "\n",
              "      <script>\n",
              "        const buttonEl =\n",
              "          document.querySelector('#df-f7e73432-350b-4801-8965-2a714c28a23d button.colab-df-convert');\n",
              "        buttonEl.style.display =\n",
              "          google.colab.kernel.accessAllowed ? 'block' : 'none';\n",
              "\n",
              "        async function convertToInteractive(key) {\n",
              "          const element = document.querySelector('#df-f7e73432-350b-4801-8965-2a714c28a23d');\n",
              "          const dataTable =\n",
              "            await google.colab.kernel.invokeFunction('convertToInteractive',\n",
              "                                                     [key], {});\n",
              "          if (!dataTable) return;\n",
              "\n",
              "          const docLinkHtml = 'Like what you see? Visit the ' +\n",
              "            '<a target=\"_blank\" href=https://colab.research.google.com/notebooks/data_table.ipynb>data table notebook</a>'\n",
              "            + ' to learn more about interactive tables.';\n",
              "          element.innerHTML = '';\n",
              "          dataTable['output_type'] = 'display_data';\n",
              "          await google.colab.output.renderOutput(dataTable, element);\n",
              "          const docLink = document.createElement('div');\n",
              "          docLink.innerHTML = docLinkHtml;\n",
              "          element.appendChild(docLink);\n",
              "        }\n",
              "      </script>\n",
              "    </div>\n",
              "  </div>\n",
              "  "
            ]
          },
          "metadata": {},
          "execution_count": 22
        }
      ],
      "source": [
        "train_data.head()"
      ]
    },
    {
      "cell_type": "markdown",
      "metadata": {
        "id": "5TTuElPhXsFj"
      },
      "source": [
        "# CLEANING AND PREPROCESSING\n",
        "\n",
        "1. Contraction to expansion\n",
        "\n",
        "2. tokenization\n",
        "\n",
        "3. punctuation removal\n",
        "\n",
        "4. stop words removal\n",
        "\n",
        "5. lemmatization\n",
        "\n",
        "6. word correction\n",
        "\n",
        "7. word lowering \n",
        "\n",
        " \n",
        "\n"
      ]
    },
    {
      "cell_type": "code",
      "execution_count": null,
      "metadata": {
        "id": "iwFJ9VzBfdDU"
      },
      "outputs": [],
      "source": [
        "from textblob import TextBlob,Word\n",
        "import spacy\n",
        "import string\n",
        "puctuation=string.punctuation\n",
        "nlp=nlp=spacy.load(\"en_core_web_sm\")"
      ]
    },
    {
      "cell_type": "code",
      "execution_count": null,
      "metadata": {
        "id": "xbG55AwAXU7O"
      },
      "outputs": [],
      "source": [
        "\n",
        "\n",
        "def clean(message):\n",
        "\n",
        "  expansion=contractions.fix(message,slang=True)\n",
        "\n",
        "  punctuation_pattern=re.compile(\"[punctuation]+ \")\n",
        "\n",
        "  expansion=punctuation_pattern.sub(\"\",expansion)\n",
        "\n",
        "  message=\" \".join(expansion.split())\n",
        "\n",
        "  message=message.lower()\n",
        "\n",
        "  message=str(TextBlob(message).correct())\n",
        "\n",
        "  message=\" \".join([str(nlp(doc)[0].lemma_) for doc in message.split()])\n",
        "\n",
        "  message=\" \".join([word for word in message.split() if word not in stop])\n",
        "\n",
        "  return message\n",
        "\n",
        "   "
      ]
    },
    {
      "cell_type": "code",
      "execution_count": null,
      "metadata": {
        "colab": {
          "base_uri": "https://localhost:8080/"
        },
        "id": "_ImKA-thZsFU",
        "outputId": "749b8425-d631-4edc-b91a-50fb305ad952"
      },
      "outputs": [
        {
          "output_type": "stream",
          "name": "stdout",
          "text": [
            "CPU times: user 26min 3s, sys: 3.96 s, total: 26min 7s\n",
            "Wall time: 26min 16s\n"
          ]
        }
      ],
      "source": [
        "\n",
        "%%time\n",
        "train_data[\"cleaned\"]=train_data[\"message\"].apply(clean)"
      ]
    },
    {
      "cell_type": "code",
      "execution_count": null,
      "metadata": {
        "colab": {
          "base_uri": "https://localhost:8080/"
        },
        "id": "Y7espLWHZwt7",
        "outputId": "03e61809-38b3-4b66-95eb-41264ff972ab"
      },
      "outputs": [
        {
          "output_type": "execute_result",
          "data": {
            "text/plain": [
              "                                                message label  word_count  \\\n",
              "4631          Everybody had fun this evening. Miss you.   ham           7   \n",
              "4250     Loosu go to hospital. De dont let it careless.   ham           9   \n",
              "2062  Hey ! I want you ! I crave you ! I miss you ! ...   ham          26   \n",
              "2797  Tell your friends what you plan to do on Valen...   ham          13   \n",
              "1676  Painful words- \"I thought being Happy was the ...   ham          24   \n",
              "\n",
              "      stop_words_count  digit_count  upper_case_count  \\\n",
              "4631                 2            0                 0   \n",
              "4250                 2            0                 0   \n",
              "2062                 4            0                 0   \n",
              "2797                 6            0                 0   \n",
              "1676                 9            0                 1   \n",
              "\n",
              "                                                cleaned  \n",
              "4631                             everybody evening miss  \n",
              "4250                       loosghospital de dlecareless  \n",
              "2062  hey ! I I grave I miss I need I love ahead sav...  \n",
              "2797                tell friend whypldvalentine day @ &  \n",
              "1676  painful words- \" thoughbee happy mostoughesthe...  "
            ],
            "text/html": [
              "\n",
              "  <div id=\"df-65ad7792-f01d-4d29-a93a-2fd16e58b923\">\n",
              "    <div class=\"colab-df-container\">\n",
              "      <div>\n",
              "<style scoped>\n",
              "    .dataframe tbody tr th:only-of-type {\n",
              "        vertical-align: middle;\n",
              "    }\n",
              "\n",
              "    .dataframe tbody tr th {\n",
              "        vertical-align: top;\n",
              "    }\n",
              "\n",
              "    .dataframe thead th {\n",
              "        text-align: right;\n",
              "    }\n",
              "</style>\n",
              "<table border=\"1\" class=\"dataframe\">\n",
              "  <thead>\n",
              "    <tr style=\"text-align: right;\">\n",
              "      <th></th>\n",
              "      <th>message</th>\n",
              "      <th>label</th>\n",
              "      <th>word_count</th>\n",
              "      <th>stop_words_count</th>\n",
              "      <th>digit_count</th>\n",
              "      <th>upper_case_count</th>\n",
              "      <th>cleaned</th>\n",
              "    </tr>\n",
              "  </thead>\n",
              "  <tbody>\n",
              "    <tr>\n",
              "      <th>4631</th>\n",
              "      <td>Everybody had fun this evening. Miss you.</td>\n",
              "      <td>ham</td>\n",
              "      <td>7</td>\n",
              "      <td>2</td>\n",
              "      <td>0</td>\n",
              "      <td>0</td>\n",
              "      <td>everybody evening miss</td>\n",
              "    </tr>\n",
              "    <tr>\n",
              "      <th>4250</th>\n",
              "      <td>Loosu go to hospital. De dont let it careless.</td>\n",
              "      <td>ham</td>\n",
              "      <td>9</td>\n",
              "      <td>2</td>\n",
              "      <td>0</td>\n",
              "      <td>0</td>\n",
              "      <td>loosghospital de dlecareless</td>\n",
              "    </tr>\n",
              "    <tr>\n",
              "      <th>2062</th>\n",
              "      <td>Hey ! I want you ! I crave you ! I miss you ! ...</td>\n",
              "      <td>ham</td>\n",
              "      <td>26</td>\n",
              "      <td>4</td>\n",
              "      <td>0</td>\n",
              "      <td>0</td>\n",
              "      <td>hey ! I I grave I miss I need I love ahead sav...</td>\n",
              "    </tr>\n",
              "    <tr>\n",
              "      <th>2797</th>\n",
              "      <td>Tell your friends what you plan to do on Valen...</td>\n",
              "      <td>ham</td>\n",
              "      <td>13</td>\n",
              "      <td>6</td>\n",
              "      <td>0</td>\n",
              "      <td>0</td>\n",
              "      <td>tell friend whypldvalentine day @ &amp;</td>\n",
              "    </tr>\n",
              "    <tr>\n",
              "      <th>1676</th>\n",
              "      <td>Painful words- \"I thought being Happy was the ...</td>\n",
              "      <td>ham</td>\n",
              "      <td>24</td>\n",
              "      <td>9</td>\n",
              "      <td>0</td>\n",
              "      <td>1</td>\n",
              "      <td>painful words- \" thoughbee happy mostoughesthe...</td>\n",
              "    </tr>\n",
              "  </tbody>\n",
              "</table>\n",
              "</div>\n",
              "      <button class=\"colab-df-convert\" onclick=\"convertToInteractive('df-65ad7792-f01d-4d29-a93a-2fd16e58b923')\"\n",
              "              title=\"Convert this dataframe to an interactive table.\"\n",
              "              style=\"display:none;\">\n",
              "        \n",
              "  <svg xmlns=\"http://www.w3.org/2000/svg\" height=\"24px\"viewBox=\"0 0 24 24\"\n",
              "       width=\"24px\">\n",
              "    <path d=\"M0 0h24v24H0V0z\" fill=\"none\"/>\n",
              "    <path d=\"M18.56 5.44l.94 2.06.94-2.06 2.06-.94-2.06-.94-.94-2.06-.94 2.06-2.06.94zm-11 1L8.5 8.5l.94-2.06 2.06-.94-2.06-.94L8.5 2.5l-.94 2.06-2.06.94zm10 10l.94 2.06.94-2.06 2.06-.94-2.06-.94-.94-2.06-.94 2.06-2.06.94z\"/><path d=\"M17.41 7.96l-1.37-1.37c-.4-.4-.92-.59-1.43-.59-.52 0-1.04.2-1.43.59L10.3 9.45l-7.72 7.72c-.78.78-.78 2.05 0 2.83L4 21.41c.39.39.9.59 1.41.59.51 0 1.02-.2 1.41-.59l7.78-7.78 2.81-2.81c.8-.78.8-2.07 0-2.86zM5.41 20L4 18.59l7.72-7.72 1.47 1.35L5.41 20z\"/>\n",
              "  </svg>\n",
              "      </button>\n",
              "      \n",
              "  <style>\n",
              "    .colab-df-container {\n",
              "      display:flex;\n",
              "      flex-wrap:wrap;\n",
              "      gap: 12px;\n",
              "    }\n",
              "\n",
              "    .colab-df-convert {\n",
              "      background-color: #E8F0FE;\n",
              "      border: none;\n",
              "      border-radius: 50%;\n",
              "      cursor: pointer;\n",
              "      display: none;\n",
              "      fill: #1967D2;\n",
              "      height: 32px;\n",
              "      padding: 0 0 0 0;\n",
              "      width: 32px;\n",
              "    }\n",
              "\n",
              "    .colab-df-convert:hover {\n",
              "      background-color: #E2EBFA;\n",
              "      box-shadow: 0px 1px 2px rgba(60, 64, 67, 0.3), 0px 1px 3px 1px rgba(60, 64, 67, 0.15);\n",
              "      fill: #174EA6;\n",
              "    }\n",
              "\n",
              "    [theme=dark] .colab-df-convert {\n",
              "      background-color: #3B4455;\n",
              "      fill: #D2E3FC;\n",
              "    }\n",
              "\n",
              "    [theme=dark] .colab-df-convert:hover {\n",
              "      background-color: #434B5C;\n",
              "      box-shadow: 0px 1px 3px 1px rgba(0, 0, 0, 0.15);\n",
              "      filter: drop-shadow(0px 1px 2px rgba(0, 0, 0, 0.3));\n",
              "      fill: #FFFFFF;\n",
              "    }\n",
              "  </style>\n",
              "\n",
              "      <script>\n",
              "        const buttonEl =\n",
              "          document.querySelector('#df-65ad7792-f01d-4d29-a93a-2fd16e58b923 button.colab-df-convert');\n",
              "        buttonEl.style.display =\n",
              "          google.colab.kernel.accessAllowed ? 'block' : 'none';\n",
              "\n",
              "        async function convertToInteractive(key) {\n",
              "          const element = document.querySelector('#df-65ad7792-f01d-4d29-a93a-2fd16e58b923');\n",
              "          const dataTable =\n",
              "            await google.colab.kernel.invokeFunction('convertToInteractive',\n",
              "                                                     [key], {});\n",
              "          if (!dataTable) return;\n",
              "\n",
              "          const docLinkHtml = 'Like what you see? Visit the ' +\n",
              "            '<a target=\"_blank\" href=https://colab.research.google.com/notebooks/data_table.ipynb>data table notebook</a>'\n",
              "            + ' to learn more about interactive tables.';\n",
              "          element.innerHTML = '';\n",
              "          dataTable['output_type'] = 'display_data';\n",
              "          await google.colab.output.renderOutput(dataTable, element);\n",
              "          const docLink = document.createElement('div');\n",
              "          docLink.innerHTML = docLinkHtml;\n",
              "          element.appendChild(docLink);\n",
              "        }\n",
              "      </script>\n",
              "    </div>\n",
              "  </div>\n",
              "  "
            ]
          },
          "metadata": {},
          "execution_count": 26
        }
      ],
      "source": [
        " train_data.head()"
      ]
    },
    {
      "cell_type": "markdown",
      "metadata": {
        "id": "VIE38jfetypq"
      },
      "source": [
        "# VECTORIZATION"
      ]
    },
    {
      "cell_type": "code",
      "execution_count": null,
      "metadata": {
        "id": "mxBUj5_CvBTR"
      },
      "outputs": [],
      "source": [
        "train_data[\"token\"]=train_data[\"cleaned\"].apply(lambda x : x.split())"
      ]
    },
    {
      "cell_type": "code",
      "execution_count": null,
      "metadata": {
        "colab": {
          "base_uri": "https://localhost:8080/"
        },
        "id": "PD45bTHhvXT0",
        "outputId": "e622c1a3-db1a-42fa-f19d-0314c090b0c5"
      },
      "outputs": [
        {
          "output_type": "execute_result",
          "data": {
            "text/plain": [
              "                                                message label  word_count  \\\n",
              "4631          Everybody had fun this evening. Miss you.   ham           7   \n",
              "4250     Loosu go to hospital. De dont let it careless.   ham           9   \n",
              "2062  Hey ! I want you ! I crave you ! I miss you ! ...   ham          26   \n",
              "2797  Tell your friends what you plan to do on Valen...   ham          13   \n",
              "1676  Painful words- \"I thought being Happy was the ...   ham          24   \n",
              "4964                 I want to see your pretty pussy...   ham           7   \n",
              "2043     Me not waking up until 4 in the afternoon, sup   ham          10   \n",
              "84                                       Yup next stop.   ham           3   \n",
              "1579  How to Make a girl Happy? It's not at all diff...   ham         103   \n",
              "172   Hmmm.. Thk sure got time to hop ard... Ya, can...   ham          20   \n",
              "\n",
              "      stop_words_count  digit_count  upper_case_count  \\\n",
              "4631                 2            0                 0   \n",
              "4250                 2            0                 0   \n",
              "2062                 4            0                 0   \n",
              "2797                 6            0                 0   \n",
              "1676                 9            0                 1   \n",
              "4964                 2            0                 0   \n",
              "2043                 5            1                 0   \n",
              "84                   0            0                 0   \n",
              "1579                 8            0                 0   \n",
              "172                  3            1                 0   \n",
              "\n",
              "                                                cleaned  \\\n",
              "4631                             everybody evening miss   \n",
              "4250                       loosghospital de dlecareless   \n",
              "2062  hey ! I I grave I miss I need I love ahead sav...   \n",
              "2797                tell friend whypldvalentine day @ &   \n",
              "1676  painful words- \" thoughbee happy mostoughesthe...   \n",
              "4964                                 I see pretty hussy   \n",
              "2043                             I wake 4 afternoon sup   \n",
              "84                                             ynexstop   \n",
              "1579  make girl happy difficulmake girl happy need 1...   \n",
              "172    mmm sure time hard go free mud call discuss liar   \n",
              "\n",
              "                                                  token  \n",
              "4631                         [everybody, evening, miss]  \n",
              "4250                   [loosghospital, de, dlecareless]  \n",
              "2062  [hey, !, I, I, grave, I, miss, I, need, I, lov...  \n",
              "2797         [tell, friend, whypldvalentine, day, @, &]  \n",
              "1676  [painful, words-, \", thoughbee, happy, mostoug...  \n",
              "4964                            [I, see, pretty, hussy]  \n",
              "2043                       [I, wake, 4, afternoon, sup]  \n",
              "84                                           [ynexstop]  \n",
              "1579  [make, girl, happy, difficulmake, girl, happy,...  \n",
              "172   [mmm, sure, time, hard, go, free, mud, call, d...  "
            ],
            "text/html": [
              "\n",
              "  <div id=\"df-324008ee-56b5-43db-be15-2509e9e8495a\">\n",
              "    <div class=\"colab-df-container\">\n",
              "      <div>\n",
              "<style scoped>\n",
              "    .dataframe tbody tr th:only-of-type {\n",
              "        vertical-align: middle;\n",
              "    }\n",
              "\n",
              "    .dataframe tbody tr th {\n",
              "        vertical-align: top;\n",
              "    }\n",
              "\n",
              "    .dataframe thead th {\n",
              "        text-align: right;\n",
              "    }\n",
              "</style>\n",
              "<table border=\"1\" class=\"dataframe\">\n",
              "  <thead>\n",
              "    <tr style=\"text-align: right;\">\n",
              "      <th></th>\n",
              "      <th>message</th>\n",
              "      <th>label</th>\n",
              "      <th>word_count</th>\n",
              "      <th>stop_words_count</th>\n",
              "      <th>digit_count</th>\n",
              "      <th>upper_case_count</th>\n",
              "      <th>cleaned</th>\n",
              "      <th>token</th>\n",
              "    </tr>\n",
              "  </thead>\n",
              "  <tbody>\n",
              "    <tr>\n",
              "      <th>4631</th>\n",
              "      <td>Everybody had fun this evening. Miss you.</td>\n",
              "      <td>ham</td>\n",
              "      <td>7</td>\n",
              "      <td>2</td>\n",
              "      <td>0</td>\n",
              "      <td>0</td>\n",
              "      <td>everybody evening miss</td>\n",
              "      <td>[everybody, evening, miss]</td>\n",
              "    </tr>\n",
              "    <tr>\n",
              "      <th>4250</th>\n",
              "      <td>Loosu go to hospital. De dont let it careless.</td>\n",
              "      <td>ham</td>\n",
              "      <td>9</td>\n",
              "      <td>2</td>\n",
              "      <td>0</td>\n",
              "      <td>0</td>\n",
              "      <td>loosghospital de dlecareless</td>\n",
              "      <td>[loosghospital, de, dlecareless]</td>\n",
              "    </tr>\n",
              "    <tr>\n",
              "      <th>2062</th>\n",
              "      <td>Hey ! I want you ! I crave you ! I miss you ! ...</td>\n",
              "      <td>ham</td>\n",
              "      <td>26</td>\n",
              "      <td>4</td>\n",
              "      <td>0</td>\n",
              "      <td>0</td>\n",
              "      <td>hey ! I I grave I miss I need I love ahead sav...</td>\n",
              "      <td>[hey, !, I, I, grave, I, miss, I, need, I, lov...</td>\n",
              "    </tr>\n",
              "    <tr>\n",
              "      <th>2797</th>\n",
              "      <td>Tell your friends what you plan to do on Valen...</td>\n",
              "      <td>ham</td>\n",
              "      <td>13</td>\n",
              "      <td>6</td>\n",
              "      <td>0</td>\n",
              "      <td>0</td>\n",
              "      <td>tell friend whypldvalentine day @ &amp;</td>\n",
              "      <td>[tell, friend, whypldvalentine, day, @, &amp;]</td>\n",
              "    </tr>\n",
              "    <tr>\n",
              "      <th>1676</th>\n",
              "      <td>Painful words- \"I thought being Happy was the ...</td>\n",
              "      <td>ham</td>\n",
              "      <td>24</td>\n",
              "      <td>9</td>\n",
              "      <td>0</td>\n",
              "      <td>1</td>\n",
              "      <td>painful words- \" thoughbee happy mostoughesthe...</td>\n",
              "      <td>[painful, words-, \", thoughbee, happy, mostoug...</td>\n",
              "    </tr>\n",
              "    <tr>\n",
              "      <th>4964</th>\n",
              "      <td>I want to see your pretty pussy...</td>\n",
              "      <td>ham</td>\n",
              "      <td>7</td>\n",
              "      <td>2</td>\n",
              "      <td>0</td>\n",
              "      <td>0</td>\n",
              "      <td>I see pretty hussy</td>\n",
              "      <td>[I, see, pretty, hussy]</td>\n",
              "    </tr>\n",
              "    <tr>\n",
              "      <th>2043</th>\n",
              "      <td>Me not waking up until 4 in the afternoon, sup</td>\n",
              "      <td>ham</td>\n",
              "      <td>10</td>\n",
              "      <td>5</td>\n",
              "      <td>1</td>\n",
              "      <td>0</td>\n",
              "      <td>I wake 4 afternoon sup</td>\n",
              "      <td>[I, wake, 4, afternoon, sup]</td>\n",
              "    </tr>\n",
              "    <tr>\n",
              "      <th>84</th>\n",
              "      <td>Yup next stop.</td>\n",
              "      <td>ham</td>\n",
              "      <td>3</td>\n",
              "      <td>0</td>\n",
              "      <td>0</td>\n",
              "      <td>0</td>\n",
              "      <td>ynexstop</td>\n",
              "      <td>[ynexstop]</td>\n",
              "    </tr>\n",
              "    <tr>\n",
              "      <th>1579</th>\n",
              "      <td>How to Make a girl Happy? It's not at all diff...</td>\n",
              "      <td>ham</td>\n",
              "      <td>103</td>\n",
              "      <td>8</td>\n",
              "      <td>0</td>\n",
              "      <td>0</td>\n",
              "      <td>make girl happy difficulmake girl happy need 1...</td>\n",
              "      <td>[make, girl, happy, difficulmake, girl, happy,...</td>\n",
              "    </tr>\n",
              "    <tr>\n",
              "      <th>172</th>\n",
              "      <td>Hmmm.. Thk sure got time to hop ard... Ya, can...</td>\n",
              "      <td>ham</td>\n",
              "      <td>20</td>\n",
              "      <td>3</td>\n",
              "      <td>1</td>\n",
              "      <td>0</td>\n",
              "      <td>mmm sure time hard go free mud call discuss liar</td>\n",
              "      <td>[mmm, sure, time, hard, go, free, mud, call, d...</td>\n",
              "    </tr>\n",
              "  </tbody>\n",
              "</table>\n",
              "</div>\n",
              "      <button class=\"colab-df-convert\" onclick=\"convertToInteractive('df-324008ee-56b5-43db-be15-2509e9e8495a')\"\n",
              "              title=\"Convert this dataframe to an interactive table.\"\n",
              "              style=\"display:none;\">\n",
              "        \n",
              "  <svg xmlns=\"http://www.w3.org/2000/svg\" height=\"24px\"viewBox=\"0 0 24 24\"\n",
              "       width=\"24px\">\n",
              "    <path d=\"M0 0h24v24H0V0z\" fill=\"none\"/>\n",
              "    <path d=\"M18.56 5.44l.94 2.06.94-2.06 2.06-.94-2.06-.94-.94-2.06-.94 2.06-2.06.94zm-11 1L8.5 8.5l.94-2.06 2.06-.94-2.06-.94L8.5 2.5l-.94 2.06-2.06.94zm10 10l.94 2.06.94-2.06 2.06-.94-2.06-.94-.94-2.06-.94 2.06-2.06.94z\"/><path d=\"M17.41 7.96l-1.37-1.37c-.4-.4-.92-.59-1.43-.59-.52 0-1.04.2-1.43.59L10.3 9.45l-7.72 7.72c-.78.78-.78 2.05 0 2.83L4 21.41c.39.39.9.59 1.41.59.51 0 1.02-.2 1.41-.59l7.78-7.78 2.81-2.81c.8-.78.8-2.07 0-2.86zM5.41 20L4 18.59l7.72-7.72 1.47 1.35L5.41 20z\"/>\n",
              "  </svg>\n",
              "      </button>\n",
              "      \n",
              "  <style>\n",
              "    .colab-df-container {\n",
              "      display:flex;\n",
              "      flex-wrap:wrap;\n",
              "      gap: 12px;\n",
              "    }\n",
              "\n",
              "    .colab-df-convert {\n",
              "      background-color: #E8F0FE;\n",
              "      border: none;\n",
              "      border-radius: 50%;\n",
              "      cursor: pointer;\n",
              "      display: none;\n",
              "      fill: #1967D2;\n",
              "      height: 32px;\n",
              "      padding: 0 0 0 0;\n",
              "      width: 32px;\n",
              "    }\n",
              "\n",
              "    .colab-df-convert:hover {\n",
              "      background-color: #E2EBFA;\n",
              "      box-shadow: 0px 1px 2px rgba(60, 64, 67, 0.3), 0px 1px 3px 1px rgba(60, 64, 67, 0.15);\n",
              "      fill: #174EA6;\n",
              "    }\n",
              "\n",
              "    [theme=dark] .colab-df-convert {\n",
              "      background-color: #3B4455;\n",
              "      fill: #D2E3FC;\n",
              "    }\n",
              "\n",
              "    [theme=dark] .colab-df-convert:hover {\n",
              "      background-color: #434B5C;\n",
              "      box-shadow: 0px 1px 3px 1px rgba(0, 0, 0, 0.15);\n",
              "      filter: drop-shadow(0px 1px 2px rgba(0, 0, 0, 0.3));\n",
              "      fill: #FFFFFF;\n",
              "    }\n",
              "  </style>\n",
              "\n",
              "      <script>\n",
              "        const buttonEl =\n",
              "          document.querySelector('#df-324008ee-56b5-43db-be15-2509e9e8495a button.colab-df-convert');\n",
              "        buttonEl.style.display =\n",
              "          google.colab.kernel.accessAllowed ? 'block' : 'none';\n",
              "\n",
              "        async function convertToInteractive(key) {\n",
              "          const element = document.querySelector('#df-324008ee-56b5-43db-be15-2509e9e8495a');\n",
              "          const dataTable =\n",
              "            await google.colab.kernel.invokeFunction('convertToInteractive',\n",
              "                                                     [key], {});\n",
              "          if (!dataTable) return;\n",
              "\n",
              "          const docLinkHtml = 'Like what you see? Visit the ' +\n",
              "            '<a target=\"_blank\" href=https://colab.research.google.com/notebooks/data_table.ipynb>data table notebook</a>'\n",
              "            + ' to learn more about interactive tables.';\n",
              "          element.innerHTML = '';\n",
              "          dataTable['output_type'] = 'display_data';\n",
              "          await google.colab.output.renderOutput(dataTable, element);\n",
              "          const docLink = document.createElement('div');\n",
              "          docLink.innerHTML = docLinkHtml;\n",
              "          element.appendChild(docLink);\n",
              "        }\n",
              "      </script>\n",
              "    </div>\n",
              "  </div>\n",
              "  "
            ]
          },
          "metadata": {},
          "execution_count": 28
        }
      ],
      "source": [
        "train_data.head(10)"
      ]
    },
    {
      "cell_type": "code",
      "execution_count": null,
      "metadata": {
        "id": "G1WnhlaxMkcZ"
      },
      "outputs": [],
      "source": [
        "train_data_sample=train_data"
      ]
    },
    {
      "cell_type": "code",
      "execution_count": null,
      "metadata": {
        "id": "ZcvEzIpZiWSB"
      },
      "outputs": [],
      "source": [
        "import gensim\n",
        "vector_processing=[]\n",
        "for i,j in enumerate(train_data[\"token\"]):\n",
        "  vector_processing.append(gensim.models.doc2vec.TaggedDocument(j,[i]))"
      ]
    },
    {
      "cell_type": "code",
      "execution_count": null,
      "metadata": {
        "colab": {
          "base_uri": "https://localhost:8080/"
        },
        "id": "cE2O-oEpvsYQ",
        "outputId": "679fa469-6dbf-4cea-a0ec-3cd96fe34557"
      },
      "outputs": [
        {
          "output_type": "execute_result",
          "data": {
            "text/plain": [
              "[TaggedDocument(words=['everybody', 'evening', 'miss'], tags=[0]),\n",
              " TaggedDocument(words=['loosghospital', 'de', 'dlecareless'], tags=[1]),\n",
              " TaggedDocument(words=['hey', '!', 'I', 'I', 'grave', 'I', 'miss', 'I', 'need', 'I', 'love', 'ahead', 'save', 'al', 'hall', '...'], tags=[2]),\n",
              " TaggedDocument(words=['tell', 'friend', 'whypldvalentine', 'day', '@', '&'], tags=[3]),\n",
              " TaggedDocument(words=['painful', 'words-', '\"', 'thoughbee', 'happy', 'mostoughesthe', 'earth', 'toughesis', 'act', 'happy', 'unspokeinside'], tags=[4]),\n",
              " TaggedDocument(words=['I', 'see', 'pretty', 'hussy'], tags=[5]),\n",
              " TaggedDocument(words=['I', 'wake', '4', 'afternoon', 'sup'], tags=[6]),\n",
              " TaggedDocument(words=['ynexstop'], tags=[7]),\n",
              " TaggedDocument(words=['make', 'girl', 'happy', 'difficulmake', 'girl', 'happy', 'need', '1', 'friend', '2', 'come', 'lover', '4', 'chef', '.', '.', '.', '&', '.', 'good', 'listener', '&', '.', 'organizer', '&', '.', 'good', 'boyfriend', '&', '.', 'le', '&', '.', 'sympathy', '&', '.', '&', '.', 'warm', '.', '.', '.', '&', '.', 'courageous', '&', '.', 'determine', '&', '.', 'true', '&', '.', 'dependable', '&', '.', 'intelligent', '.', '.', '&', '.', 'psychologist', '&', '.', 'pesexterminator', '&', '.', 'psychiatric', '&', '.', 'heal', '.', '.', '&', '.', 'stylish', '&', '.', 'driver', '.', '.', 'aaniye', 'pudungvenaam'], tags=[8]),\n",
              " TaggedDocument(words=['mmm', 'sure', 'time', 'hard', 'go', 'free', 'mud', 'call', 'discuss', 'liar'], tags=[9]),\n",
              " TaggedDocument(words=['ü', 'come', 'let', 'pass', 'I', 'war'], tags=[10]),\n",
              " TaggedDocument(words=['course', 'I', 'alsupload', 'song'], tags=[11]),\n",
              " TaggedDocument(words=['I', 'fit', 'tuesday', 'buy', '2', 'meal', '2', 'gray', '2', 'mark', '2'], tags=[12]),\n",
              " TaggedDocument(words=['I', 'know', 'I', 'rage', 'duke', 'poker'], tags=[13]),\n",
              " TaggedDocument(words=['check', 'wid', 'corespele', 'i.e.', 'sarcasm'], tags=[14]),\n",
              " TaggedDocument(words=['tell', 'b', 'leave', '4', 'shangh21sinstead', 'time', '2', 'geese'], tags=[15]),\n",
              " TaggedDocument(words=['cyjuscome', 'see', 'somebody', 'I', 'see'], tags=[16]),\n",
              " TaggedDocument(words=[], tags=[17]),\n",
              " TaggedDocument(words=['juice', 'gossthe', 'hospital', 'nurse', 'talk', 'abhor', 'get', 'one', 'think', 'obese', 'yea'], tags=[18]),\n",
              " TaggedDocument(words=['ah', 'bad', 'thank', 'good', 'b', 'home', 'bit', 'mesquite', 'reality', 'check', 'day', 'anything', 'webster'], tags=[19]),\n",
              " TaggedDocument(words=['dyguy', 'see', 'move', 'side'], tags=[20]),\n",
              " TaggedDocument(words=['enjoy', 'life', '.', 'good', 'night'], tags=[21]),\n",
              " TaggedDocument(words=['com:-'], tags=[22]),\n",
              " TaggedDocument(words=['hellwhich', 'site', 'download', 'song', 'urge'], tags=[23]),\n",
              " TaggedDocument(words=['mm', 'way', 'railway'], tags=[24]),\n",
              " TaggedDocument(words=['I', 'well', 'bad', 'I', 'feel', 'basically', 'time', 'I', 'texylately', 'need', 'drug'], tags=[25]),\n",
              " TaggedDocument(words=['right', 'work'], tags=[26]),\n",
              " TaggedDocument(words=['I', 'would', 'despite', 'cramp', 'I', 'like', 'girl'], tags=[27]),\n",
              " TaggedDocument(words=['please', 'send', 'I', 'aunt', 'number'], tags=[28]),\n",
              " TaggedDocument(words=['actually', 'fuck', 'jusdwhatever', 'find', 'excuse', 'tamsome', 'january', 'though'], tags=[29]),\n",
              " TaggedDocument(words=['know', 'head', 'back'], tags=[30]),\n",
              " TaggedDocument(words=['computer', 'jusfrie', 'essential', 'parce', 'dkeespare', 'fucking', 'idroommate', 'looovvve', 'leave', 'thing', 'run', 'full', '&', '/7'], tags=[31]),\n",
              " TaggedDocument(words=['roger', 'we‘re', 'probably', 'go', 'red', 'able'], tags=[32]),\n",
              " TaggedDocument(words=['good', 'friend', 'care', 'close', 'friend', 'understand', 'true', 'friend', 'stay', 'forever', 'beyond', 'word', 'beyond', 'time', 'god', 'nip'], tags=[33]),\n",
              " TaggedDocument(words=['movie', 'hata', 'basis', 'head', 'food', 'la', 'ex', 'soie', 'depend', 'whether', 'wewesteror', 'chinese', 'food', 'prefer'], tags=[34]),\n",
              " TaggedDocument(words=['free', 'call', 'I', 'pa'], tags=[35]),\n",
              " TaggedDocument(words=['come', 'round', '.'], tags=[36]),\n",
              " TaggedDocument(words=['sea', 'lay', 'rock', 'rock', 'envelope', 'envelope', 'paper', 'paper', '3', 'word', \"'\"], tags=[37]),\n",
              " TaggedDocument(words=['I', 'jusghome', 'babe', 'still', 'awake', '?'], tags=[38]),\n",
              " TaggedDocument(words=['would', 'address', 'testhconsidere', 'computer', 'minecrafserver'], tags=[39]),\n",
              " TaggedDocument(words=['alright', 'severe', 'tooth', 'man'], tags=[40]),\n",
              " TaggedDocument(words=['helloooo', 'wake', '\"', '\"', '\"', '\"', '\"', '\"', 'day', '\"', 'full', 'joy', '\"', 'man'], tags=[41]),\n",
              " TaggedDocument(words=['bandy', 'join', 'w', 'technology', 'today.he', 'job'], tags=[42]),\n",
              " TaggedDocument(words=['come', 'search'], tags=[43]),\n",
              " TaggedDocument(words=['really', 'hope', 'work', 'distressful', 'grm', 'day'], tags=[44]),\n",
              " TaggedDocument(words=['full', 'song', 'lyric'], tags=[45]),\n",
              " TaggedDocument(words=['air', 'hard', '2', 'type', 'later', 'free', 'retell', 'I', 'thecal', 'scold', 'tell'], tags=[46]),\n",
              " TaggedDocument(words=['uniform', 'get'], tags=[47]),\n",
              " TaggedDocument(words=['merry', 'christmas', 'babe', 'love', 'y*kisses'], tags=[48]),\n",
              " TaggedDocument(words=['dnyhave', 'message', 'offer'], tags=[49]),\n",
              " TaggedDocument(words=['ooooooh', 'I', 'foretell', 'I', 'geyoville', 'phone'], tags=[50]),\n",
              " TaggedDocument(words=['I', 'buy', 'six', 'war'], tags=[51]),\n",
              " TaggedDocument(words=['I', 'place', 'point', 'e', 'culture', 'module', 'already'], tags=[52]),\n",
              " TaggedDocument(words=['friendshpoem', 'dear', 'dear', 'r', 'near', 'I', 'clear', 'dngefear', 'live', 'cheer', 'tear', 'r', 'always', 'dear', 'god', 'nip'], tags=[53]),\n",
              " TaggedDocument(words=['nationwide', 'centre', '(', 'something', 'like', 'newporroad', 'I', 'like'], tags=[54]),\n",
              " TaggedDocument(words=['I', 'bore', 'lecturer', 'repeat', 'lasweek', 'stuff', 'waste', 'time'], tags=[55]),\n",
              " TaggedDocument(words=['lunch', 'buffenow', 'already'], tags=[56]),\n",
              " TaggedDocument(words=['yijue', 'regard', '3230', 'textbook', 'intralgorithm', 'second', 'edition', 'I', 'sell', '$'], tags=[57]),\n",
              " TaggedDocument(words=['I', 'love', 'little', 'pony', 'bell', 'I', 'sorry', 'I', 'love'], tags=[58]),\n",
              " TaggedDocument(words=['already', 'scream', ':)'], tags=[59]),\n",
              " TaggedDocument(words=['garage', 'bag', 'egg', 'jam', 'bread', 'hannaford', 'whether'], tags=[60]),\n",
              " TaggedDocument(words=['belly', 'boston', '...', 'geese', 'I', 'miss', 'already', 'I', 'juswoke', 'I', 'wish', 'bed', 'I', 'muddle', 'I', 'I', 'love'], tags=[61]),\n",
              " TaggedDocument(words=['hut', 'oredhow', 'many', 'page'], tags=[62]),\n",
              " TaggedDocument(words=['good', 'morning', 'dear', 'shijutta', 'are&amp', 'successful', 'day'], tags=[63]),\n",
              " TaggedDocument(words=['hey', 'lovejoy', 'I', 'love', 'I', 'tell', '...', 'I', 'look', 'picture', 'ache', 'feel', 'ybetweemy', 'leg', '...', 'fuck', 'I', 'I', 'need', 'I', 'grave', 'y.'], tags=[64]),\n",
              " TaggedDocument(words=['c', 'decide', 'fast', 'cos', 'go', 'home', 'liar'], tags=[65]),\n",
              " TaggedDocument(words=['road', 'txt'], tags=[66]),\n",
              " TaggedDocument(words=['guy', 'itch', 'I', 'act', 'like', 'would', 'interested', 'buy', 'something', 'else', 'nexweek', 'give', 'free'], tags=[67]),\n",
              " TaggedDocument(words=['I', 'boris', 'jug', 'wat', 'walk', 'home', 'order', 'ü', 'slate', 'thereby', 'I', 'see', 'like', 'buy', 'ü'], tags=[68]),\n",
              " TaggedDocument(words=['kate', 'jacksrecenter', 'wish', 'right'], tags=[69]),\n",
              " TaggedDocument(words=['I', 'need', 'strong', 'arm'], tags=[70]),\n",
              " TaggedDocument(words=['good', 'evening', 'tell'], tags=[71]),\n",
              " TaggedDocument(words=['watch', 'movie', 'already', 'want', '2', 'sham', 'shop', 'w'], tags=[72]),\n",
              " TaggedDocument(words=['one', 'teach', 'I', 'scar'], tags=[73]),\n",
              " TaggedDocument(words=['de', 'webadre', 'get', 'salary', 'slip'], tags=[74]),\n",
              " TaggedDocument(words=['feel', 'always', 'happy', 'slowly', 'become', 'had&amp', 'finally', 'become', 'prof', 'life', 'follow', 'happy', 'morning', '&', 'happy', 'day'], tags=[75]),\n",
              " TaggedDocument(words=['ygesspiritual', 'deep', 'great'], tags=[76]),\n",
              " TaggedDocument(words=['ndrampls.have', 'enough', 'family', 'struggle', 'strange', 'place.nreaswhy', 'ego', 'go', \"'\", 'invite', 'wheactually', 'necessity', 'go.for', 'serious', 'reppurcussion'], tags=[77]),\n",
              " TaggedDocument(words=['buzz', 'hey', 'love', '!', 'I', 'think', 'hope', 'day', 'go', 'well', 'see', 'I', 'miss', 'babe', 'I', 'long', 'moment', 'together', 'again*love', 'smile'], tags=[78]),\n",
              " TaggedDocument(words=['see', 'finish', 'load', 'loan', 'pay'], tags=[79]),\n",
              " TaggedDocument(words=['miss', 'call', 'I', 'yell', 'scrape', 'miss', 'come', 'home', 'I', 'lonely', 'today'], tags=[80]),\n",
              " TaggedDocument(words=['really', 'get', 'I', 'dowjushange', 'around'], tags=[81]),\n",
              " TaggedDocument(words=['I', 'come', 'karay', 'please', 'pm', 'directly', 'doctor'], tags=[82]),\n",
              " TaggedDocument(words=['still', 'check', 'da', '.', '.'], tags=[83]),\n",
              " TaggedDocument(words=['come', 'alive.better', 'correany', 'good', 'look', 'figure'], tags=[84]),\n",
              " TaggedDocument(words=['I', 'office:)his', 'matter', 'I', 'now.will', 'call', 'break'], tags=[85]),\n",
              " TaggedDocument(words=['crucify', 's.', 'tell', 'I', 'early'], tags=[86]),\n",
              " TaggedDocument(words=['yeah', 'usual', 'guy', 'towbthere', 'definitely', 'people', 'around', 'I', 'know'], tags=[87]),\n",
              " TaggedDocument(words=['yavtrie', 'never', 'play', 'original', 'either'], tags=[88]),\n",
              " TaggedDocument(words=['thank', 'temple', 'wonderful', 'thank', 'greek'], tags=[89]),\n",
              " TaggedDocument(words=['master', 'dead', 'hey', 'tomorrow', 'meey1pm', 'orchard', 'meet'], tags=[90]),\n",
              " TaggedDocument(words=['I', 'thgsome', 'clash', 'really', 'ah', 'mind', 'I', 'dseehave', 'lose', 'weight', 'gee'], tags=[91]),\n",
              " TaggedDocument(words=['somebody', 'andros', 'steal', 'ice'], tags=[92]),\n",
              " TaggedDocument(words=['yes:)burst.:)ll'], tags=[93]),\n",
              " TaggedDocument(words=['happen', 'date'], tags=[94]),\n",
              " TaggedDocument(words=['great', 'office', 'today'], tags=[95]),\n",
              " TaggedDocument(words=['hope', 'good', 'week', 'juschecke'], tags=[96]),\n",
              " TaggedDocument(words=['interested', 'like'], tags=[97]),\n",
              " TaggedDocument(words=['may', 'call', 'later', 'pus'], tags=[98]),\n",
              " TaggedDocument(words=['day', 'princess'], tags=[99]),\n",
              " TaggedDocument(words=['1', '2', 'chennai'], tags=[100]),\n",
              " TaggedDocument(words=['sister', 'go', 'paramore', 'da'], tags=[101]),\n",
              " TaggedDocument(words=['pick', 'one', 'dumb'], tags=[102]),\n",
              " TaggedDocument(words=['sorry', 'pain', 'ok', 'meeanother', 'night', 'I', 'senate', 'aftercasualty', 'mean', 'stuff42morand', 'include', 'time', 'sheet', 'sorry'], tags=[103]),\n",
              " TaggedDocument(words=['marriage', 'walkunfortuntly', 'snake', 'bite', 'love', 'marriage', 'dance', 'snake', '&', 'sabine', 'I', 'bite', 'I'], tags=[104]),\n",
              " TaggedDocument(words=['seriously', 'spell', 'name'], tags=[105]),\n",
              " TaggedDocument(words=['honey', 'say', '*', 'sweetest', 'world', 'god', 'laugh', '&', 'say', '*', 'harm', 'persuade', 'message', 'moral', 'evegod', 'crack', 'joke', 'go+in+he+in'], tags=[106]),\n",
              " TaggedDocument(words=['bydtouch', 'I'], tags=[107]),\n",
              " TaggedDocument(words=['batch', 'whassup'], tags=[108]),\n",
              " TaggedDocument(words=['hi', 'darling', 'I', 'hope', 'nice', 'night', 'I', 'wish', 'I', 'come', 'wait', 'see', 'love', 'run', 'I', 'want', 'dirty', 'anal', 'sex', 'I', 'want', '10', 'man', 'gang', 'bang'], tags=[109]),\n",
              " TaggedDocument(words=['sometimes', 'wall', 'around', 'heart', 'safe', 'get', 'hurt', 'find', 'care', 'enough', 'break', 'wall', '&', 'close', 'goodnoon'], tags=[110]),\n",
              " TaggedDocument(words=['make', 'ymoshappy'], tags=[111]),\n",
              " TaggedDocument(words=['thegesome', 'cash', 'together', 'I', 'texjason'], tags=[112]),\n",
              " TaggedDocument(words=['respond', 'go', 'assume', 'still', 'asleeand', 'go', 'starcalle', 'shit'], tags=[113]),\n",
              " TaggedDocument(words=['k', 'actually', 'gun', 'meme', 'howard', 'right', 'way'], tags=[114]),\n",
              " TaggedDocument(words=['let'], tags=[115]),\n",
              " TaggedDocument(words=['thymake', 'I', 'cry', 'justhwheall', 'stuff', 'happen', 'everything', 'else', 'push', 'I', 'edge', 'ydunderdtand', 'outcry', 'sorry', 'sorry', 'life'], tags=[116]),\n",
              " TaggedDocument(words=['hi', 'welcome', 'back', 'wonder', 'ygeateby', 'something', 'nothing', 'much'], tags=[117]),\n",
              " TaggedDocument(words=['time', 'whedleyhug', 'I', 'break', 'tear'], tags=[118]),\n",
              " TaggedDocument(words=['welapparently', 'retire'], tags=[119]),\n",
              " TaggedDocument(words=['true', 'possible', 'ygehigh', 'score', 'apply', 'pad', 'yge5year', 'salary', 'make', 'life', 'easy'], tags=[120]),\n",
              " TaggedDocument(words=['I', 'one', 'slice', 'one', 'breadstick'], tags=[121]),\n",
              " TaggedDocument(words=['whole', 'car', 'appreciate', 'last', 'dad', 'read', 'semargumebaparfrom', 'thing', 'go', 'ok', 'p.'], tags=[122]),\n",
              " TaggedDocument(words=['dear', 'mail', 'tone.busy', 'street', 'update', 'ytonite.thing', 'look', 'ok.varunnathedukkukayee', 'rakshollu.good', 'one', 'real', 'sense'], tags=[123]),\n",
              " TaggedDocument(words=['oh', 'really', 'make', 'air', 'talent'], tags=[124]),\n",
              " TaggedDocument(words=['paper', 'e', 'motor', 'tomorrow'], tags=[125]),\n",
              " TaggedDocument(words=['de.am', 'see', 'online', 'shsthaske'], tags=[126]),\n",
              " TaggedDocument(words=['dshorleh', 'like', 'ah', 'fail', 'quite', 'sad'], tags=[127]),\n",
              " TaggedDocument(words=['I', 'watch', 'surymovie', '.', '.after', '6', 'pm', 'vital', 'movie', 'pokkiri'], tags=[128]),\n",
              " TaggedDocument(words=['wheygefree', 'call', 'I'], tags=[129]),\n",
              " TaggedDocument(words=['beautiful', 'truth', 'againsgravity', 'read', 'carefully', '\"', 'hearfeel', 'lighwhesomeone', 'feel', 'heavy', 'whesomeone', 'leave', 'good', 'night'], tags=[130]),\n",
              " TaggedDocument(words=['urge', 'coach', 'hot', 'smell', 'chat', 'thank', 'especially', 'due(prediction', 'texword'], tags=[131]),\n",
              " TaggedDocument(words=['th', 'power', 'mate', 'I', 'r', 'man', 'good', 'wales', 'ill', 'b', 'back', '\\x91morrow', 'c', 'message', '4', '\\x96', 'random'], tags=[132]),\n",
              " TaggedDocument(words=['gorgeous', 'keethose', 'six', 'hum', ':)', 'thank'], tags=[133]),\n",
              " TaggedDocument(words=['spoon', 'theory'], tags=[134]),\n",
              " TaggedDocument(words=['funny', 'I', 'late'], tags=[135]),\n",
              " TaggedDocument(words=['ok'], tags=[136]),\n",
              " TaggedDocument(words=['I', 'head', 'straighter'], tags=[137]),\n",
              " TaggedDocument(words=['sir', 'wait', 'call', 'free', 'please', 'call', 'I'], tags=[138]),\n",
              " TaggedDocument(words=['I', 'new', 'number', '.', 'use', 'one'], tags=[139]),\n",
              " TaggedDocument(words=['yearly'], tags=[140]),\n",
              " TaggedDocument(words=['hellbeautiful', 'r', 'I', 'kind', 'ad', 'row', 'iv', 'walk', 'pub', 'I', 'want', 'nighwiv', 'miss'], tags=[141]),\n",
              " TaggedDocument(words=['alright', 'bring', 'see', 'like', '&', 'mind'], tags=[142]),\n",
              " TaggedDocument(words=['wait', 'e', 'car', 'dat', 'bore', 'wat', 'cos', 'outside', 'nothing', '2', 'home', 'stuff', 'watch', 'wat'], tags=[143]),\n",
              " TaggedDocument(words=['..', 'bit', 'piece', '...', '*', '...'], tags=[144]),\n",
              " TaggedDocument(words=['bay', 'might', 'less', 'elsewhere'], tags=[145]),\n",
              " TaggedDocument(words=['say', 'kiss', 'kiss', 'sound', 'effect', 'gorgeous', 'kind', 'perswhneed', 'smile', 'brighten', 'day'], tags=[146]),\n",
              " TaggedDocument(words=['party', '7', 'day', 'week', 'study', 'lightly', 'I', 'think', 'need', 'draw', 'custom', 'cheekbone', 'know', 'hardware'], tags=[147]),\n",
              " TaggedDocument(words=['thinkabsomeone', 'good', 'drug'], tags=[148]),\n",
              " TaggedDocument(words=['pus', 'need', 'slowly', 'vommore'], tags=[149]),\n",
              " TaggedDocument(words=['yeah', 'bed', 'I', 'back', 'midnight'], tags=[150]),\n",
              " TaggedDocument(words=['hata', 'mostomorrow', 'forfeit', 'hahshow'], tags=[151]),\n",
              " TaggedDocument(words=['I', 'yet', 'mmm', 'jazz', '?', 'yogasoscan', 'gmeethem', 'lesson', 'den'], tags=[152]),\n",
              " TaggedDocument(words=['cool', 'time', 'wheyhead'], tags=[153]),\n",
              " TaggedDocument(words=['yeah', 'I', 'si', 'leave', 'maybe', 'wish'], tags=[154]),\n",
              " TaggedDocument(words=['ok', 'home', 'look', 'tiding', 'themessage', 'ü', 'xuhgoe', 'learn', 'may', 'less'], tags=[155]),\n",
              " TaggedDocument(words=['lee', 'know', 'I', 'settle', 'room', 'less', 'know', 'ok'], tags=[156]),\n",
              " TaggedDocument(words=['I', 'pick', 'phone', 'righnow', 'pus', 'send', 'message'], tags=[157]),\n",
              " TaggedDocument(words=['*', 'cartoon', 'pleased', 'shelf'], tags=[158]),\n",
              " TaggedDocument(words=['I', 'go', 'geinfbdknow'], tags=[159]),\n",
              " TaggedDocument(words=['utter', 'utter', 'utter', 'cttergg', 'cttargg', 'charge', 'stage'], tags=[160]),\n",
              " TaggedDocument(words=['I', '&', 'message', 'today', 'y.', 'sorry', 'hurt'], tags=[161]),\n",
              " TaggedDocument(words=['come', '2', 'bristol', '1', 'st', 'week', 'april', 'le', 'get', '+', 'rude', 'new', 'yes', 'eve', 'I', 'snoring.they', 'drunk', 'back', 'college', 'yet', 'work', 'send', 'ink', '2', 'bath'], tags=[162]),\n",
              " TaggedDocument(words=['I', 'like'], tags=[163]),\n",
              " TaggedDocument(words=['probably', 'come', 'home', '*', 'weekend', 'next'], tags=[164]),\n",
              " TaggedDocument(words=['jusglad', 'talk'], tags=[165]),\n",
              " TaggedDocument(words=['good', 'morning', 'pookie', 'pie', 'hope', 'I', 'wake'], tags=[166]),\n",
              " TaggedDocument(words=['life', 'style', 'garment', 'please'], tags=[167]),\n",
              " TaggedDocument(words=['say', 'look', 'pretty', 'long', 'hair', 'wat', 'cut', 'quite', 'short', 'I', 'let'], tags=[168]),\n",
              " TaggedDocument(words=['I', 'would', 'I', 'still', 'copy', 'exhausted', 'gaslight.nobody', 'school', 'work', 'everything', 'closed'], tags=[169]),\n",
              " TaggedDocument(words=['oh', 'twa', 'forward', 'message', 'I', 'thoughysend'], tags=[170]),\n",
              " TaggedDocument(words=['ü', 'watch', 'infernal', 'affair'], tags=[171]),\n",
              " TaggedDocument(words=['find', 'differefarm', 'buy', 'cheese', 'way', 'back', 'call'], tags=[172]),\n",
              " TaggedDocument(words=['firsanswer', 'question'], tags=[173]),\n",
              " TaggedDocument(words=['yjustelle', 'abthincident'], tags=[174]),\n",
              " TaggedDocument(words=['mmm', 'guess', 'go', 'b', 'power', 'hata', 'know', 'manpower', 'yoganot', 'gloss', 'forgliao'], tags=[175]),\n",
              " TaggedDocument(words=['thank', 'baby', 'I', 'waste', 'real', 'thing'], tags=[176]),\n",
              " TaggedDocument(words=['merry', 'christmas', 'anne'], tags=[177]),\n",
              " TaggedDocument(words=['I', 'ok', 'partomorrow'], tags=[178]),\n",
              " TaggedDocument(words=['esplanade', 'else'], tags=[179]),\n",
              " TaggedDocument(words=['may', 'since', 'already'], tags=[180]),\n",
              " TaggedDocument(words=['free'], tags=[181]),\n",
              " TaggedDocument(words=['due', 'guess', 'whjusgarreste', 'day'], tags=[182]),\n",
              " TaggedDocument(words=['ygeheb', 'immunisnigeria'], tags=[183]),\n",
              " TaggedDocument(words=['oh', ':', '4', 'outside', 'player', 'allow', 'play', 'know'], tags=[184]),\n",
              " TaggedDocument(words=['one'], tags=[185]),\n",
              " TaggedDocument(words=['chance', 'ymighhave', 'I', 'elaborate', 'violate', 'privacy', 'steal', 'phone', 'number', 'employer', 'paperwork', 'cool', 'please', 'I', 'ago', 'I', 'reporyyour', 'supervisor'], tags=[186]),\n",
              " TaggedDocument(words=['whhappeher', 'tell', 'truth'], tags=[187]),\n",
              " TaggedDocument(words=['I', '530', 'know', 'ticket'], tags=[188]),\n",
              " TaggedDocument(words=['always', 'work', 'jesuit'], tags=[189]),\n",
              " TaggedDocument(words=['ymighwpull', 'juscase', 'jusplspende', 'I', 'much', 'confidence', 'dere', 'taylor', 'money', 'management'], tags=[190]),\n",
              " TaggedDocument(words=['convey', 'regard'], tags=[191]),\n",
              " TaggedDocument(words=['hey', 'time', 'drive', 'fro', 'evalfri'], tags=[192]),\n",
              " TaggedDocument(words=['4', 'put', 'da', 'one', 'I'], tags=[193]),\n",
              " TaggedDocument(words=['I', 'want', 'wish', 'happy', 'new', 'year', 'I', 'want', 'talk', 'yabsome', 'legal', 'advice', 'weary', 'I', 'splbperson', 'I', 'make', 'trptbfor', 'I', 'hope', 'everything', 'good', 'babe', 'I', 'love'], tags=[194]),\n",
              " TaggedDocument(words=['whatsthere', 'dnywsleep'], tags=[195]),\n",
              " TaggedDocument(words=['make', 'people', 'dearer', 'happiness', 'feel', 'wheymeethem', 'feel', 'wheymiss', 'dem'], tags=[196]),\n",
              " TaggedDocument(words=['I', 'work', 'blow', 'book', 'liar', 'day', 'free'], tags=[197]),\n",
              " TaggedDocument(words=['ok', 'many', 'buy'], tags=[198]),\n",
              " TaggedDocument(words=['call', 'I', 'da', 'wait', 'call'], tags=[199]),\n",
              " TaggedDocument(words=['dream', 'way', 'london', 'jusbeesmashe', 'another', 'driver', 'big', 'go', 'really', 'miss', 'ywhhave', 'ybeeto', 'xxx'], tags=[200]),\n",
              " TaggedDocument(words=['I', 'know', 'girl', 'always', 'safe', 'selfish', 'know', 'gap', 'thank', 'good', 'night'], tags=[201]),\n",
              " TaggedDocument(words=['I', 'never', 'realize', 'embarrassed', 'accommodation', 'I', 'thoughylike', 'since', 'bescould', 'always', 'seem', 'happy', 'ab\"the', 'cave', 'I', 'sorry', 'I', 'give', 'I', 'sorry', 'offer', 'I', 'sorry', 'room', 'embarrassing'], tags=[202]),\n",
              " TaggedDocument(words=['sorry', 'da:)was', 'think', 'call', 'times:)ll', 'busy.will', 'call', 'noon'], tags=[203]),\n",
              " TaggedDocument(words=['ok', 'another', 'number'], tags=[204]),\n",
              " TaggedDocument(words=['aighill', 'leave', 'couple', 'minute'], tags=[205]),\n",
              " TaggedDocument(words=['sound', 'go', 'hata', 'yyjsfasliao'], tags=[206]),\n",
              " TaggedDocument(words=['thing', 'interesting', 'good', 'birthday', 'work', 'I', 'start', 'today'], tags=[207]),\n",
              " TaggedDocument(words=['hey', 'darling', 'pick', 'college', 'tell', 'I', '2', 'mt', 'love', 'peter', 'xx'], tags=[208]),\n",
              " TaggedDocument(words=['customer', 'place', 'call'], tags=[209]),\n",
              " TaggedDocument(words=['easy', 'mate', '*', 'guess', 'quick', 'drink', 'ambitious'], tags=[210]),\n",
              " TaggedDocument(words=['busy', 'I', 'come', 'figure', 'whew', 'tomorrow'], tags=[211]),\n",
              " TaggedDocument(words=['one', 'small', 'prestige', 'problem'], tags=[212]),\n",
              " TaggedDocument(words=['right', 'I', 'chillfriend', 'room', 'steam', 'way'], tags=[213]),\n",
              " TaggedDocument(words=['see', 'post', 'facebook'], tags=[214]),\n",
              " TaggedDocument(words=['desires-', 'go', 'doctor', '4', 'liver', 'gebstylish', 'gerard', 'hair', 'manage'], tags=[215]),\n",
              " TaggedDocument(words=['I', 'still', 'look', 'car', 'buy', 'go', 'drive', 'test'], tags=[216]),\n",
              " TaggedDocument(words=['&', 'greloxahatchee', 'tree', 'burn', 'update', 'totally', 'see', 'star'], tags=[217]),\n",
              " TaggedDocument(words=['hope', 'go', 'home', 'thegpumpetrol', 'like', 'go', '2', 'soon'], tags=[218]),\n",
              " TaggedDocument(words=['unwanted', 'say', 'holy', 'shyguy', 'bid', 'bud'], tags=[219]),\n",
              " TaggedDocument(words=['hello', 'damthis', 'christmas', 'thing', 'I', 'think', 'decide', 'keethis', 'may', 'work'], tags=[220]),\n",
              " TaggedDocument(words=['I', '2', 'doc', 'appointment', 'nexweek.:/', 'I', 'tired', 'shove', 'stuff', 'I', 'ugh', 'could', 'I', 'normal', 'body'], tags=[221]),\n",
              " TaggedDocument(words=['I', 'outside', 'island', 'head', 'towards', 'hard', 'rock', 'I'], tags=[222]),\n",
              " TaggedDocument(words=['come', '2', 'pick', 'I'], tags=[223]),\n",
              " TaggedDocument(words=['purity', 'friendshbetweetwis', 'smile', 'read', 'forward', 'message', 'smile', 'see', 'name', 'god', 'long', 'must'], tags=[224]),\n",
              " TaggedDocument(words=['book', 'lesson', 'theymessage', 'I', 'I', 'call', 'work', 'st', 'I', 'go', 'respect', 'membership', 'px3748'], tags=[225]),\n",
              " TaggedDocument(words=['mm', 'entirely', 'sure', 'understand', 'thtexbhey', 'ho', 'weekend'], tags=[226]),\n",
              " TaggedDocument(words=['okay', 'bthoughywere', 'expert'], tags=[227]),\n",
              " TaggedDocument(words=['entail', 'company'], tags=[228]),\n",
              " TaggedDocument(words=['I', 'dwyleave', 'barely', 'stay', 'sane', 'fight', 'constantly', 'help'], tags=[229]),\n",
              " TaggedDocument(words=['hahyeah', '2', 'oz', 'kind', 'shitload'], tags=[230]),\n",
              " TaggedDocument(words=['pick', 'raymaclerthere'], tags=[231]),\n",
              " TaggedDocument(words=['still', 'coffee', 'free', 'fredrove', 'give', 'I', 'lift'], tags=[232]),\n",
              " TaggedDocument(words=['ok', 'helmet', 'ask', 'work', 'tomorrow'], tags=[233]),\n",
              " TaggedDocument(words=['around', 'justly', 'car', 'back'], tags=[234]),\n",
              " TaggedDocument(words=['busy', 'work'], tags=[235]),\n",
              " TaggedDocument(words=['mummy', 'boy', '?', 'good', 'bad', '?', 'positive', 'negative', '?', 'mummy', 'make', 'wait', 'homme'], tags=[236]),\n",
              " TaggedDocument(words=['say', 'would', 'wake', '...', ':-('], tags=[237]),\n",
              " TaggedDocument(words=['I', 'ask', 'yquessome', 'hour', 'answer'], tags=[238]),\n",
              " TaggedDocument(words=['he-', 'big', 'belly', 'laugh', 'see'], tags=[239]),\n",
              " TaggedDocument(words=['nice', 'day', 'dear'], tags=[240]),\n",
              " TaggedDocument(words=['hope', 'since', 'travel', 'forgottehi', 'guy'], tags=[241]),\n",
              " TaggedDocument(words=['make', 'appointment'], tags=[242]),\n",
              " TaggedDocument(words=['slave', 'I', 'take', '2', '3', 'picture', 'today', 'brighlighyour', 'cell', 'phone', 'highlight'], tags=[243]),\n",
              " TaggedDocument(words=['small', 'capacity', 'one', 'quite', 'ex'], tags=[244]),\n",
              " TaggedDocument(words=['save', 'stress', 'perhaps', 'form', 'account', 'suspend', 'detail', 'money'], tags=[245]),\n",
              " TaggedDocument(words=['hon', 'peter', 'I', 'recently', '&', 'sum', 'dinerleft', 'bill', 'say', '\\x91rent', 'may', 'interested', 'I', '12,000pe', 'around', '£', 'james'], tags=[246]),\n",
              " TaggedDocument(words=['please', 'tell', 'I', 'car', 'key', 'purse'], tags=[247]),\n",
              " TaggedDocument(words=['ok', 'I', 'town', 'let'], tags=[248]),\n",
              " TaggedDocument(words=['anything', 'bpayoh', 'place', '2', 'walk', 'I'], tags=[249]),\n",
              " TaggedDocument(words=['di', 'I', 'think', 'back', 'box'], tags=[250]),\n",
              " TaggedDocument(words=['I', 'serious', 'money', 'base'], tags=[251]),\n",
              " TaggedDocument(words=['true', 'easy'], tags=[252]),\n",
              " TaggedDocument(words=['ok'], tags=[253]),\n",
              " TaggedDocument(words=['sound', 'like', 'many', 'talent', 'would', 'like', 'dinner', 'date', 'nexweek'], tags=[254]),\n",
              " TaggedDocument(words=['jusdwhever', 'easy'], tags=[255]),\n",
              " TaggedDocument(words=['never', 'song', 'stuck', 'head', 'reason', 'away', 'til', 'ylistelike', '5', 'time'], tags=[256]),\n",
              " TaggedDocument(words=['table', 'anything'], tags=[257]),\n",
              " TaggedDocument(words=['yes', 'princess', 'I', 'make', 'happy'], tags=[258]),\n",
              " TaggedDocument(words=['nice', 'pus', 'near', 'france', 'near', 'warn', 'cinema'], tags=[259]),\n",
              " TaggedDocument(words=['come', 'funeral', 'home'], tags=[260]),\n",
              " TaggedDocument(words=['dear', 'know', '&', 'th', '&', 'th', 'birthday', 'love', 'gopalettan', 'plan', 'give', 'small', 'birthday', 'like', 'participate', 'welcome', 'please', 'admteam', 'detail'], tags=[261]),\n",
              " TaggedDocument(words=['god', 'man', 'dear', 'nice', 'day'], tags=[262]),\n",
              " TaggedDocument(words=['still', 'chance', 'search', 'hard', 'get', 'try', ':)'], tags=[263]),\n",
              " TaggedDocument(words=['war', 'I', 'know', 'di', 'would', 'happen', 'already'], tags=[264]),\n",
              " TaggedDocument(words=['come', 'sort', 'narcotic', 'situation'], tags=[265]),\n",
              " TaggedDocument(words=['well', 'watch', 'shriek', 'd!!b'], tags=[266]),\n",
              " TaggedDocument(words=['town', 'v.', 'important'], tags=[267]),\n",
              " TaggedDocument(words=[], tags=[268]),\n",
              " TaggedDocument(words=['due', 'long', 'piece', 'I', 'aquarium'], tags=[269]),\n",
              " TaggedDocument(words=['cell', 'pus', 'send', 'I', 'mail', 'know', 'relative', 'come', 'deliver', 'know', 'cost', 'risk', 'benefit', 'anything', 'else', 'thank'], tags=[270]),\n",
              " TaggedDocument(words=['whole', 'tell', 'stupid', 'hear', 'tell', 'anything', 'dad', 'call', 'brother', 'speak', 'I'], tags=[271]),\n",
              " TaggedDocument(words=['dish', 'rightly', 'say', '\"', 'fool', 'ask', 'question', 'answer', 'know', 'speechless', 'viva', 'go'], tags=[272]),\n",
              " TaggedDocument(words=['ok', '.', '.', 'bus', '.', 'come', 'come', 'otherwise', 'tomorrow'], tags=[273]),\n",
              " TaggedDocument(words=['I', 'dear', 'anything'], tags=[274]),\n",
              " TaggedDocument(words=['hey', 'whhappede', 'alright'], tags=[275]),\n",
              " TaggedDocument(words=['I', 'shall', 'book', 'cher', 'rule', 'half', 'eight', 'ok'], tags=[276]),\n",
              " TaggedDocument(words=['need', 'war', 'begin', 'cos', 'art', 'today'], tags=[277]),\n",
              " TaggedDocument(words=[':-)', 'yeah', 'luckily', 'star', 'role', 'like'], tags=[278]),\n",
              " TaggedDocument(words=['ok', 'home', 'nice', 'mean', 'v', 'chat'], tags=[279]),\n",
              " TaggedDocument(words=['thank', 'reply', 'today', 'viscome', 'r', 'still', 'buy', 'bag', 'sister', 'thing', 'easy', 'uncle', 'johalshas', 'bill', 'really', 'need', 'think', 'abhor', 'make', 'money', 'later'], tags=[280]),\n",
              " TaggedDocument(words=['nowadays', 'people', 'notixiquate', 'laxinorficate', 'opportunity', 'gamble', 'entropication', 'never', 'oblisingately', 'often', 'book', 'masteriastere', 'amplikater', 'fidalfication', 'champlaxigate', 'think', 'atrocious', 'opinion', 'unna'], tags=[281]),\n",
              " TaggedDocument(words=['swhydoe', 'today'], tags=[282]),\n",
              " TaggedDocument(words=['good', 'morning', 'princess', 'happy', 'new', 'year'], tags=[283]),\n",
              " TaggedDocument(words=['many', 'company', 'tell', 'I', 'language'], tags=[284]),\n",
              " TaggedDocument(words=['alsace', 'miss'], tags=[285]),\n",
              " TaggedDocument(words=['really', 'good:)danish', 'rock'], tags=[286]),\n",
              " TaggedDocument(words=['pus', 'speak', 'I', 'I', 'ask', 'anything', 'theyfriendship'], tags=[287]),\n",
              " TaggedDocument(words=['around', 'say', 'ass', 'epsilon'], tags=[288]),\n",
              " TaggedDocument(words=['message', 'I', 'yijue', 'grate', 'cos', 'meeting', 'today', 'may', 'I', 'ask', 'ü', 'leave', 'early', 'cos', 'may', 'ü', 'walk', 'v', 'far'], tags=[289]),\n",
              " TaggedDocument(words=['bring', 'forget'], tags=[290]),\n",
              " TaggedDocument(words=['hey', 'go', 'less', 'grm'], tags=[291]),\n",
              " TaggedDocument(words=['understand', 'loss', 'g', 'sdywork', 'school'], tags=[292]),\n",
              " TaggedDocument(words=['person', 'story'], tags=[293]),\n",
              " TaggedDocument(words=['I', 'home', 'please', 'call'], tags=[294]),\n",
              " TaggedDocument(words=['good', 'afterloverboy', '!', 'go', 'day', '?', 'luck', 'come', 'way', 'I', 'think', 'sweet', 'send', 'love', 'across', 'make', 'smile', 'happy'], tags=[295]),\n",
              " TaggedDocument(words=['time', 'liar', 'still', 'get'], tags=[296]),\n",
              " TaggedDocument(words=['know', 'let', 'decide', 'ableona', 'loop', 'bee', 'go', 'message'], tags=[297]),\n",
              " TaggedDocument(words=['miss', 'call', 'miss', 'call', 'relate', 'kopponenter', 'miss', 'call', 'horse', 'large', 'rule', 'one', 'trephine', 'receive', 'quality', 'win'], tags=[298]),\n",
              " TaggedDocument(words=['speak', 'cash', 'yet'], tags=[299]),\n",
              " TaggedDocument(words=['I', 'take', 'italfood', 'pretty', 'dress', 'party', ':)'], tags=[300]),\n",
              " TaggedDocument(words=['strode', '.', 'bank', 'late', 'reply', 'confirm', 'righperson'], tags=[301]),\n",
              " TaggedDocument(words=['yeah', 'sure', 'I', 'leave', 'min'], tags=[302]),\n",
              " TaggedDocument(words=['tell', 'rob', 'mack', 'theater'], tags=[303]),\n",
              " TaggedDocument(words=['scommhearhow', 'r', 'day', 'slime', 'ask', 'something', 'different', 'smile', 'today', 'god', 'long'], tags=[304]),\n",
              " TaggedDocument(words=['ok', 'I', 'stay', 'nighhere', 'easy', 'sleep', 'bag', 'I', 'get', 'tired'], tags=[305]),\n",
              " TaggedDocument(words=['loop', 'I', 'leyknow', 'roommate'], tags=[306]),\n",
              " TaggedDocument(words=['little', 'difficulty', 'simple', 'way', 'enter', 'place'], tags=[307]),\n",
              " TaggedDocument(words=['fuck', 'cedar', 'key', 'fuck', '(', 'anyway', 'though'], tags=[308]),\n",
              " TaggedDocument(words=['go', 'shop', 'stuff', 'watch', 'infernal', 'affair', 'come', 'war'], tags=[309]),\n",
              " TaggedDocument(words=['japanese', 'proverb', 'one', 'edit', 'edit', 'none', 'edit', 'musdindversion', 'one', 'edit', 'let', 'none', 'edit', 'finally', 'keralversion', 'one', 'none', 'make', 'strike'], tags=[310]),\n",
              " TaggedDocument(words=['finally', 'ready', 'foi'], tags=[311]),\n",
              " TaggedDocument(words=['I', 'alsace', 'room'], tags=[312]),\n",
              " TaggedDocument(words=['way', 'skrighoutside', 'house', 'see', 'house', 'juspull'], tags=[313]),\n",
              " TaggedDocument(words=['time', 'come', 'tomorrow'], tags=[314]),\n",
              " TaggedDocument(words=['I', 'home', 'love', '...', 'still', 'awake', '...', '*', 'kiss'], tags=[315]),\n",
              " TaggedDocument(words=['sorry', 'miss', 'call', 'please', 'call', 'back'], tags=[316]),\n",
              " TaggedDocument(words=['hey', 'fancy', 'meme', '4', 'ch\\x96', 'beverage', 'I', 'ring', 'I', 'meel8r', 'quite', 'tired', 'go', 'v.his', 'love', 'peter', 'x', 'x', 'x'], tags=[317]),\n",
              " TaggedDocument(words=['sea', 'lay', 'rock', 'rock', 'envelope', 'envelope', 'paper', 'paper', '3', 'word', \"'\"], tags=[318]),\n",
              " TaggedDocument(words=['I', 'love', 'wine', 'dine', 'lady'], tags=[319]),\n",
              " TaggedDocument(words=['reply', 'bone', 'change', 'phone', 'number'], tags=[320]),\n",
              " TaggedDocument(words=['training', 'tomorrow'], tags=[321]),\n",
              " TaggedDocument(words=['actual', 'exam', 'hard', 'theme'], tags=[322]),\n",
              " TaggedDocument(words=['hey', 'charles', 'sorry', 'bathe', 'late', 'reply'], tags=[323]),\n",
              " TaggedDocument(words=['hope', 'great'], tags=[324]),\n",
              " TaggedDocument(words=['house', 'murderer', 'co', 'murder', '&', 'th', 'january', 'publholiday', 'got.institution', 'closed', 'posoffice'], tags=[325]),\n",
              " TaggedDocument(words=['gal', 'boy', 'walk', 'park', 'gal', 'hand', 'boy', 'think', 'would', 'away', 'gal', 'show', 'feel', 'walk', 'heavewith', 'prince'], tags=[326]),\n",
              " TaggedDocument(words=['available', 'soiree', 'june', 'rd'], tags=[327]),\n",
              " TaggedDocument(words=['finish', 'bathe'], tags=[328]),\n",
              " TaggedDocument(words=['yeah', 'sure', 'thing', 'mate', 'hall', 'stuff', 'sorted', 'go', 'sound', 'anyway', 'promote', '.by', 'way', 'know', 'number', 'joke'], tags=[329]),\n",
              " TaggedDocument(words=['every', 'vague', 'jussaid', 'would', 'inform', 'persaccounte', 'bathe', 'delay', 'read', 'discuss', 'housing', 'agency', 'army', 'rent', 'another', 'place', 'check', 'online', 'place', 'around', 'usage', '&'], tags=[330]),\n",
              " TaggedDocument(words=['nothing', 'bore', 'dyghome', 'early', '2', 'sleetoday'], tags=[331]),\n",
              " TaggedDocument(words=['roll', 'true', 'name'], tags=[332]),\n",
              " TaggedDocument(words=['*', 'go', 'ring', 'weekend'], tags=[333]),\n",
              " TaggedDocument(words=['*', 'think', 'abchuckyare', 'red', 'greenback', 'trainer', '2', 'save', 'carrythem', 'brain'], tags=[334]),\n",
              " TaggedDocument(words=['gworklor', 'mud', 'lose', 'e', 'fats'], tags=[335]),\n",
              " TaggedDocument(words=['god', 'bless.good', 'sleepy', 'dear', 'pray'], tags=[336]),\n",
              " TaggedDocument(words=['hurry', 'home', 'big', 'butt', 'hang', 'lascaller', 'food', 'I', 'starve', 'ask', 'cook'], tags=[337]),\n",
              " TaggedDocument(words=['babe', 'I', 'fucking', 'love', 'know', 'fuck', 'good', 'hear', 'voice', 'I', 'need', 'I', 'grave', 'I', 'enough', 'I', 'adore', 'ahead', '*'], tags=[338]),\n",
              " TaggedDocument(words=['hata', 'leg', 'neck', 'kill', 'I', 'amiss', 'hope', 'end', 'nighwith', 'burn', 'think', 'I', 'could', 'swing', 'like', 'hour'], tags=[339]),\n",
              " TaggedDocument(words=['watch', 'nice', 'one', 'thelike'], tags=[340]),\n",
              " TaggedDocument(words=['late:)bits', 'k.wish'], tags=[341]),\n",
              " TaggedDocument(words=['well', 'theyhave', 'greweekend'], tags=[342]),\n",
              " TaggedDocument(words=['reverse', 'cheat', 'mathematic'], tags=[343]),\n",
              " TaggedDocument(words=['I', 'could', 'ask', 'carlo', 'could', 'anybody', 'else', 'chin'], tags=[344]),\n",
              " TaggedDocument(words=['sick', 'still', 'shop'], tags=[345]),\n",
              " TaggedDocument(words=['I', 'reach', 'home', 'bathe', 'liar', 'call', 'I'], tags=[346]),\n",
              " TaggedDocument(words=['world', 'famous'], tags=[347]),\n",
              " TaggedDocument(words=['ok', 'dear', 'call', 'check'], tags=[348]),\n",
              " TaggedDocument(words=['I', 'please', 'come', 'min', 'town.dontmatter', 'groin', 'outer', 'reallyneed', 'dock.please', 'dontplease', 'dontignore', 'call', 'is.important', '4'], tags=[349]),\n",
              " TaggedDocument(words=['send', 'number', 'give', 'reply', 'tomorrow', 'morning', 'say', 'like', 'take'], tags=[350]),\n",
              " TaggedDocument(words=['message', 'texmisse', 'tender', 'miss', '*', 'miss', '*', 'miss', '*', 'everything', 'miss', 'sevfullonsms.com'], tags=[351]),\n",
              " TaggedDocument(words=['nsonathaysoladha', 'boss'], tags=[352]),\n",
              " TaggedDocument(words=['class:-'], tags=[353]),\n",
              " TaggedDocument(words=['seem', 'facebook', 'hut'], tags=[354]),\n",
              " TaggedDocument(words=['I', 'ask', 'meeting', 'due', 'tomorrow', 'note'], tags=[355]),\n",
              " TaggedDocument(words=['lovely', 'smell', 'bus', 'tobacco'], tags=[356]),\n",
              " TaggedDocument(words=['play', 'w', 'computer', 'dinah', '2'], tags=[357]),\n",
              " TaggedDocument(words=['ha', 'muswalk', 'everywhere', 'take', 'trap', 'coussaid', 'walk', 'vmarkefrom', 'hotel'], tags=[358]),\n",
              " TaggedDocument(words=['ah', 'wednesday', 'wheshould', 'I', 'bring', 'mcheeto', 'bag'], tags=[359]),\n",
              " TaggedDocument(words=['ok', 'ü', 'finish', 'soon'], tags=[360]),\n",
              " TaggedDocument(words=['ambrine', 'rake', 'ex', 'tm', 'here.pus', 'call.urgent'], tags=[361]),\n",
              " TaggedDocument(words=['good', 'evening', 'tell'], tags=[362]),\n",
              " TaggedDocument(words=['no:-)rumour', 'thygoing', 'buy', 'apartmechennai:-'], tags=[363]),\n",
              " TaggedDocument(words=['sorry', 'I', 'helythis'], tags=[364]),\n",
              " TaggedDocument(words=['k', 'free', 'come', 'home', 'last', 'milky', 'email', 'also', 'well', 'come', 'evening', 'il', 'free', 'today', 'pm'], tags=[365]),\n",
              " TaggedDocument(words=['theydrive'], tags=[366]),\n",
              " TaggedDocument(words=['due', 'beekeepe', 'lcorvette', 'lately'], tags=[367]),\n",
              " TaggedDocument(words=['evening', '*', 'v', 'good', 'somewheveladen', 'fill', 'worry', '…', 'head', '*', 'ok', 'wrecked', 'see', 'six'], tags=[368]),\n",
              " TaggedDocument(words=['back', 'rum', 'thank', 'put', 'keep', 'happy', 'see'], tags=[369]),\n",
              " TaggedDocument(words=['nice', '.', '.be', 'ready', 'thursday'], tags=[370]),\n",
              " TaggedDocument(words=['shorbcute', '\"', 'good', 'person', 'dry', 'prove', '.god', 'noon'], tags=[371]),\n",
              " TaggedDocument(words=['hut', 'house', 'empty', 'hand', 'right'], tags=[372]),\n",
              " TaggedDocument(words=['already', '4', 'print', 'hand'], tags=[373]),\n",
              " TaggedDocument(words=['still', 'work', 'time', 'astride', 'add', 'zero', 'twa', 'saving', 'check', '&'], tags=[374]),\n",
              " TaggedDocument(words=['I', 'tell', 'I', 'dr', 'nexweek', 'think', 'I', 'go', 'die', 'I', 'tell', 'juscheck', 'nothing', 'worried', 'listen'], tags=[375]),\n",
              " TaggedDocument(words=['*', 'good', 'weekend'], tags=[376]),\n",
              " TaggedDocument(words=['b', 'ok'], tags=[377]),\n",
              " TaggedDocument(words=['say', 'fantasy', 'chance', 'anything', 'need', 'big', 'life', 'lift', 'lose', '2', 'live', 'think', 'I', 'would', 'firspers2', 'die', 'n', 'v', 'q'], tags=[378]),\n",
              " TaggedDocument(words=['whhappedear', 'tell', 'I'], tags=[379]),\n",
              " TaggedDocument(words=['ah.now', 'ü', 'wig', 'where?by', 'way', 'ü', 'gun', 's.', 'ü', 'specialise', 'wad'], tags=[380]),\n",
              " TaggedDocument(words=['see', 'know', 'give', 'break', 'time', 'would', 'lead', 'always', 'want', 'miss', 'cure', 'I', 'go', 'gibe', \"y'til\", 'one', 'midnight', 'movie', 'go', 'get', '2', 'need', 'come', 'home', 'need', 'getsleeand', 'anything', 'need', 'b', 'study', 'ear', 'training'], tags=[381]),\n",
              " TaggedDocument(words=['war', 'hurry', 'prswhs', 'close', '2', 'dfighwdem', 'co', 'sometimes', 'di', 'fighsave', 'relbbee', 'quieleave', 'nothrelation', 'god', 'even-'], tags=[382]),\n",
              " TaggedDocument(words=['I', 'awake', 'oh'], tags=[383]),\n",
              " TaggedDocument(words=['k', 'give', 'treat'], tags=[384]),\n",
              " TaggedDocument(words=['bradshaw'], tags=[385]),\n",
              " TaggedDocument(words=['thursday', 'night', 'yeah', 'sure', 'thing', 'work'], tags=[386]),\n",
              " TaggedDocument(words=['I', 'set', 'send', 'I'], tags=[387]),\n",
              " TaggedDocument(words=['theybetter', 'sleep', 'disturb', 'iliac', 'wake', 'themessage', 'I'], tags=[388]),\n",
              " TaggedDocument(words=['project', 'free'], tags=[389]),\n",
              " TaggedDocument(words=['tell', 'friend', 'whypldvalentine', 'day', '@', '&'], tags=[390]),\n",
              " TaggedDocument(words=['I', 'give', 'everything', 'wand', 'need', 'actually', 'could', 'well', 'money', 'I', 'work', 'german', 'pay', 'rent', 'refill', 'fucking', 'gas', 'tank', 'yes', 'stress', 'depressed', 'I', 'recall', 'home', 'thanksgive', 'cut', 'tell', 'I', 'nothing'], tags=[391]),\n",
              " TaggedDocument(words=['lot'], tags=[392]),\n",
              " TaggedDocument(words=['yes', 'nigh', 'ah'], tags=[393]),\n",
              " TaggedDocument(words=['sorry', 'I', 'call', 'later', 'meeting'], tags=[394]),\n",
              " TaggedDocument(words=['ü', 'send', 'I', 'content', 'page'], tags=[395]),\n",
              " TaggedDocument(words=['nyechikku', 'room', 'bus'], tags=[396]),\n",
              " TaggedDocument(words=['ygthperson', 'story'], tags=[397]),\n",
              " TaggedDocument(words=['may', 'see', 'yaggette', 'bore', 'bridgwater', 'banter'], tags=[398]),\n",
              " TaggedDocument(words=['I', 'pick', 'phone', 'righnow', 'pus', 'send', 'message'], tags=[399]),\n",
              " TaggedDocument(words=['I', 'know', 'dfeelhad', 'peter', 'would', ',', 'nether', 'place', 'nether', 'time', 'may'], tags=[400]),\n",
              " TaggedDocument(words=['hope', 'grebreak', 'reward', 'smelter'], tags=[401]),\n",
              " TaggedDocument(words=['motivate', 'behind', 'every', 'darkness', 'shine', 'lighwaite', 'find', 'behind', 'every', 'befriend', 'always', 'thousand', 'love', 'bslvyl'], tags=[402]),\n",
              " TaggedDocument(words=['tell', 'I', 'say', 'eat', 'shit'], tags=[403]),\n",
              " TaggedDocument(words=['goodmorning', 'today', 'late', '&', 'min'], tags=[404]),\n",
              " TaggedDocument(words=['I', 'I', 'pay', 'attention'], tags=[405]),\n",
              " TaggedDocument(words=['@', 'home', 'become', 'dowwith5', 'min'], tags=[406]),\n",
              " TaggedDocument(words=['nothing', 'ok', 'anyway', 'give', 'I', 'treat'], tags=[407]),\n",
              " TaggedDocument(words=['I', 'pick', 'phone', 'righnow', 'pus', 'send', 'message'], tags=[408]),\n",
              " TaggedDocument(words=['hi', 'darling', 'I', 'finish', '3', '1', '2', 'pick', 'I', 'meet', 'I', 'text', 'back', 'number', 'love', 'kate', 'xxx'], tags=[409]),\n",
              " TaggedDocument(words=['yegewith', 'program', 'lack'], tags=[410]),\n",
              " TaggedDocument(words=['min', 'bus', 'stop'], tags=[411]),\n",
              " TaggedDocument(words=['honey', 'say', '*', 'sweetest', 'world', 'god', 'laugh', '&', 'say', '*', 'harm', 'persuade', 'message', 'moral', 'evegod', 'crack', 'joke', 'go+in+he+in'], tags=[412]),\n",
              " TaggedDocument(words=['hungry'], tags=[413]),\n",
              " TaggedDocument(words=['it‘s', '£', 'vein', 'take'], tags=[414]),\n",
              " TaggedDocument(words=['double', 'week', '-', 'spiral', 'michael', 'good', 'radiance'], tags=[415]),\n",
              " TaggedDocument(words=['I', 'think', 'thtantrum', 'finish', 'yeah', 'I', 'point'], tags=[416]),\n",
              " TaggedDocument(words=['dear', 'hero', 'leave', 'later', 'tone', 'opportunity.pus', 'dkeetouch', '&', ','], tags=[417]),\n",
              " TaggedDocument(words=['pus', 'today', '&', '.', 'I', 'excuse'], tags=[418]),\n",
              " TaggedDocument(words=['night', 'end', 'another', 'day', 'morning', 'come', 'special', 'way', 'may', 'smile', 'like', 'sunny', 'ray', 'leave', 'worry', 'blue', 'blue', 'bay', 'god', 'man'], tags=[419]),\n",
              " TaggedDocument(words=[], tags=[420]),\n",
              " TaggedDocument(words=['I', 'bus', 'love'], tags=[421]),\n",
              " TaggedDocument(words=['joke', 'seriously', 'tell'], tags=[422]),\n",
              " TaggedDocument(words=['wish', 'wonderful', 'week'], tags=[423]),\n",
              " TaggedDocument(words=['somewhere', 'someone', 'surely', 'make', '4', 'god', 'decide', 'peacetime', 'make', 'ymeedperson', '.', '.', '.', 'till', 'den', '.', '.', '.', '.', '.', 'enjoy', 'crush'], tags=[424]),\n",
              " TaggedDocument(words=['k', 'the2marrow', 'come', 'class'], tags=[425]),\n",
              " TaggedDocument(words=['well', 'nighnigh'], tags=[426]),\n",
              " TaggedDocument(words=['I', 'tirupur', 'call', 'da'], tags=[427]),\n",
              " TaggedDocument(words=['long', 'fucking', 'show'], tags=[428]),\n",
              " TaggedDocument(words=['I', 'reach', 'office', 'around', '&', '.', '&', 'mobile', 'problem', \"can'gem\", 'voice', 'shall', 'yaswill', 'free'], tags=[429]),\n",
              " TaggedDocument(words=['may', 'finally', 'miss', 'cinemtrlasweek', ':-('], tags=[430]),\n",
              " TaggedDocument(words=['hard', 'believe', 'thing', 'like', 'say', 'lie', 'think', 'twice', 'say', 'anything', 'I'], tags=[431]),\n",
              " TaggedDocument(words=['betray', 'player'], tags=[432]),\n",
              " TaggedDocument(words=['check', 'error', 'difficulty', 'correction'], tags=[433]),\n",
              " TaggedDocument(words=['ugh', 'hopefully', 'ask', 'people', 'drandomly', 'dreformat'], tags=[434]),\n",
              " TaggedDocument(words=['10', 'later', 'k'], tags=[435]),\n",
              " TaggedDocument(words=['I', 'could', 'say', 'die', 'I', 'feel', 'sad', 'si', 'I', 'unwanted', 'know', 'I', 'would', 'probably', 'go', 'late', 'night'], tags=[436]),\n",
              " TaggedDocument(words=['whiskey', 'brandy', 'rum', 'beer', 'vodkscotch', 'shamwine', '\"', '..'], tags=[437]),\n",
              " TaggedDocument(words=['palsy', 'believe', 'jungle', 'year', 'drive', 'worried'], tags=[438]),\n",
              " TaggedDocument(words=['nevermind', 'ok'], tags=[439]),\n",
              " TaggedDocument(words=['sir', 'wait', 'letter'], tags=[440]),\n",
              " TaggedDocument(words=['ok', 'ill', 'tell', 'company'], tags=[441]),\n",
              " TaggedDocument(words=['fuck', 'babe', '...', 'I', 'miss', 'already', 'know', '?', 'cyleme', 'send', 'money', 'towards', 'ne', 'I', 'need', 'I', 'I', 'grave'], tags=[442]),\n",
              " TaggedDocument(words=['shop', 'jug', 'arrive'], tags=[443]),\n",
              " TaggedDocument(words=['ugh', 'yjusapologize', 'admywere', 'wrong', 'ask', 'I', 'take', 'back'], tags=[444]),\n",
              " TaggedDocument(words=['ah', 'I', 'perpetual'], tags=[445]),\n",
              " TaggedDocument(words=['flex', 'say', 'ok', 'ok'], tags=[446]),\n",
              " TaggedDocument(words=['bee', 'go'], tags=[447]),\n",
              " TaggedDocument(words=['thing', 'change', 'sentence', '\"', 'concentrate', 'educational', 'career', 'leave'], tags=[448]),\n",
              " TaggedDocument(words=['go', 'unite'], tags=[449]),\n",
              " TaggedDocument(words=['time', 'I', 'tell', 'friend', 'around'], tags=[450]),\n",
              " TaggedDocument(words=['plan', 'ye:)goe', 'company', 'j', 'only.know', 'happeaft'], tags=[451]),\n",
              " TaggedDocument(words=['wpltrsometme'], tags=[452]),\n",
              " TaggedDocument(words=['real', 'though', 'suck', 'I', 'evecook', 'whole', 'electricity', 'I', 'hungry'], tags=[453]),\n",
              " TaggedDocument(words=['finish', 'work', 'yet', ':)'], tags=[454]),\n",
              " TaggedDocument(words=['old', 'I', 'live', 'high'], tags=[455]),\n",
              " TaggedDocument(words=['whedid', 'use', 'I', 'use', 'home', 'ü', 'know', '2', 'type', 'word', 'ar'], tags=[456]),\n",
              " TaggedDocument(words=['suppose', 'could', 'make', 'still', 'towthough'], tags=[457]),\n",
              " TaggedDocument(words=['I', 'wish', 'I', 'think', 'go', 'snow', 'much', 'flurry', 'usually', 'gethmelbefore', 'ground', 'week', 'snow', 'since', '&', 'I', 'reborn'], tags=[458]),\n",
              " TaggedDocument(words=['snow', 'see', 'message.k', 'da'], tags=[459]),\n",
              " TaggedDocument(words=['try', 'something', 'dear', 'read', 'something', 'exam'], tags=[460]),\n",
              " TaggedDocument(words=['minor', 'shine', 'place', 'later', 'tonight', 'interested'], tags=[461]),\n",
              " TaggedDocument(words=['o.', 'well', 'cause', 'mutation', 'sunscreeis', 'like', 'essential', 'tuesday'], tags=[462]),\n",
              " TaggedDocument(words=['sad', 'story', 'm-', 'lasweek', \"b'day\", 'wife', \"did'wish\", 'I', 'parent', 'forgsdid', 'kiss', '.', 'I', 'work', 'every', 'colleague', 'wish'], tags=[463]),\n",
              " TaggedDocument(words=['leave', 'righnow', 'back', 'soon'], tags=[464]),\n",
              " TaggedDocument(words=['hiydylike', 'day', 'pick', 'look', 'horrible', 'take', 'camamrthe', 'speak', 'serene'], tags=[465]),\n",
              " TaggedDocument(words=['I', 'go', 'sleep', 'I', 'tired', 'travel'], tags=[466]),\n",
              " TaggedDocument(words=['I', 'unmade', 'payment', 'shave', 'much', 'sorry', 'would', 'ywfedex', 'way'], tags=[467]),\n",
              " TaggedDocument(words=['mamma.will', 'call', 'check', 'in.our', 'life', 'begfrom', 'later', 'spa', 'pray', 'hard'], tags=[468]),\n",
              " TaggedDocument(words=['I', 'ask', 'around', 'term', 'miss'], tags=[469]),\n",
              " TaggedDocument(words=['brave', 'bush', 'taketh', 'train', 'triumph', 'I', 'mere‘re', 'b‘ham', 'jolly', 'good', 'rest', 'week'], tags=[470]),\n",
              " TaggedDocument(words=['hey', 'day', 'I', 'whence', 'shirfor', 'hobby', 'nice', 'fire', 'one', 'judge', '&', 'k', 'help', 'I', 'load', 'card', 'ah', 'post', 'love', '2'], tags=[471]),\n",
              " TaggedDocument(words=['ill', 'abe', 'mind', 'look', 'I'], tags=[472]),\n",
              " TaggedDocument(words=['ride', 'equally', 'uneventful', '-', 'many', 'sky', 'cyclist', 'around', 'time', 'nigh'], tags=[473]),\n",
              " TaggedDocument(words=['cool', 'time', 'ready'], tags=[474]),\n",
              " TaggedDocument(words=['I', 'go', 'miss', 'much'], tags=[475]),\n",
              " TaggedDocument(words=['hey', ',', '*', 'rite', 'y»10', 'even', 'month', 'shall'], tags=[476]),\n",
              " TaggedDocument(words=['jusdroppe', 'om', 'back'], tags=[477]),\n",
              " TaggedDocument(words=['money', 'thing'], tags=[478]),\n",
              " TaggedDocument(words=['break', 'time', 'one', 'I', 'come', 'gem', 'stuff', 'fr', 'ü'], tags=[479]),\n",
              " TaggedDocument(words=['dear', 'park'], tags=[480]),\n",
              " TaggedDocument(words=['thank', 'honey', 'still', 'hear', 'anything', 'I', 'leave', 'long', 'crowd', 'try', 'later', '-', 'greadvice', 'thank', 'hope', 'tariff', 'still'], tags=[481]),\n",
              " TaggedDocument(words=['lecture', 'cheery', 'bye', 'bye'], tags=[482]),\n",
              " TaggedDocument(words=['love', '...', 'I', 'hope', 'anything', 'drastic', 'dare', 'sell', 'phone', '...'], tags=[483]),\n",
              " TaggedDocument(words=['sorry', 'I', 'call', 'later'], tags=[484]),\n",
              " TaggedDocument(words=['pity', '*', 'mood', 'suggestion'], tags=[485]),\n",
              " TaggedDocument(words=['mmm', 'field', 'quickly', 'da:-)wgesystem', 'administrator', 'network', 'administrator'], tags=[486]),\n",
              " TaggedDocument(words=['replace', 'I', 'hear', 'mind', 'mind', 'easily', 'forget', 'heartily', 'always', 'remember', 'wish', 'happy', 'valentine', 'day'], tags=[487]),\n",
              " TaggedDocument(words=['I', 'like', 'di', 'sweet', 'fr', 'mangbmore', 'size', 'already', 'irritate'], tags=[488]),\n",
              " TaggedDocument(words=['favourite', 'perstoday', 'r', 'yworkhard', 'could', 'sleeaglasnite', 'nearly', 'rang', 'y.30'], tags=[489]),\n",
              " TaggedDocument(words=['unbelievable'], tags=[490]),\n",
              " TaggedDocument(words=['rake', 'know'], tags=[491]),\n",
              " TaggedDocument(words=['happy', 'birthday', 'lot', 'love.rake', 'ni'], tags=[492]),\n",
              " TaggedDocument(words=['less', 'I', 'favor', 'pus', 'convey', 'birthday', 'wish', 'ilya', 'forget', 'today', 'birthday', 'ship'], tags=[493]),\n",
              " TaggedDocument(words=['I', 'like', 'people', 'much', 'shy', 'pa'], tags=[494]),\n",
              " TaggedDocument(words=['thank', 'love', 'torch', 'bold'], tags=[495]),\n",
              " TaggedDocument(words=['okay', 'still', 'less', 'ah', 'co', 'know', 'later', 'card', 'box', 'right'], tags=[496]),\n",
              " TaggedDocument(words=['uncle', 'misinformed', 'I', 'pay', 'school', 'directly', 'spa', 'buy', 'food'], tags=[497]),\n",
              " TaggedDocument(words=['webpage', 'available'], tags=[498]),\n",
              " TaggedDocument(words=['study', 'i.ll', 'free', 'nexweekend'], tags=[499]),\n",
              " TaggedDocument(words=['come', 'I', 'slave', 'go', 'unconsciously', 'avoid', 'I', '...', 'make', 'I', 'unhappy', ':-('], tags=[500]),\n",
              " TaggedDocument(words=['talk', 'ever', 'ok', 'word'], tags=[501]),\n",
              " TaggedDocument(words=['k', 'make', 'sense', 'way', 'carlo', 'difficulsyguy', 'go', 'smoke', 'I', 'pick', 'second', 'batch', 'begin'], tags=[502]),\n",
              " TaggedDocument(words=['send', 'naughty', 'six', ':)'], tags=[503]),\n",
              " TaggedDocument(words=['owheygoe', 'ring'], tags=[504]),\n",
              " TaggedDocument(words=['di', 'good', 'good', 'player.why', 'untold'], tags=[505]),\n",
              " TaggedDocument(words=['due', 'like', 'buff', 'wind'], tags=[506]),\n",
              " TaggedDocument(words=['gtallebyare', 'waste'], tags=[507]),\n",
              " TaggedDocument(words=['come', 'pick', 'I', '530', 'ar'], tags=[508]),\n",
              " TaggedDocument(words=['finally', 'match', 'head', 'towards', 'draw', 'prediction'], tags=[509]),\n",
              " TaggedDocument(words=['I', 'come', 'home', '4', 'dinner'], tags=[510]),\n",
              " TaggedDocument(words=['nimbomson', 'phone', 'know', 'obviously', 'cos', 'real', 'word'], tags=[511]),\n",
              " TaggedDocument(words=['awesome', 'lee', 'know', 'whenever', 'around'], tags=[512]),\n",
              " TaggedDocument(words=['please', 'give', 'connetoday', '&', 'refund', 'bill'], tags=[513]),\n",
              " TaggedDocument(words=['geese', '...', 'internet', 'really', 'bad', 'today', 'eh', '?'], tags=[514]),\n",
              " TaggedDocument(words=['love', 'decision', 'feeling', 'could', 'decide', 'whole', 'life', 'would', 'much', 'simple', 'baseless', 'magical'], tags=[515]),\n",
              " TaggedDocument(words=['honey', 'I', 'miss'], tags=[516]),\n",
              " TaggedDocument(words=['pus', 'helmet', 'tell', 'durham', 'expect', 'battery', 'hot', 'pus', 'send', 'I', 'message', 'abhor', 'download', 'move', 'thank'], tags=[517]),\n",
              " TaggedDocument(words=['give', 'I', 'problem', 'may', 'leave'], tags=[518]),\n",
              " TaggedDocument(words=['codman', 'meeting', 'point'], tags=[519]),\n",
              " TaggedDocument(words=['sorry', 'I', 'call', 'later'], tags=[520]),\n",
              " TaggedDocument(words=['demand', 'chestill', 'silent'], tags=[521]),\n",
              " TaggedDocument(words=['eldesknow'], tags=[522]),\n",
              " TaggedDocument(words=['try', 'g', 'I', 'decide', 'head'], tags=[523]),\n",
              " TaggedDocument(words=['tune', 'swishing', 'ygreday', 'axilla'], tags=[524]),\n",
              " TaggedDocument(words=['would', 'I', 'smoke', 'yield', 'work', 'difficulty'], tags=[525]),\n",
              " TaggedDocument(words=['height', 'recall', 'read', 'twice-', 'people', 'spend', 'time', 'earn', 'money', 'money', 'spear', 'spend', 'time!;-', 'good', 'morning', 'keesmiling:-'], tags=[526]),\n",
              " TaggedDocument(words=['I', 'let', 'mexican'], tags=[527]),\n",
              " TaggedDocument(words=['week', 'time', 'especially', 'since', 'amelie', 'like', '8', 'minute', 'long', 'I', 'singe'], tags=[528]),\n",
              " TaggedDocument(words=['sunny', 'california', 'weather', 'juscool'], tags=[529]),\n",
              " TaggedDocument(words=['ok', 'would', 'b', 'lovely', 'sure', 'think', 'abwywdo', 'drink', 'dancing', 'eat', 'cinema'], tags=[530]),\n",
              " TaggedDocument(words=['I', 'sorry', 'blasnite', 'wasn\\x92are', 'fault', 'I', 'spouse', 'poor', 'sustain', 'give', 'I', 'I', 'think', 'yshldxxxx'], tags=[531]),\n",
              " TaggedDocument(words=['bus', 'leave', '&'], tags=[532]),\n",
              " TaggedDocument(words=['I', 'anything'], tags=[533]),\n",
              " TaggedDocument(words=['time', 'come', 'dowager'], tags=[534]),\n",
              " TaggedDocument(words=['I', 'need', 'come', 'home', 'give', 'good', 'love'], tags=[535]),\n",
              " TaggedDocument(words=['dear'], tags=[536]),\n",
              " TaggedDocument(words=['thank', 'look', 'I', 'I', 'really', 'appreciate'], tags=[537]),\n",
              " TaggedDocument(words=['beerefille', 'successfully', '&', '.', 'keralacircle', 'repay', 'balance', '&', '.', 'transit', '&', '.'], tags=[538]),\n",
              " TaggedDocument(words=['twenty', 'passive', 'say', 'beedurham', 'already', 'co', 'reserve', 'seat'], tags=[539]),\n",
              " TaggedDocument(words=['k', 'come'], tags=[540]),\n",
              " TaggedDocument(words=['k', 'still', 'love', 'I'], tags=[541]),\n",
              " TaggedDocument(words=['okay', 'go', 'sleenow', 'later'], tags=[542]),\n",
              " TaggedDocument(words=['s:)8', 'lunch'], tags=[543]),\n",
              " TaggedDocument(words=['mm', 'time', 'like', 'fun'], tags=[544]),\n",
              " TaggedDocument(words=['jusgsome', 'gas', 'money', 'chance', 'gang', 'grand', 'nature', 'adventure'], tags=[545]),\n",
              " TaggedDocument(words=['today', 'holiday'], tags=[546]),\n",
              " TaggedDocument(words=['good', 'morning', 'boston', 'mummy', 'lip', '?', 'sex', 'gun', '?', 'think', 'I', '?', 'dycrave', 'I', '?', 'need', 'I', '?'], tags=[547]),\n",
              " TaggedDocument(words=['hope', 'bathe', 'dog', 'theatre', 'look', 'like', 'go', '2', 'soon'], tags=[548]),\n",
              " TaggedDocument(words=['k.:)evene', 'da:)urgent'], tags=[549]),\n",
              " TaggedDocument(words=['depend', 'would', 'like', 'treat', ':)'], tags=[550]),\n",
              " TaggedDocument(words=['babe', '!', 'I', 'love', '!', '*', 'face', 'kiss'], tags=[551]),\n",
              " TaggedDocument(words=['hahawesome', 'I', 'mighneed', 'take', 'whydtonight'], tags=[552]),\n",
              " TaggedDocument(words=['tell', 'make', 'little', 'spreadsheeand', 'track', 'whose', 'idea', 'smoke', 'determine', 'wh\"smoke', 'much', 'entire', 'month', 'february', 'I', 'come'], tags=[553]),\n",
              " TaggedDocument(words=['lot', 'use', 'one', 'babe', 'model', 'help', 'bring', 'match'], tags=[554]),\n",
              " TaggedDocument(words=['grm', 'show', 'handle', 'victorisland', 'traffic', 'plus', 'album', 'due'], tags=[555]),\n",
              " TaggedDocument(words=['really', 'bluff', 'I', 'let', 'sleeearly', 'note'], tags=[556]),\n",
              " TaggedDocument(words=['sorry', 'lefphone', 'upstairs', 'ok', 'might', 'hebwould', 'bird', 'one', 'fall', 'stoop', 'date'], tags=[557]),\n",
              " TaggedDocument(words=['ugh', 'I', 'dwgeof', 'bed', 'swarm'], tags=[558]),\n",
              " TaggedDocument(words=['hey', 'ü', 'still', 'online', 'I', 'finish', 'forget'], tags=[559]),\n",
              " TaggedDocument(words=['know', 'god', 'create', 'gbetweeyour', 'finger', 'one', 'make', 'come', '&', 'fill', 'gap', 'hold', 'hand', 'love'], tags=[560]),\n",
              " TaggedDocument(words=['change', 'e', 'one', 'nexescalator'], tags=[561]),\n",
              " TaggedDocument(words=['sorry', 'take', 'call', 'righnow', 'happen', 'r', '2waxsdwywant', 'come', 'ill', 'medical', 'insurance', 'able', 'deliver', 'lascar', 'I', 'currently', 'shop', 'righmedical', 'insurance', 'sjusgive', 'I', 'til', 'friday', 'morning', 'when.ll', 'see', 'major', 'persthguide', 'I', 'righinsurance'], tags=[562]),\n",
              " TaggedDocument(words=['really', 'really', 'break', 'oh', 'name', 'small', 'eve', '&'], tags=[563]),\n",
              " TaggedDocument(words=['he-', 'pop', 'soothe', 'lwheyhello', 'I', 'hello'], tags=[564]),\n",
              " TaggedDocument(words=['jay', 'sicken', 'tell', 'I', 'totally', 'fucking', 'chord', 'speak'], tags=[565]),\n",
              " TaggedDocument(words=['I', 'enjoy', 'watch', 'play', 'football', 'basketball', 'anything', 'outdoor'], tags=[566]),\n",
              " TaggedDocument(words=['come', 'da'], tags=[567]),\n",
              " TaggedDocument(words=['cinemplus', 'drink', 'appeal', '*', 'fr', 'thrill', 'director', 'like', 'my.30'], tags=[568]),\n",
              " TaggedDocument(words=['neshanth', 'I'], tags=[569]),\n",
              " TaggedDocument(words=['world', 'site', 'buy', 'bank', 'buy', 'self', 'assessmealso'], tags=[570]),\n",
              " TaggedDocument(words=['arabia', 'sonya', 'hear', 'story'], tags=[571]),\n",
              " TaggedDocument(words=['oh', 'god', 'I', 'go', 'goose', 'nearby', 'cliff'], tags=[572]),\n",
              " TaggedDocument(words=['well', 'boy', 'I', 'glad', 'g', 'waste', 'nighapplebee', 'nothing'], tags=[573]),\n",
              " TaggedDocument(words=['cut', 'bored', 'study'], tags=[574]),\n",
              " TaggedDocument(words=['give', 'back', 'I', 'proof', '&', 'allow', 'work', 'come', 'home', 'birthday'], tags=[575]),\n",
              " TaggedDocument(words=['today', '\"', 'dedicated', 'day', 'song', 'dedicate', 'I', 'send', 'valuable', 'fund', 'bfirsrply', 'I'], tags=[576]),\n",
              " TaggedDocument(words=['nobody', 'name', 'penis', 'girl', 'name', 'story', 'add'], tags=[577]),\n",
              " TaggedDocument(words=['I', 'thank', 'helplessness', 'I', 'love', 'plenty'], tags=[578]),\n",
              " TaggedDocument(words=['ü', 'b', 'go', 'esplanade', 'fr', 'home'], tags=[579]),\n",
              " TaggedDocument(words=['get', 'anywhere', 'damjob', 'hunt'], tags=[580]),\n",
              " TaggedDocument(words=['go', 'tomorrow'], tags=[581]),\n",
              " TaggedDocument(words=['probably', 'go', 'see', 'later', 'tonight&it'], tags=[582]),\n",
              " TaggedDocument(words=['bear', 'god', 'say', '\"', 'another', 'idiot', 'wheywere', 'bear', 'god', 'say', '\"', 'competition', 'know', 'one', 'day', 'become', 'friend', 'forever'], tags=[583]),\n",
              " TaggedDocument(words=['number', 'vive'], tags=[584]),\n",
              " TaggedDocument(words=['meeting', 'da', 'I', 'call'], tags=[585]),\n",
              " TaggedDocument(words=['I', 'think', 'i‘m', 'wait', 'bus', 'inform', 'I', 'wheygethere', 'never'], tags=[586]),\n",
              " TaggedDocument(words=['lee', 'know', 'wheyhave', 'money', 'scar', 'make', 'call'], tags=[587]),\n",
              " TaggedDocument(words=['yes'], tags=[588]),\n",
              " TaggedDocument(words=['sthmean', 'still', 'think', 'tell'], tags=[589]),\n",
              " TaggedDocument(words=['I', 'love', 'starwise', 'attraction.should', 'feel', 'need', 'every', 'time', 'around', 'me.she', 'fishing', 'come', 'thoughts.i', 'would', 'startle', 'day', 'end', 'her.she', 'every', 'time', 'I', 'dream.love', 'thewhemy', 'every', 'breath', 'name.my', 'life', 'happearound', 'her.my', 'life', 'name', 'her.i', 'would', 'cry', 'her.will', 'give', 'happiness', 'take', 'sorrows.i', 'ready', 'fighwith', 'anyone', 'her.i', 'love', 'craziesthing', 'her.love', 'prove', 'anyone', 'girl', 'mosbeautiful', 'lady', 'whole', 'planet.i', 'always', 'singe', 'praise', 'her.love', 'starmake', 'chickecurry', 'end', 'make', 'saber.life', 'mosbeautiful', 'then.will', 'every', 'morning', 'thank', 'god', 'day', 'me.i', 'would', 'like', 'say', 'lot', 'tell', 'later'], tags=[590]),\n",
              " TaggedDocument(words=['I', 'home'], tags=[591]),\n",
              " TaggedDocument(words=['mokkplayer'], tags=[592]),\n",
              " TaggedDocument(words=['ay', 'wmeesat?ü', 'wig', 'sit'], tags=[593]),\n",
              " TaggedDocument(words=['pus', 'ahead', 'want', 'I', 'unwanted', 'sure', 'greweekend', 'axilla'], tags=[594]),\n",
              " TaggedDocument(words=['lunch', 'come', 'quickly', 'peche', 'door'], tags=[595]),\n",
              " TaggedDocument(words=['one', 'talk', 'I'], tags=[596]),\n",
              " TaggedDocument(words=['I', 'know', 'ago'], tags=[597]),\n",
              " TaggedDocument(words=['hello-/@drive-:0qedrunk', 'sorry', 'make', 'send', '^', 'dance', '2', 'drum', 'base!have', 'finite', 'x', 'rise', 'xxxxxxx'], tags=[598]),\n",
              " TaggedDocument(words=['intention'], tags=[599]),\n",
              " TaggedDocument(words=['thank', 'I', 'justly', 'saturday', 'dear', 'I', 'I', 'cherish', 'brother', 'role', 'model'], tags=[600]),\n",
              " TaggedDocument(words=['grm', 'see', 'message', 'leave', 'congress', 'dear', 'school', 'plan'], tags=[601]),\n",
              " TaggedDocument(words=['yeah', 'think', 'lee', 'know', 'anything', 'later'], tags=[602]),\n",
              " TaggedDocument(words=['I', 'check', 'room', 'activity'], tags=[603]),\n",
              " TaggedDocument(words=['well', 'blame', 'exercise', 'yeah', 'kind', 'remember'], tags=[604]),\n",
              " TaggedDocument(words=['send', 'I', 'virtual', 'hug', 'I', 'need', 'one'], tags=[605]),\n",
              " TaggedDocument(words=['I', 'hospital', 'da', '.', 'I', 'returhome', 'evening'], tags=[606]),\n",
              " TaggedDocument(words=['open'], tags=[607]),\n",
              " TaggedDocument(words=['I', 'know', 'slew', 'late', 'yes', 'wake', 'slate'], tags=[608]),\n",
              " TaggedDocument(words=['well', 'fine', 'bed(poor', 'full', 'pimple', 'become', 'quite', 'black', 'rite', 'cold', 'wear', 'weather'], tags=[609]),\n",
              " TaggedDocument(words=['I', 'good', 'I', 'beethinke'], tags=[610]),\n",
              " TaggedDocument(words=['cool', 'day'], tags=[611]),\n",
              " TaggedDocument(words=['ply', 'note', 'anyone', 'call', 'mobile', 'co.', '&', 'ask', 'type', '#', '&', '#', '&', '.', 'disconnethe', 'call', 'attempt', \"'\", 'make', 'use', 'card', 'confirm', 'nokmotorolha', 'beeverifie'], tags=[612]),\n",
              " TaggedDocument(words=['arm', 'fine', 'tariff', 'un'], tags=[613]),\n",
              " TaggedDocument(words=['arabia', 'sonya', 'hear', 'story'], tags=[614]),\n",
              " TaggedDocument(words=['haven\\x92lose', 'ill', 'always', 'b', 'u.didn\\x92intend', '2', 'hurybi', 'never', 'know', 'yfelabme', 'whereas+marine&that\\x92s', 'whitried2tell', 'from.careabyou'], tags=[615]),\n",
              " TaggedDocument(words=[], tags=[616]),\n",
              " TaggedDocument(words=['babe', '!', 'go', 'today', '?', '?', 'I', 'think', 'love', '...', 'I', 'send', 'kiss', 'across', 'sea'], tags=[617]),\n",
              " TaggedDocument(words=['k.k:)advance', 'happy', 'postal'], tags=[618]),\n",
              " TaggedDocument(words=['meany', 'gift', 'year', 'anything', 'bad'], tags=[619]),\n",
              " TaggedDocument(words=['please', 'actually', 'send', 'righnow', 'I', 'see', 'pose', 'comb', 'hair', 'dwyer', 'something'], tags=[620]),\n",
              " TaggedDocument(words=['already', 'flay', 'parent', \"it'suppose\", 'child', 'job', 'support', 'parent', 'ride', 'age', 'anyway', 'I', 'suppose', 'supporyou', 'huryou', 'unintentional', 'bhurnonetheless'], tags=[621]),\n",
              " TaggedDocument(words=['4', 'time', 'we\\x92ve', 'spe2geva', 'mint', 'baby', 'I', 'you!xxxi'], tags=[622]),\n",
              " TaggedDocument(words=['7', 'esplanade', 'mind', 'give', 'I', 'lift', 'scar', 'today'], tags=[623]),\n",
              " TaggedDocument(words=['meeting', 'work', '.', '.', 'tell', 'I', 'wheshall', 'work', 'tomorrow'], tags=[624]),\n",
              " TaggedDocument(words=['watch', 'cartoon', 'listen', 'must&amp', 'eve', 'temple', '&', 'church', 'whabyou'], tags=[625]),\n",
              " TaggedDocument(words=['I', 'think', 'wrong', 'call'], tags=[626]),\n",
              " TaggedDocument(words=['hear', 'time', 'around'], tags=[627]),\n",
              " TaggedDocument(words=['room'], tags=[628]),\n",
              " TaggedDocument(words=['jushopeing', 'thwash‘passe', 'remember', 'go', 'sister', 'something'], tags=[629]),\n",
              " TaggedDocument(words=['I', 'borrow', 'bag', 'ok'], tags=[630]),\n",
              " TaggedDocument(words=['drive', 'training'], tags=[631]),\n",
              " TaggedDocument(words=['send', 'greeting', 'joy', 'happiness', 'grm', 'evening'], tags=[632]),\n",
              " TaggedDocument(words=['good', 'morning', 'princess'], tags=[633]),\n",
              " TaggedDocument(words=['think', 'king', 'hill', 'thing'], tags=[634]),\n",
              " TaggedDocument(words=['anything', 'lewis', 'ok'], tags=[635]),\n",
              " TaggedDocument(words=['ok', 'k', 'know', '2', 'sila', 'ask'], tags=[636]),\n",
              " TaggedDocument(words=['ask', 'anthony', 'dad'], tags=[637]),\n",
              " TaggedDocument(words=['I', 'balloon'], tags=[638]),\n",
              " TaggedDocument(words=['sorry', 'twa', 'uncle', 'i.ll', 'keetouch'], tags=[639]),\n",
              " TaggedDocument(words=['time', 'week', 'run'], tags=[640]),\n",
              " TaggedDocument(words=['I', 'promise', 'take', 'good', 'care', 'princess', 'I', 'please', 'send', 'pick', 'wheygechance', 'tell'], tags=[641]),\n",
              " TaggedDocument(words=['believe', 'I', 'come', 'home'], tags=[642]),\n",
              " TaggedDocument(words=['elkin', 'download', 'come', 'free'], tags=[643]),\n",
              " TaggedDocument(words=['oh', 'k', 'k:)the', 'big', 'bitter.anyway', 'good'], tags=[644]),\n",
              " TaggedDocument(words=['move', 'lawton'], tags=[645]),\n",
              " TaggedDocument(words=['see', 'denis', 'mind', 'denis', 'alone', 'time'], tags=[646]),\n",
              " TaggedDocument(words=['new', 'theory', 'argumewin', 'situation', 'lose', 'person', 'argue', 'friend', '.', '.', '.', 'kick', '&', 'say', 'I', 'always', 'correct'], tags=[647]),\n",
              " TaggedDocument(words=['(', 'hear', 'I'], tags=[648]),\n",
              " TaggedDocument(words=['watch', 'cartoon', 'listen', 'must&amp', 'eve', 'temple', '&', 'church', 'whabyou'], tags=[649]),\n",
              " TaggedDocument(words=['ok', 'problem', 'matter'], tags=[650]),\n",
              " TaggedDocument(words=['never', 'believe', 'actually', 'trenton'], tags=[651]),\n",
              " TaggedDocument(words=['babe', 'I', 'answer', 'see', 'I', '?', 'maybe', 'would', 'well', 'realm', '...', 'I', 'oh'], tags=[652]),\n",
              " TaggedDocument(words=['havana', 'dear'], tags=[653]),\n",
              " TaggedDocument(words=['size', 'elephtablet', '&', 'shove', 'ass'], tags=[654]),\n",
              " TaggedDocument(words=['enough', 'trouble', 'sleep'], tags=[655]),\n",
              " TaggedDocument(words=['much', 'bad', 'avoid', 'like'], tags=[656]),\n",
              " TaggedDocument(words=['e', 'close'], tags=[657]),\n",
              " TaggedDocument(words=['aighrush', 'I', 'ask', 'jay'], tags=[658]),\n",
              " TaggedDocument(words=['come', 'room', 'weekend'], tags=[659]),\n",
              " TaggedDocument(words=['well', 'patteremerge', 'friend', 'tell', 'I', 'drive', 'come', 'smoke', 'retell', 'I', 'weed', 'fiend', 'smoke', 'much', 'thing', 'see', 'I', 'resistant'], tags=[660]),\n",
              " TaggedDocument(words=['I', 'gonnamissu', 'much!!i', 'would', 'say', 'il', 'send', 'postcard', 'butcher', 'much', 'chance', 'merememberin', 'break', 'contract', 'love', 'tax'], tags=[661]),\n",
              " TaggedDocument(words=['ok', 'arm', 'feel', 'weak', 'cut', 'gshswe', 'another', 'time'], tags=[662]),\n",
              " TaggedDocument(words=[], tags=[663]),\n",
              " TaggedDocument(words=['I', 'beebarre', 'b', 'q', 'store', 'life!?this', 'orange', 'dungeree', 'come', 'I', 'ask', 'I', 'want', 'deal', 'si', 'firspunch'], tags=[664]),\n",
              " TaggedDocument(words=['change', 'window', 'logoff', 'sound'], tags=[665]),\n",
              " TaggedDocument(words=['way', 'send', 'shade', 'stuff', 'beewonderful'], tags=[666]),\n",
              " TaggedDocument(words=['hey', 'come', 'online', 'use', 'man'], tags=[667]),\n",
              " TaggedDocument(words=['take', 'shop', 'mark', 'distrisaiah.=d'], tags=[668]),\n",
              " TaggedDocument(words=['jussthyknow', 'money', 'yet', 'I', 'jusseher', 'texbother', 'send', 'sit', 'involve', 'anything', 'I', 'impose', 'anything', 'fireplace', 'apologise'], tags=[669]),\n",
              " TaggedDocument(words=['make', 'baby', 'though'], tags=[670]),\n",
              " TaggedDocument(words=['I', 'believe', 'attach', 'I', 'see', 'every', 'day', 'I', 'know', 'besygeme', 'babe', 'I', 'teach', 'class', 'midnight'], tags=[671]),\n",
              " TaggedDocument(words=['company', 'good.environment', 'terrify', 'food', 'really', 'nice'], tags=[672]),\n",
              " TaggedDocument(words=['yeah', 'right', 'I', 'bring', 'tape', 'measure', 'fro'], tags=[673]),\n",
              " TaggedDocument(words=[], tags=[674]),\n",
              " TaggedDocument(words=['I', 'date', 'sunday'], tags=[675]),\n",
              " TaggedDocument(words=['k.will', 'send', '&', 'min'], tags=[676]),\n",
              " TaggedDocument(words=['eateall', 'day', 'I', 'sit', 'stare', 'juice', 'pizzand', 'I', 'bed', 'ruin', 'life'], tags=[677]),\n",
              " TaggedDocument(words=['right', 'I', '8', 'late', 'probably', 'close', '7', 'jay', 'tyler', 'door', 'jusdtwtrips'], tags=[678]),\n",
              " TaggedDocument(words=['cyleme', 'know', 'detail', 'frwheyfind', 'cos', 'I', 'tom', 'fro', 'mention', 'chinese', 'thank'], tags=[679]),\n",
              " TaggedDocument(words=['pleassssssseeeeee', 'tell', 'I', 'v', 'event', 'sport'], tags=[680]),\n",
              " TaggedDocument(words=['milky', 'come', 'around', '&', '..'], tags=[681]),\n",
              " TaggedDocument(words=['well', 'keep', 'I', 'enough', 'gas', 'one', 'round', 'bar', 'suddeinflux', 'cash'], tags=[682]),\n",
              " TaggedDocument(words=['I', 'pick', 'phone', 'righnow', 'pus', 'send', 'message'], tags=[683]),\n",
              " TaggedDocument(words=['yeah', 'I', 'gliswith', 'I', 'feel', 'really', 'social'], tags=[684]),\n",
              " TaggedDocument(words=['tell', 'adventure', 'confirm', 'true'], tags=[685]),\n",
              " TaggedDocument(words=['heart', 'empty', 'withlove', 'mind', 'empty', 'withwisdom', 'eye', 'r', 'empty', 'withdream', '&', 'life', 'empty', 'withfrnd', 'always', 'touch', 'good', 'nigh&amp', 'sweedream'], tags=[686]),\n",
              " TaggedDocument(words=[\"'\", 'place', 'talk', 'explain'], tags=[687]),\n",
              " TaggedDocument(words=['remember', 'bathe', 'dog', 'today'], tags=[688]),\n",
              " TaggedDocument(words=['watch', 'house', '–', 'entertain', '–', 'get', 'whole', 'hugh', 'large', 'thing', '–', 'evewith', 'stick', '–', 'indeed', 'especially', 'stick'], tags=[689]),\n",
              " TaggedDocument(words=['marrow', '&', '2', 'ah'], tags=[690]),\n",
              " TaggedDocument(words=['ok'], tags=[691]),\n",
              " TaggedDocument(words=['greprincess', 'I', 'love', 'give', 'receive', 'oral', 'foggy', 'style', 'position', 'I', 'enjoy', 'make', 'love', '&', 'time', 'per', 'nigh'], tags=[692]),\n",
              " TaggedDocument(words=['I', 'dear', 'philosophy', 'hussar', 'happen'], tags=[693]),\n",
              " TaggedDocument(words=['subnormal', ':)'], tags=[694]),\n",
              " TaggedDocument(words=['yep', 'greloxahatchee', 'tree', 'burn', '&', 'start', 'hour'], tags=[695]),\n",
              " TaggedDocument(words=['right', 'I', 'ask', 'roommate'], tags=[696]),\n",
              " TaggedDocument(words=['see', 'shadow', 'early', 'spring', 'may'], tags=[697]),\n",
              " TaggedDocument(words=['hear', 'abthjob', 'I', 'go', 'wildlife', 'talk', 'agtonighif', 'ywant2come', 'that2worzel', 'muzzle', 'whatever'], tags=[698]),\n",
              " TaggedDocument(words=['I', 'agree', 'ssthinkabipad', 'please', 'ask', 'machine', 'question'], tags=[699]),\n",
              " TaggedDocument(words=['come', 'back', 'fr', 'lunch', 'let'], tags=[700]),\n",
              " TaggedDocument(words=['I', 'lead', 'imp'], tags=[701]),\n",
              " TaggedDocument(words=['ok'], tags=[702]),\n",
              " TaggedDocument(words=['I', 'reach', 'already'], tags=[703]),\n",
              " TaggedDocument(words=['happen'], tags=[704]),\n",
              " TaggedDocument(words=['much', 'torch', 'ja'], tags=[705]),\n",
              " TaggedDocument(words=['exam', 'february', '4', 'wish', 'ygreday'], tags=[706]),\n",
              " TaggedDocument(words=['know', 'lab', 'gorge', 'go'], tags=[707]),\n",
              " TaggedDocument(words=['famous', 'quote', ':', 'wheydevelthe', 'ability', \"listen'anything\", 'unconditionally', 'withlose', 'temper', 'self', 'confidence', 'mean', '.........', \"'\"], tags=[708]),\n",
              " TaggedDocument(words=['software', 'name'], tags=[709]),\n",
              " TaggedDocument(words=['I', 'real', 'baby', 'I', 'bring', 'inner', 'wigless'], tags=[710]),\n",
              " TaggedDocument(words=['remind', 'ok'], tags=[711]),\n",
              " TaggedDocument(words=['k', 'foi', 'back', 'parent', 'place', 'south', 'task', 'mighneed', 'deal', 'somewhere', 'else'], tags=[712]),\n",
              " TaggedDocument(words=['talk', 'atleasonce', 'day', 'otherwise', 'miss', 'befriend', 'world', '-shakespeare-', 'shell', '&'], tags=[713]),\n",
              " TaggedDocument(words=['dear', 'grand', 'seine', 'low', 'seat'], tags=[714]),\n",
              " TaggedDocument(words=['swheygoe', 'gerimaccess'], tags=[715]),\n",
              " TaggedDocument(words=['drive', 'ever', 'many', 'reason', 'call', 'bed', 'chink', 'cold', 'thvinobanagar', 'violence', 'condition', 'r', 'problem'], tags=[716]),\n",
              " TaggedDocument(words=['k', 'ill', 'drink.thewhdoe', 'I', 'need', 'mrs', 'model', 'pus', 'send', 'mail', 'I', 'pa'], tags=[717]),\n",
              " TaggedDocument(words=['hello', 'news', 'job', 'make', 'I', 'fifth', 'week', 'yeah', 'woolen', 'vessel', 'dexter', 'still', 'home', 'abe'], tags=[718]),\n",
              " TaggedDocument(words=['outdo', 'later', 'war', 'xxx'], tags=[719]),\n",
              " TaggedDocument(words=['hut', 'fast', 'mean', 'finish', 'paint'], tags=[720]),\n",
              " TaggedDocument(words=['actually', 'I', 'decide', 'I', 'hungry', 'si', 'life'], tags=[721]),\n",
              " TaggedDocument(words=['k', 'wchikku', 'send', '&', 'mind'], tags=[722]),\n",
              " TaggedDocument(words=['k'], tags=[723]),\n",
              " TaggedDocument(words=['wonder', 'full', 'slim'], tags=[724]),\n",
              " TaggedDocument(words=['horrible', 'gal', 'know', 'go', 'yesystill', 'come', 'ask', 'I'], tags=[725]),\n",
              " TaggedDocument(words=['I', 'go', 'film', 'day', 'da', 'sorry', 'da'], tags=[726]),\n",
              " TaggedDocument(words=['arm', 'woodland', 'avenue', 'somewhere', 'dygethe', 'parish', 'magazine', 'telephone', 'number'], tags=[727]),\n",
              " TaggedDocument(words=['pus', 'play', 'life'], tags=[728]),\n",
              " TaggedDocument(words=['stupid', 'correct', 'phone'], tags=[729]),\n",
              " TaggedDocument(words=['emigrate', 'something', 'ok', 'maybe', '5.30', 'hopeful'], tags=[730]),\n",
              " TaggedDocument(words=['toe', 'hit', 'I', '2', 'I', 'fucking', 'shine', 'il', 'defy', 'try', 'hard', '2', 'cum', 'morrow', 'love', 'million', 'lekdog'], tags=[731]),\n",
              " TaggedDocument(words=['clothe', 'jewel', 'trip'], tags=[732]),\n",
              " TaggedDocument(words=['sweehearhow'], tags=[733]),\n",
              " TaggedDocument(words=['go', 'way', 'specifththat'], tags=[734]),\n",
              " TaggedDocument(words=['life', 'one', 'role', 'allay'], tags=[735]),\n",
              " TaggedDocument(words=['nyechikku'], tags=[736]),\n",
              " TaggedDocument(words=['anything', 'war', 'go', 'home', '4', 'dinner'], tags=[737]),\n",
              " TaggedDocument(words=['year', 'many', 'mile'], tags=[738]),\n",
              " TaggedDocument(words=['tell', '420'], tags=[739]),\n",
              " TaggedDocument(words=['birth', 'lb', 'oz', 'mother', 'baby', 'brilliantly'], tags=[740]),\n",
              " TaggedDocument(words=['complete', 'degree', 'use', 'join', 'finance'], tags=[741]),\n",
              " TaggedDocument(words=['I', 'hungry', 'buy', 'smith', 'home'], tags=[742]),\n",
              " TaggedDocument(words=['customer', 'place', 'call'], tags=[743]),\n",
              " TaggedDocument(words=['I', 'stuck', 'middle', 'draw', 'drighhand', 'side', 'dot'], tags=[744]),\n",
              " TaggedDocument(words=['tomorrow', 'briar', 'aiylater', 'come', 'war', 'may', 'ü', 'nevseproperly', 'ü', 'gdhelsheewif', 'ü'], tags=[745]),\n",
              " TaggedDocument(words=['I', 'late', 'I'], tags=[746]),\n",
              " TaggedDocument(words=['ex', 'able', 'kiss', 'dywkid', 'one', 'day'], tags=[747]),\n",
              " TaggedDocument(words=['well', '!', 'love'], tags=[748]),\n",
              " TaggedDocument(words=['queen', 'go', 'royal', 'wedding'], tags=[749]),\n",
              " TaggedDocument(words=['r', 'meet'], tags=[750]),\n",
              " TaggedDocument(words=['I', 'class', 'like', '&', 'minute', 'know', 'advise'], tags=[751]),\n",
              " TaggedDocument(words=['first', 'strike', 'red', 'one', 'bird', '+', 'envelope', 'begin', 'play', 'field', 'selfindependence', 'believe', '+', 'flower', 'contention', 'grow.random'], tags=[752]),\n",
              " TaggedDocument(words=['I', 'say', 'okay', 'sorry'], tags=[753]),\n",
              " TaggedDocument(words=['k', 'I', 'take', 'care'], tags=[754]),\n",
              " TaggedDocument(words=['meeting', 'ü', 'rite', 'thrill', 'home', 'ü', 'feel', 'like', 'come', 'ok'], tags=[755]),\n",
              " TaggedDocument(words=['ok', 'seleynoe', 'e', 'detail', 'later'], tags=[756]),\n",
              " TaggedDocument(words=['call', 'say', 'come', 'today', 'ok', 'tell', 'fool', 'I', 'like', 'ok'], tags=[757]),\n",
              " TaggedDocument(words=['I', 'anything', 'de'], tags=[758]),\n",
              " TaggedDocument(words=['I', 'tell', 'come', 'wednesday'], tags=[759]),\n",
              " TaggedDocument(words=['happy', 'birthday', 'may', 'find', 'prince', 'charm', 'work', 'hard'], tags=[760]),\n",
              " TaggedDocument(words=['problem', 'baby', 'good', 'time', 'talk', 'I', 'call', 'lefmessage'], tags=[761]),\n",
              " TaggedDocument(words=['oh', 'k:)after', 'thplacemethere', 'ah'], tags=[762]),\n",
              " TaggedDocument(words=['table', 'occupy', 'I', 'wait', 'tree'], tags=[763]),\n",
              " TaggedDocument(words=['happy', 'baby', '?', 'raleigh', 'take', 'throb', '?', 'I', 'hope', 'fine', 'I', 'send', 'kiss', 'make', 'smile', 'across', 'se', '*', '*'], tags=[764]),\n",
              " TaggedDocument(words=['alsremember', 'bead', 'come', 'ever'], tags=[765]),\n",
              " TaggedDocument(words=['sorry', 'late', 'start', 'way'], tags=[766]),\n",
              " TaggedDocument(words=['cool', 'I', 'texyfew'], tags=[767]),\n",
              " TaggedDocument(words=['I', 'doubycould', 'handle', '5', 'time', 'per', 'nightly', 'case'], tags=[768]),\n",
              " TaggedDocument(words=['I', 'take', 'care', 'financial', 'problem.will', 'help'], tags=[769]),\n",
              " TaggedDocument(words=['could', 'kiss', 'feel', 'ynexme'], tags=[770]),\n",
              " TaggedDocument(words=['pass', 'di', 'contact', 'see', 'yet', 'red;am', 'love', 'wid', 'blue;smile', 'face', 'purple;or', 'really', 'hot', 'pink;or', 'see', 'orange;think', 'ly', 'green;really', 'wid', 'below;wreck', 'black;am', 'jealous', 'brown;miss', 'ply', 'give', 'I', 'one', 'color'], tags=[771]),\n",
              " TaggedDocument(words=['ni', 'go', 'bore', 'death', 'day', 'cable', 'interneoutage'], tags=[772]),\n",
              " TaggedDocument(words=['pain?hope', 'fine'], tags=[773]),\n",
              " TaggedDocument(words=['tuesday', 'night', 'real'], tags=[774]),\n",
              " TaggedDocument(words=['single', 'line', 'big', 'meaning', '\"', 'anything', '4', '\"', 'miss', 'beside', 'anything', 'god'], tags=[775]),\n",
              " TaggedDocument(words=['would', 'really', 'appreciate', 'call', 'I', 'jusneed', 'someone', 'talk'], tags=[776]),\n",
              " TaggedDocument(words=['I', 'like', 'new', 'mobile'], tags=[777]),\n",
              " TaggedDocument(words=['yunbelievable', 'faglord'], tags=[778]),\n",
              " TaggedDocument(words=['ü', 'I', 'finish', '5'], tags=[779]),\n",
              " TaggedDocument(words=['love', 'yaathi', 'clot'], tags=[780]),\n",
              " TaggedDocument(words=['b', 'late', 'love', 'sum'], tags=[781]),\n",
              " TaggedDocument(words=['I', 'guess', 'might', 'well', 'take', '1', 'car'], tags=[782]),\n",
              " TaggedDocument(words=['yes', 'I', 'trusybuy', 'new', 'stuff', 'soon', 'possible', 'si', 'try'], tags=[783]),\n",
              " TaggedDocument(words=['I', 'search', 'online', 'leyknow'], tags=[784]),\n",
              " TaggedDocument(words=['feather', 'bow', 'something', 'gun', 'know'], tags=[785]),\n",
              " TaggedDocument(words=['theyask', 'darregpick', 'bosstomorrow', '2', 'select'], tags=[786]),\n",
              " TaggedDocument(words=['police', 'I', 'fish', '..'], tags=[787]),\n",
              " TaggedDocument(words=['go', 'pick', '$', 'burgher', 'way', 'home', 'I', 'remove', 'kill', 'I'], tags=[788]),\n",
              " TaggedDocument(words=['yeah', 'I', 'think', 'use', 'gate', 'register', 'sure', 'anyway', 'helene', 'know', 'bwheydbe', 'sure', 'ready'], tags=[789]),\n",
              " TaggedDocument(words=['poor', 'girl', 'go', 'day', 'may'], tags=[790]),\n",
              " TaggedDocument(words=['greatestesof', 'courage', 'earth', 'bear', 'defewithlose', 'heart'], tags=[791]),\n",
              " TaggedDocument(words=['go', 'thrvery', 'differefeeling.wavere', 'decision', 'come', 'individual.time', 'heal', 'everything', 'believe'], tags=[792]),\n",
              " TaggedDocument(words=['table', 'sleep'], tags=[793]),\n",
              " TaggedDocument(words=['I', 'freeze', 'craving', 'ice'], tags=[794]),\n",
              " TaggedDocument(words=['I', 'remunconvince', 'elaborate', 'test', 'willpower'], tags=[795]),\n",
              " TaggedDocument(words=['beauty', 'sleehelyare', 'pimple'], tags=[796]),\n",
              " TaggedDocument(words=['tell', 'dear', 'whhappeyou', 'talk', 'I', 'like', 'alien'], tags=[797]),\n",
              " TaggedDocument(words=['harsh', 'beetransfre', 'act'], tags=[798]),\n",
              " TaggedDocument(words=['eh', 'desybook', 'e', 'b', 'thus'], tags=[799]),\n",
              " TaggedDocument(words=['heart', 'empty', 'withlove', 'mind', 'empty', 'withwisdom', 'eye', 'r', 'empty', 'withdream', '&', 'life', 'empty', 'withfrnd', 'always', 'touch', 'good', 'nigh&amp', 'sweedream'], tags=[800]),\n",
              " TaggedDocument(words=['superb', 'thought-', '\"', 'grateful', 'thydhave', 'everything', 'want', 'mean', 'still', 'opportunity', 'happy', 'tomorrow', 'today'], tags=[801]),\n",
              " TaggedDocument(words=['get', 'ticket', '4', 'walsall', '6', 'th', 'march', 'mate', 'get', 'I', 'sit', 'ill', 'pay', 'treat', 'go', 'tubal', '.merry'], tags=[802]),\n",
              " TaggedDocument(words=['sum', 'ask', 'ü', 'buy', 'food', 'home'], tags=[803]),\n",
              " TaggedDocument(words=['call', 'call'], tags=[804]),\n",
              " TaggedDocument(words=['well', 'still', 'bluff', 'gun', 'tonight'], tags=[805]),\n",
              " TaggedDocument(words=['watch', 'movie', 'netflix'], tags=[806]),\n",
              " TaggedDocument(words=['flexor', 'I', 'meeting', 'fre730'], tags=[807]),\n",
              " TaggedDocument(words=['tick', 'tick', 'tick', '....', 'I', 'could', 'die', 'loneliness', 'know', '!', '*', '*', 'foot', 'I', 'need'], tags=[808]),\n",
              " TaggedDocument(words=['know', 'cos', 'v', 'late', 'whereas', 'inside', 'already', 'eat', 'spageddie', 'e', 'gas', 'laugh', 'I'], tags=[809]),\n",
              " TaggedDocument(words=['less', 'make', 'saturday', 'monday', 'per', 'convenience'], tags=[810]),\n",
              " TaggedDocument(words=['s:-)if', 'one', 'good', 'partnershgoe', 'take', 'lead'], tags=[811]),\n",
              " TaggedDocument(words=['I', 'hope', 'alrighbabe', 'I', 'worry', 'thymighhave', 'felbdesparate', 'wheylearne', 'job', 'face', '?', 'I', 'wait', 'welcome', 'back', 'love'], tags=[812]),\n",
              " TaggedDocument(words=['hata', 'gsfaslose', 'weight', 'mud', 'go', 'month', 'degeffect', 'gee', 'gausbk', 'e', 'weight'], tags=[813]),\n",
              " TaggedDocument(words=['juschecke', 'really', 'miss', 'see', 'jeremiah', 'fremont'], tags=[814]),\n",
              " TaggedDocument(words=['feel', 'bad', 'use', 'money', 'take', 'speak', 'dinner', '='], tags=[815]),\n",
              " TaggedDocument(words=['I', 'home', 'time', 'reach'], tags=[816]),\n",
              " TaggedDocument(words=['ghellgas', 'money', 'grand', 'nature', 'adventure', 'galilelittle', 'bit'], tags=[817]),\n",
              " TaggedDocument(words=['usually', 'persist', 'unconscious', 'childrebadult', 'may', 'jusbehave', 'abnormally', 'i.ll', 'call'], tags=[818]),\n",
              " TaggedDocument(words=['sorry', 'I', 'call', 'later'], tags=[819]),\n",
              " TaggedDocument(words=['sorry', 'I', 'call', 'later', '&', 'mind'], tags=[820]),\n",
              " TaggedDocument(words=['h', 'keegkind', 'feel', 'mind'], tags=[821]),\n",
              " TaggedDocument(words=['come', 'back', '4', 'dinner', 'rite', 'dad', 'ask', 'I', 'confirm'], tags=[822]),\n",
              " TaggedDocument(words=['air', 'disturb', 'iliac', 'lot', '2', 'dafyare', 'cupboard', 'come'], tags=[823]),\n",
              " TaggedDocument(words=['sorry', 'lighten', 'green', 'I', 'another', 'friend', 'want', '&', 'worth', 'may', 'around'], tags=[824]),\n",
              " TaggedDocument(words=['gun', 'ask', 'thgethslipper', 'ago', 'go', 'layer'], tags=[825]),\n",
              " TaggedDocument(words=['walk', 'moss', 'righstagwood', 'pass', 'righwinterstone', 'lefvictor', 'hill', 'address', '&'], tags=[826]),\n",
              " TaggedDocument(words=['honeymoutfit', ':)'], tags=[827]),\n",
              " TaggedDocument(words=['pick', 'call', 'whesomethe', 'import', 'tell', 'irish'], tags=[828]),\n",
              " TaggedDocument(words=['I', 'really', 'need', '2', 'kiss', 'I', 'miss', 'baby', 'baby', 'eva'], tags=[829]),\n",
              " TaggedDocument(words=['wa', 'opesentence', 'formal', 'anyway', 'fine', 'jug', 'much', 'weight', 'sanythspecial', 'happen'], tags=[830]),\n",
              " TaggedDocument(words=['de', 'look', 'good', 'only:-'], tags=[831]),\n",
              " TaggedDocument(words=['thank', 'hope', 'good', 'day', 'today'], tags=[832]),\n",
              " TaggedDocument(words=['yjdowthing', 'remember', 'later'], tags=[833]),\n",
              " TaggedDocument(words=['think'], tags=[834]),\n",
              " TaggedDocument(words=['I', 'know', 'ask', 'brother', 'nothing', 'problem', 'thing', 'justly', '.'], tags=[835]),\n",
              " TaggedDocument(words=['c', 'send', 'I', 'copy', 'report'], tags=[836]),\n",
              " TaggedDocument(words=['ok', 'anyway', 'ticket', 'cos', 'like', 'quite', 'late', 'already', 'look', '4', 'free', 'carry'], tags=[837]),\n",
              " TaggedDocument(words=['sorry', 'clock', 'keypad'], tags=[838]),\n",
              " TaggedDocument(words=['anyway', 'seriously', 'back', 'otherwise', 'I', 'lighwith', 'around', 'always', 'hand', 'vomit'], tags=[839]),\n",
              " TaggedDocument(words=['finally', 'come', 'fix', 'ceiling'], tags=[840]),\n",
              " TaggedDocument(words=['osafyare', 'leave', 'ü', 'gleam', 'rite'], tags=[841]),\n",
              " TaggedDocument(words=['alright', 'sure', 'lee', 'know', 'leave'], tags=[842]),\n",
              " TaggedDocument(words=['send', 'customer', 'service', 'cum', 'account', 'executive', 'mail', 'I', 'detail'], tags=[843]),\n",
              " TaggedDocument(words=['training', 'manual', 'show', 'teach', 'process:)it', 'password', 'respond', 'troubleshoot'], tags=[844]),\n",
              " TaggedDocument(words=['I', 'betray', 'reach', 'withsuccess'], tags=[845]),\n",
              " TaggedDocument(words=['think', '\"', 'retire', 'little', 'thing', '4', 'movable', 'person', 'co', 'little', 'thing', 'occupy', 'biggespartheir', 'heart', 'god', 'nip'], tags=[846]),\n",
              " TaggedDocument(words=['hey', 'book', 'b', 'already', 'whether', 'lesson', 'go', 'ah', 'keeyour', 'snighfree', 'need', 'mean', 'confirm', 'lodge'], tags=[847]),\n",
              " TaggedDocument(words=['daily', 'texfrom', 'I', '–', 'favour', 'time'], tags=[848]),\n",
              " TaggedDocument(words=['solve', 'case', ':', 'find', 'murder', '&', '.', '&', 'afternoon', '1,his', 'wife', 'call', 'police', '2,police', 'question', 'everyone', '3,wife', 'sir', 'sleep', 'whether', 'murder', 'take', 'place', '4.cook', 'I', 'cooking', '5.gardener', 'I', 'pick', 'vegetable', '6.house', 'I', 'posoffice', '7.children', 'play', '8.neighbour', 'marriage', 'police', 'arrest', 'murderer', 'immediately', 'reply', 'reason', 'r', 'brilliant'], tags=[849]),\n",
              " TaggedDocument(words=['oh', 'ho', 'firstime', 'use', 'type', 'word'], tags=[850]),\n",
              " TaggedDocument(words=['good', 'morning', 'dear', 'are&amp', 'successful', 'day'], tags=[851]),\n",
              " TaggedDocument(words=['ummmmmaah', 'many', 'many', 'happy', 'return', 'day', 'dear', 'sweetheart', 'happy', 'birthday', 'dear'], tags=[852]),\n",
              " TaggedDocument(words=['ugh', 'fuck', 'I', 'result', 'eve'], tags=[853]),\n",
              " TaggedDocument(words=['thwhtime', 'I', 'come'], tags=[854]),\n",
              " TaggedDocument(words=['well', 'general', 'price', '&', '/oz', 'lee', 'know', 'much', 'want'], tags=[855]),\n",
              " TaggedDocument(words=['darling', 'sister', 'school', 'resume', 'minimum', 'period', 'yreapply', 'take', 'care'], tags=[856]),\n",
              " TaggedDocument(words=['tonight', 'yeah', 'I', 'would', 'door'], tags=[857]),\n",
              " TaggedDocument(words=['story', 'peace', 'message', 'love', 'miracle', 'jesus', 'bless', 'month', 'ahead', '&', 'wish', 'merry'], tags=[858]),\n",
              " TaggedDocument(words=['happy', 'new', 'year', 'hope', 'good', 'smelter'], tags=[859]),\n",
              " TaggedDocument(words=['long', 'I', 'quit', 'I', 'like', '5', 'minute', 'day'], tags=[860]),\n",
              " TaggedDocument(words=['gerry', 'shop'], tags=[861]),\n",
              " TaggedDocument(words=['sorry', 'battery', 'die', 'yeah', 'I'], tags=[862]),\n",
              " TaggedDocument(words=['hi', 'happy', 'new', 'year', 'I', 'dmeintrude', 'ball', 'lee', 'know', 'much', 'pay', 'lassemest', 'much', 'smelter', 'thank'], tags=[863]),\n",
              " TaggedDocument(words=['awhile', 'come'], tags=[864]),\n",
              " TaggedDocument(words=['dygtell', 'friend', 'sure', 'live', 'smoke', 'much', 'thespend', 'hour', 'beg', 'come', 'smoke'], tags=[865]),\n",
              " TaggedDocument(words=['king', 'I', 'break', 'fassyole', 'blackfrom', 'london'], tags=[866]),\n",
              " TaggedDocument(words=['abe', 'serve', 'stay', 'dad', 'alone'], tags=[867]),\n",
              " TaggedDocument(words=['I', 'right', 'second', 'people', 'first'], tags=[868]),\n",
              " TaggedDocument(words=['scolleyare', 'lawton'], tags=[869]),\n",
              " TaggedDocument(words=['ply', 'note', 'anyone', 'call', 'mobile', 'co.', '&', 'ask', 'type', '#', '&', '#', '&', '.', 'disconnethe', 'call', 'attempt', \"'\", 'make', 'use', 'card', 'confirm', 'nokmotorolha', 'beeverifie'], tags=[870]),\n",
              " TaggedDocument(words=['make', 'ff', 'list'], tags=[871]),\n",
              " TaggedDocument(words=['someday', 'value', 'bring', 'hope', 'faith', 'bring', 'love', 'rest', 'find', 'today.good', 'morning'], tags=[872]),\n",
              " TaggedDocument(words=['k', 'I', 'work', 'something'], tags=[873]),\n",
              " TaggedDocument(words=['still', 'around', 'I', 'could', 'use', 'half'], tags=[874]),\n",
              " TaggedDocument(words=['know', 'show', 'anthony', 'bring', 'money', 'I', 'school', 'fee', 'pay', 'read', 'stuff', 'like', 'need', 'help', 'friend', 'need'], tags=[875]),\n",
              " TaggedDocument(words=['juswoke', 'eye', 'late', 'I', 'fall', 'asleetil', '&', ':/'], tags=[876]),\n",
              " TaggedDocument(words=['sorry', 'I', 'call', 'later'], tags=[877]),\n",
              " TaggedDocument(words=['find', 'sister', 'kaitlyn', 'I', 'sick', 'shall', 'day', 'yesterday'], tags=[878]),\n",
              " TaggedDocument(words=['tell', 'sholplease', 'college', 'medicine', 'virtue', 'academdepartment', 'tell', 'academsecretary', 'wythe', 'current', 'ask', 'transfer', 'ask', 'someone', 'check', 'sagamfor', 'thing', 'launch', 'vital', 'complete', 'medical', 'ednigeria', 'less', 'expensive', 'much', 'less', 'expensive', 'unless', 'get', 'citizerate', 'new', 'zealand'], tags=[879]),\n",
              " TaggedDocument(words=['peter', 'phone', 'still', 'jenny', 'college', 'leave.where'], tags=[880]),\n",
              " TaggedDocument(words=['home', 'always', 'chat'], tags=[881]),\n",
              " TaggedDocument(words=['still', 'maybe', 'leave', 'credcard', 'si', 'begin', 'back', 'like', 'tell', 'I'], tags=[882]),\n",
              " TaggedDocument(words=['see'], tags=[883]),\n",
              " TaggedDocument(words=['smile', 'I', 'righnow', 'world', 'wonder', 'smile', 'band', 'think', 'crazy', 'keeaway', '*'], tags=[884]),\n",
              " TaggedDocument(words=['pus', 'dforgestudy'], tags=[885]),\n",
              " TaggedDocument(words=['loop', 'sorry', 'fun'], tags=[886]),\n",
              " TaggedDocument(words=['baby', 'jusgback', 'work', 'want', 'see', 'allay', 'I', 'hope', 'pass', 'phone', 'today', 'give', 'I', 'call', 'xxx'], tags=[887]),\n",
              " TaggedDocument(words=['ok'], tags=[888]),\n",
              " TaggedDocument(words=['sorry', 'I', 'call', 'later'], tags=[889]),\n",
              " TaggedDocument(words=['remember', 'murder', 'day', 'impostor', 'me.need', 'pay', 'price', 'it.may', 'destiny', 'seem', 'go', 'say', 'pray', 'together', 'mind', 'grover'], tags=[890]),\n",
              " TaggedDocument(words=[], tags=[891]),\n",
              " TaggedDocument(words=['rat', 'hey', 'never', 'vote', 'extreme'], tags=[892]),\n",
              " TaggedDocument(words=['call', 'call'], tags=[893]),\n",
              " TaggedDocument(words=['I', '&', 'minute', 'space'], tags=[894]),\n",
              " TaggedDocument(words=['take', 'hoch', 'walk', 'today', 'fall', 'split', 'graze', 'knee', 'everything', 'stay', 'home', 'see', 'tomorrow'], tags=[895]),\n",
              " TaggedDocument(words=['hey', 'go', 'intrpilate', 'kickboxe'], tags=[896]),\n",
              " TaggedDocument(words=['foi', 'swing', 'room', 'whenever'], tags=[897]),\n",
              " TaggedDocument(words=['yesterday', 'I', '.', 'go', 'home'], tags=[898]),\n",
              " TaggedDocument(words=['shhhhh', 'nobody', 'suppose', 'know'], tags=[899]),\n",
              " TaggedDocument(words=['good', 'afternoon', 'love', '...', 'go', 'day', '?', 'see', 'I', 'hope', 'well', 'boston', '...', 'I', 'think'], tags=[900]),\n",
              " TaggedDocument(words=['I', 'become'], tags=[901]),\n",
              " TaggedDocument(words=['call', '&', 'ok'], tags=[902]),\n",
              " TaggedDocument(words=['I', 'bruce', '&', 'fowl', 'I', 'mon', 'car', 'si', 'park', '(', 'story'], tags=[903]),\n",
              " TaggedDocument(words=['pardon', 'I', 'decide', 'whether', '2', 'yet'], tags=[904]),\n",
              " TaggedDocument(words=['write', 'funny!not', '2', 'unite', 'end', 'go', 'town', 'da', 'pub', 'instead', 'chill', 'da', 'mo', 'I', 'bedroom!love', 'man', 'xxx'], tags=[905]),\n",
              " TaggedDocument(words=['say', 'hand', 'ass', 'back', 'south', 'am(preferably', 'eager'], tags=[906]),\n",
              " TaggedDocument(words=['I', 'need', 'co', 'never'], tags=[907]),\n",
              " TaggedDocument(words=['k', 'tell', 'I', 'anything'], tags=[908]),\n",
              " TaggedDocument(words=['git', 'look', 'scrumptious', 'daddy', 'want', 'nighlong'], tags=[909]),\n",
              " TaggedDocument(words=['hata', 'hope', 'ü', 'hear', 'recesound', 'go', 'luck'], tags=[910]),\n",
              " TaggedDocument(words=['well', 'officially', 'philosophical', 'hole', 'call', 'home', 'ready', 'save'], tags=[911]),\n",
              " TaggedDocument(words=['I', 'call', 'later', 'afteronword', 'man', 'service', 'problem', 'south', 'lumbar', 'I', 'hear', \"ybycann'listened\"], tags=[912]),\n",
              " TaggedDocument(words=['need', 'say', 'anything', 'I', 'I', 'know', 'outsider'], tags=[913]),\n",
              " TaggedDocument(words=['dare', 'change', 'ring'], tags=[914]),\n",
              " TaggedDocument(words=['k', 'I', 'ready', '&', '?'], tags=[915]),\n",
              " TaggedDocument(words=['ok', 'cool', ',', 'jusoff', 'either', 'regard', 'edward', 'rd', 'behind', 'crickeground', 'give', 'I', 'ring', 'closely', 'see', 'tuesday'], tags=[916]),\n",
              " TaggedDocument(words=['total', 'disappointment', 'test', 'craziesshg'], tags=[917]),\n",
              " TaggedDocument(words=['come', 'room', 'come', 'house', 'cos', 'house', 'still', 'mess', 'hata'], tags=[918]),\n",
              " TaggedDocument(words=['I', 'back', 'work', 'soon', 'e', 'deer', 'show', 'hut', 'I', 'watch', 'liar', 'nice'], tags=[919]),\n",
              " TaggedDocument(words=['hey', 'r', 'watch', 'movie', 'tonighswill', 'probe', 'b', 'home', 'early'], tags=[920]),\n",
              " TaggedDocument(words=['finish', 'altar', 'negro'], tags=[921]),\n",
              " TaggedDocument(words=['I', 'know', 'oh', 'hopefully', 'month'], tags=[922]),\n",
              " TaggedDocument(words=['snow', 'dad', 'go', 'call', 'get', 'work', 'ask', 'crazy', 'question'], tags=[923]),\n",
              " TaggedDocument(words=['*', 'track', 'northamsam', 'afraid'], tags=[924]),\n",
              " TaggedDocument(words=['ni', 'boat', 'still', 'moss', 'check', 'I', 'I', 'half', 'naked'], tags=[925]),\n",
              " TaggedDocument(words=['I', 'pick', 'phone', 'righnow', 'pus', 'send', 'message'], tags=[926]),\n",
              " TaggedDocument(words=['yeah', 'probably', 'early'], tags=[927]),\n",
              " TaggedDocument(words=['ummmmmaah', 'many', 'many', 'happy', 'return', 'day', 'dear', 'sweetheart', 'happy', 'birthday', 'dear'], tags=[928]),\n",
              " TaggedDocument(words=['n', 'work', 'ring', 'thing', 'whole', 'houseful', 'scream', 'boat', 'pull', 'hair', 'love'], tags=[929]),\n",
              " TaggedDocument(words=['remember', 'today'], tags=[930]),\n",
              " TaggedDocument(words=['lefyesprobably', 'go', 'til', 'dinner'], tags=[931]),\n",
              " TaggedDocument(words=['hope', 'wait', '4', 'daddy'], tags=[932]),\n",
              " TaggedDocument(words=['chinatowgporridge', 'caprice', 'cake', 'fish', 'beehoon', 'either', 'echedegcafe', 'gnydor', 'something'], tags=[933]),\n",
              " TaggedDocument(words=['ask', 'dad', 'pick', 'ü', 'war', 'ü', 'stay', '6', 'I'], tags=[934]),\n",
              " TaggedDocument(words=['fight', 'world', 'easy', 'either', 'lose', 'fight', 'close', 'dificulif', 'close', '-', 'close', 'w-', 'still', 'lose'], tags=[935]),\n",
              " TaggedDocument(words=['judge', 'worry', 'nothing', 'give', 'money', 'use'], tags=[936]),\n",
              " TaggedDocument(words=['work', 'ago', 'ok', 'goodnighthen', 'i.ll', 'fix', 'ready', 'time', 'wake', 'dearly', 'miss', 'good', 'nighsleep'], tags=[937]),\n",
              " TaggedDocument(words=['ü', 'cometh', 'order'], tags=[938]),\n",
              " TaggedDocument(words=['hope', 'jug', 'work'], tags=[939]),\n",
              " TaggedDocument(words=['full', 'heap:-', 'apply', 'oil', 'pa'], tags=[940]),\n",
              " TaggedDocument(words=['phone'], tags=[941]),\n",
              " TaggedDocument(words=['life', 'strthteacher', 'boy', 'teacher', 'reach', 'less&amp', 'theconduct', 'exam', 'life', 'firsconduct', 'exam', '&', 'theteache', 'lesson', 'happy', 'morning', '.', '.'], tags=[942]),\n",
              " TaggedDocument(words=['yes', 'please', 'beeswimme'], tags=[943]),\n",
              " TaggedDocument(words=['olga', 'leave', 'phone', 'home', 'hussar', 'message', 'hope', 'good', 'greweekend'], tags=[944]),\n",
              " TaggedDocument(words=['I', 'school', 'slab', 'stuff', 'give', 'I', 'call', 'r'], tags=[945]),\n",
              " TaggedDocument(words=['ncurreand', 'food', 'I', 'alone', 'also'], tags=[946]),\n",
              " TaggedDocument(words=['I', '&', 'message', 'today', 'y.', 'sorry', 'hurt'], tags=[947]),\n",
              " TaggedDocument(words=['operate', '&'], tags=[948]),\n",
              " TaggedDocument(words=['nothing', 'I', 'methode', 'money', 'enter', 'bank', 'remove', 'late', 'someone', 'transfer', '&', '&', 'dollar', 'remove', 'bank', 'differ', 'charge', 'alsdiffer.be', 'sure', 'trustee', '9jpersyare', 'send', 'detail', 'cos'], tags=[949]),\n",
              " TaggedDocument(words=['ü', 'go', 'send', 'I'], tags=[950]),\n",
              " TaggedDocument(words=['somewhere', 'fredericksburg'], tags=[951]),\n",
              " TaggedDocument(words=['I', 'wait', 'mahan', 'call', 'I', 'free'], tags=[952]),\n",
              " TaggedDocument(words=['sorry', 'I', 'call', 'later'], tags=[953]),\n",
              " TaggedDocument(words=['take', 'mokkplayer'], tags=[954]),\n",
              " TaggedDocument(words=['w.', 'I', 'message', '&', 'min'], tags=[955]),\n",
              " TaggedDocument(words=['ijusseem', 'like', 'weird', 'time', 'nightfall', 'g', 'I', 'come', 'smoke', 'day', 'wheshitstorm', 'attribute', 'I', 'always', 'come', 'make', 'everyone', 'smoke'], tags=[956]),\n",
              " TaggedDocument(words=['superior', 'tell', 'friday', 'leave', 'departmeexceours:)will', 'leave', 'you:)any', 'way', 'call', 'want', 'fathimhr', 'conform'], tags=[957]),\n",
              " TaggedDocument(words=['I', 'enter', 'cabby', 'pa', 'say', \"''\", 'happy', \"b'day\", 'boss', '!', 'I', 'especial', 'ask', 'I', '4', 'lunch', 'lunch', 'invite', 'I', 'apartment'], tags=[958]),\n",
              " TaggedDocument(words=['moslikely', 'call', 'mittelschmertz', 'goose', 'paracetamol', 'worry', 'go'], tags=[959]),\n",
              " TaggedDocument(words=['ok'], tags=[960]),\n",
              " TaggedDocument(words=['well', 'I', 'mighcome'], tags=[961]),\n",
              " TaggedDocument(words=['altar', 'suppose', 'subtoitle'], tags=[962]),\n",
              " TaggedDocument(words=['jusseagain', 'scream', 'bed', 'princess'], tags=[963]),\n",
              " TaggedDocument(words=['hope', 'drive', 'I', 'nevdeveldphotos', 'let'], tags=[964]),\n",
              " TaggedDocument(words=['ranjith', 'cal', 'dre', 'deer', 'deep', 'hold'], tags=[965]),\n",
              " TaggedDocument(words=['I', 'though', 'far', 'tower', 'something', '–', 'sound', 'ok'], tags=[966]),\n",
              " TaggedDocument(words=['everything', 'weather', 'keeextrwarm', 'cold', 'nothing', 'serious', 'pus', 'lot', 'vital'], tags=[967]),\n",
              " TaggedDocument(words=['oh', 'I', 'throw', 'gyogas10', 'end', 'go', 'rush', 'part', 'one', 'call', 'I', 'whereas'], tags=[968]),\n",
              " TaggedDocument(words=['god', 'create', 'gbtwyare', 'finger', 'sdsum1', 'special', 'fill', 'gap', 'hold', 'hand', 'ply', 'ask', 'create', 'gbetweeleg', '!'], tags=[969]),\n",
              " TaggedDocument(words=['yeah', 'like', 'go', 'like', 'friend', 'go', 'fly', 'like', 'half', 'hour'], tags=[970]),\n",
              " TaggedDocument(words=['study', 'go', 'home', 'anyway', 'b', 'go', '2', 'later'], tags=[971]),\n",
              " TaggedDocument(words=['bill', 'letter', 'I', 'expect', 'one', 'orange', 'bill', 'may', 'still', 'say', 'orange'], tags=[972]),\n",
              " TaggedDocument(words=['al', 'I', 'e', 'wrong', 'fault&al', 'de', 'argument', 'r', 'fault&fed', 'bother', 'go', 'than.xx'], tags=[973]),\n",
              " TaggedDocument(words=['alright', 'see', 'bit'], tags=[974]),\n",
              " TaggedDocument(words=['may', 'b', 'approve', 'panama', 'post'], tags=[975]),\n",
              " TaggedDocument(words=['yes', 'I', 'know', 'cheese', 'song', 'frosty', 'snow'], tags=[976]),\n",
              " TaggedDocument(words=['5', 'night', 'stay', 'porsteliao'], tags=[977]),\n",
              " TaggedDocument(words=['blblbli', 'miss', 'firsbowl'], tags=[978]),\n",
              " TaggedDocument(words=['I', 'escape', 'theatre', '.', 'go', 'watch', 'kavalan', 'minute'], tags=[979]),\n",
              " TaggedDocument(words=['call', 'I', 'right', 'call', 'hand', 'phone'], tags=[980]),\n",
              " TaggedDocument(words=['night', 'end', 'another', 'day', 'morning', 'come', 'special', 'way', 'may', 'smile', 'like', 'sunny', 'ray', 'leave', 'worry', 'blue', 'blue', 'bay', 'god', 'man'], tags=[981]),\n",
              " TaggedDocument(words=['parent', 'kid', 'friend', 'colleague', 'scream', 'surprise', '!', 'I', 'wait', 'sofa', '...', '.....', \"'\", 'naked'], tags=[982]),\n",
              " TaggedDocument(words=['I', 'nighworrye', 'apt', 'shame', 'miss', 'girl', 'nighwith', 'quire', 'popcorand', 'hair'], tags=[983]),\n",
              " TaggedDocument(words=['alrightook', 'morphin', 'back'], tags=[984]),\n",
              " TaggedDocument(words=['email', 'I', 'soon'], tags=[985]),\n",
              " TaggedDocument(words=['i.ll', 'poster', 'class'], tags=[986]),\n",
              " TaggedDocument(words=['hi', 'yjusspoke', 'maneesha', 'v.', 'would', 'like', 'know', 'satisfied', 'experience', 'reply', 'toll', 'free', 'yes'], tags=[987]),\n",
              " TaggedDocument(words=['know', 'stubborn', 'I', 'evewgthe', 'hospital', 'I', 'retell', 'mark', 'I', 'weak', 'suck', 'hospital', 'weak', 'success'], tags=[988]),\n",
              " TaggedDocument(words=['expeywhenever', 'text', 'hope', 'go', 'well', 'tom'], tags=[989]),\n",
              " TaggedDocument(words=['usual', 'call', 'I', '10', 'smith'], tags=[990]),\n",
              " TaggedDocument(words=['probably', 'money', 'worry', 'thing', 'come', 'due', 'several', 'outstanding', 'voice', 'work', 'wand', 'three', 'month', 'ago'], tags=[991]),\n",
              " TaggedDocument(words=['one', 'besdialogue', 'cut', 'reltnship', '\"', 'income', 'near', 'body', 'boy', 'hand', 'may', 'come', '2', 'wipe', 'tear', 'time', 'nip'], tags=[992]),\n",
              " TaggedDocument(words=['shave', 'shoulder', 'yet'], tags=[993]),\n",
              " TaggedDocument(words=['happen', 'cruise', 'thing'], tags=[994]),\n",
              " TaggedDocument(words=['parent', 'kid', 'friend', 'colleague', 'scream', 'surprise', '!', 'I', 'wait', 'sofa', '...', '.....', \"'\", 'naked'], tags=[995]),\n",
              " TaggedDocument(words=['love', 'holiday', 'monday', 'feel', 'even', 'I', 'dentist', 'hour'], tags=[996]),\n",
              " TaggedDocument(words=['ok', 'I', 'ask', 'money', 'far'], tags=[997]),\n",
              " TaggedDocument(words=['really', 'shocking', 'scar', 'imagine', 'second', 'def', 'without', 'think', 'somewhere', 'could', 'crash', 'night', 'save', 'taxi'], tags=[998]),\n",
              " TaggedDocument(words=['today', 'holiday'], tags=[999]),\n",
              " ...]"
            ]
          },
          "metadata": {},
          "execution_count": 31
        }
      ],
      "source": [
        "vector_processing"
      ]
    },
    {
      "cell_type": "code",
      "execution_count": null,
      "metadata": {
        "id": "TqT9ez3hik3D"
      },
      "outputs": [],
      "source": [
        "\n",
        "\n",
        "model=Doc2Vec(vector_size=70,min_count=2,epoch=50)\n",
        "\n",
        "model.build_vocab(vector_processing)\n",
        "\n",
        "model.train(vector_processing,total_examples=model.corpus_count,epochs=model.epochs)"
      ]
    },
    {
      "cell_type": "code",
      "execution_count": null,
      "metadata": {
        "id": "WBGU363PkOfZ"
      },
      "outputs": [],
      "source": [
        "def dv_conversion(x):\n",
        "    return model.infer_vector(x)\n"
      ]
    },
    {
      "cell_type": "code",
      "execution_count": null,
      "metadata": {
        "colab": {
          "base_uri": "https://localhost:8080/"
        },
        "id": "3D5xJbbYxJaC",
        "outputId": "9a3f1344-1612-45be-953b-9955c2db7484"
      },
      "outputs": [
        {
          "output_type": "stream",
          "name": "stdout",
          "text": [
            "CPU times: user 1.14 s, sys: 11 ms, total: 1.15 s\n",
            "Wall time: 1.16 s\n"
          ]
        }
      ],
      "source": [
        "%%time\n",
        "x_train=train_data[\"token\"].apply(dv_conversion)"
      ]
    },
    {
      "cell_type": "code",
      "execution_count": null,
      "metadata": {
        "id": "GsJGrNkjxjFf"
      },
      "outputs": [],
      "source": [
        "x_train=np.array(list(x_train))"
      ]
    },
    {
      "cell_type": "code",
      "execution_count": null,
      "metadata": {
        "colab": {
          "base_uri": "https://localhost:8080/"
        },
        "id": "W1pMr8tGxtCo",
        "outputId": "356a4c23-16a2-4ac3-c6ac-09a4bce18e75"
      },
      "outputs": [
        {
          "output_type": "execute_result",
          "data": {
            "text/plain": [
              "array([[ 0.00035491,  0.00823677, -0.00562575, ...,  0.00348315,\n",
              "         0.00112348, -0.00253744],\n",
              "       [-0.00379992,  0.00630871, -0.00566949, ..., -0.003021  ,\n",
              "        -0.00132076, -0.00119737],\n",
              "       [ 0.00653396,  0.00130727,  0.00812866, ..., -0.00999874,\n",
              "         0.00996769, -0.00165529],\n",
              "       ...,\n",
              "       [ 0.00410198,  0.00219859,  0.00357367, ..., -0.0114967 ,\n",
              "         0.00467734, -0.00017179],\n",
              "       [ 0.00085259,  0.00391166, -0.00185007, ..., -0.00653318,\n",
              "         0.00449406,  0.00359438],\n",
              "       [ 0.00648597,  0.01557529,  0.00038633, ..., -0.02559656,\n",
              "         0.0182293 ,  0.0086731 ]], dtype=float32)"
            ]
          },
          "metadata": {},
          "execution_count": 36
        }
      ],
      "source": [
        "x_train"
      ]
    },
    {
      "cell_type": "code",
      "execution_count": null,
      "metadata": {
        "colab": {
          "base_uri": "https://localhost:8080/"
        },
        "id": "NNZ-TKwfyJo9",
        "outputId": "15eaff05-954c-426b-c0bc-20e78d8a9dd7"
      },
      "outputs": [
        {
          "output_type": "execute_result",
          "data": {
            "text/plain": [
              "(2598, 70)"
            ]
          },
          "metadata": {},
          "execution_count": 37
        }
      ],
      "source": [
        "x_train.shape"
      ]
    },
    {
      "cell_type": "code",
      "execution_count": null,
      "metadata": {
        "id": "wLeKL7Eqznc2"
      },
      "outputs": [],
      "source": [
        ""
      ]
    },
    {
      "cell_type": "markdown",
      "metadata": {
        "id": "JFoMUFpfy42C"
      },
      "source": [
        "# MODELLING"
      ]
    },
    {
      "cell_type": "code",
      "execution_count": null,
      "metadata": {
        "id": "xJy2dSeyMuCh"
      },
      "outputs": [],
      "source": [
        ""
      ]
    },
    {
      "cell_type": "code",
      "execution_count": null,
      "metadata": {
        "id": "B-t82u4Ezohs"
      },
      "outputs": [],
      "source": [
        "train_data[\"label\"]=train_data[\"label\"].map({\"ham\":0,\"spam\":1})"
      ]
    },
    {
      "cell_type": "code",
      "execution_count": null,
      "metadata": {
        "colab": {
          "base_uri": "https://localhost:8080/"
        },
        "id": "9AQxtDTVyylf",
        "outputId": "cddb828f-6307-446d-89b4-3c85566e6072"
      },
      "outputs": [
        {
          "output_type": "execute_result",
          "data": {
            "text/plain": [
              "LogisticRegression()"
            ]
          },
          "metadata": {},
          "execution_count": 39
        }
      ],
      "source": [
        "from sklearn.linear_model import LogisticRegression\n",
        "\n",
        "model1=LogisticRegression()\n",
        "\n",
        "model1.fit(x_train,train_data[\"label\"])"
      ]
    },
    {
      "cell_type": "code",
      "execution_count": null,
      "metadata": {
        "colab": {
          "base_uri": "https://localhost:8080/"
        },
        "id": "BOl5--nJzX3P",
        "outputId": "c9a709d1-ac15-406c-af7f-fc58fe013b1d"
      },
      "outputs": [
        {
          "output_type": "execute_result",
          "data": {
            "text/plain": [
              "0.8036951501154734"
            ]
          },
          "metadata": {},
          "execution_count": 40
        }
      ],
      "source": [
        "model1.score(x_train,train_data[\"label\"])"
      ]
    },
    {
      "cell_type": "code",
      "execution_count": null,
      "metadata": {
        "colab": {
          "base_uri": "https://localhost:8080/"
        },
        "id": "Gn5FUHHo0GTl",
        "outputId": "b5717dcb-b4bf-47f6-a8ff-e6521ae5a09f"
      },
      "outputs": [
        {
          "output_type": "execute_result",
          "data": {
            "text/plain": [
              "GaussianNB()"
            ]
          },
          "metadata": {},
          "execution_count": 41
        }
      ],
      "source": [
        "from sklearn.naive_bayes import GaussianNB\n",
        "\n",
        "\n",
        "model2=GaussianNB()\n",
        "\n",
        "model2.fit(x_train,train_data[\"label\"])"
      ]
    },
    {
      "cell_type": "code",
      "execution_count": null,
      "metadata": {
        "colab": {
          "base_uri": "https://localhost:8080/"
        },
        "id": "RHaSfUlX0t7w",
        "outputId": "10900658-f0db-414f-d10a-9082e5f7c791"
      },
      "outputs": [
        {
          "output_type": "execute_result",
          "data": {
            "text/plain": [
              "0.806774441878368"
            ]
          },
          "metadata": {},
          "execution_count": 42
        }
      ],
      "source": [
        "\n",
        "model2.score(x_train,train_data[\"label\"])"
      ]
    },
    {
      "cell_type": "code",
      "execution_count": null,
      "metadata": {
        "colab": {
          "base_uri": "https://localhost:8080/"
        },
        "id": "2hvF8Of_1NA1",
        "outputId": "30f306d9-4282-45a6-df81-620290f3c5ff"
      },
      "outputs": [
        {
          "output_type": "execute_result",
          "data": {
            "text/plain": [
              "RandomForestClassifier()"
            ]
          },
          "metadata": {},
          "execution_count": 43
        }
      ],
      "source": [
        "from sklearn.ensemble import RandomForestClassifier\n",
        "\n",
        "\n",
        "model3=RandomForestClassifier()\n",
        "\n",
        "model3.fit(x_train,train_data[\"label\"])"
      ]
    },
    {
      "cell_type": "code",
      "execution_count": null,
      "metadata": {
        "colab": {
          "base_uri": "https://localhost:8080/"
        },
        "id": "SIb2Vr_41Zpl",
        "outputId": "10f09603-cf4e-4448-cd48-4b0636e0bf69"
      },
      "outputs": [
        {
          "output_type": "execute_result",
          "data": {
            "text/plain": [
              "1.0"
            ]
          },
          "metadata": {},
          "execution_count": 44
        }
      ],
      "source": [
        "model3.score(x_train,train_data[\"label\"])"
      ]
    },
    {
      "cell_type": "markdown",
      "metadata": {
        "id": "VSjuO5JC1nuW"
      },
      "source": [
        "##### Is this not an overfitting of the model? "
      ]
    },
    {
      "cell_type": "code",
      "execution_count": null,
      "metadata": {
        "colab": {
          "base_uri": "https://localhost:8080/"
        },
        "id": "FbS2r83-3VqR",
        "outputId": "b99f469d-bc89-464b-981d-6cedd1b3a915"
      },
      "outputs": [
        {
          "output_type": "execute_result",
          "data": {
            "text/plain": [
              "0    2000\n",
              "1     598\n",
              "Name: label, dtype: int64"
            ]
          },
          "metadata": {},
          "execution_count": 45
        }
      ],
      "source": [
        "train_data[\"label\"].value_counts()"
      ]
    },
    {
      "cell_type": "code",
      "execution_count": null,
      "metadata": {
        "colab": {
          "base_uri": "https://localhost:8080/"
        },
        "id": "6yIAPQxh1iNP",
        "outputId": "71c69ea0-2a6d-4709-e04d-df89713e2329"
      },
      "outputs": [
        {
          "output_type": "stream",
          "name": "stdout",
          "text": [
            "              precision    recall  f1-score   support\n",
            "\n",
            "           0       1.00      1.00      1.00      2000\n",
            "           1       1.00      1.00      1.00       598\n",
            "\n",
            "    accuracy                           1.00      2598\n",
            "   macro avg       1.00      1.00      1.00      2598\n",
            "weighted avg       1.00      1.00      1.00      2598\n",
            "\n",
            "[[2000    0]\n",
            " [   0  598]]\n"
          ]
        }
      ],
      "source": [
        "from sklearn.metrics import classification_report,confusion_matrix\n",
        "y_pred=model3.predict(x_train)\n",
        "print(classification_report(y_pred,train_data[\"label\"]))\n",
        "print(confusion_matrix(y_pred,train_data[\"label\"]))"
      ]
    },
    {
      "cell_type": "code",
      "execution_count": null,
      "metadata": {
        "colab": {
          "base_uri": "https://localhost:8080/"
        },
        "id": "9-sS-SvY3MLd",
        "outputId": "6cd4ad30-6d41-49d9-ad94-24133df18479"
      },
      "outputs": [
        {
          "output_type": "stream",
          "name": "stdout",
          "text": [
            "CPU times: user 10min 1s, sys: 1.68 s, total: 10min 3s\n",
            "Wall time: 10min 3s\n"
          ]
        }
      ],
      "source": [
        "%%time\n",
        "x_test=x_test.apply(clean)"
      ]
    },
    {
      "cell_type": "code",
      "execution_count": null,
      "metadata": {
        "colab": {
          "base_uri": "https://localhost:8080/"
        },
        "id": "LKi3ygv45CiT",
        "outputId": "91ab5aeb-c0da-4ab1-ffb4-11c52aac5a0f"
      },
      "outputs": [
        {
          "output_type": "execute_result",
          "data": {
            "text/plain": [
              "2825                          need buy lunch I I emaggmee\n",
              "3695    ok sure time finish tomorrow spend evening cos...\n",
              "3904              wait e car 4 sum let reach home already\n",
              "576            w?1,000 cash ? prize claim call09050000327\n",
              "2899                           @ home become dowwith5 min\n",
              "                              ...                        \n",
              "854     ah poor baby!hope feel well love probthat over...\n",
              "5044                                 play 9 door sometime\n",
              "2015                                              ambrine\n",
              "3380                               dear ummshe call I :-)\n",
              "785               think turn like randomlly with5mof open\n",
              "Name: message, Length: 1115, dtype: object"
            ]
          },
          "metadata": {},
          "execution_count": 48
        }
      ],
      "source": [
        " x_test"
      ]
    },
    {
      "cell_type": "code",
      "execution_count": null,
      "metadata": {
        "id": "mOBT7q4c6_xJ"
      },
      "outputs": [],
      "source": [
        "x_test=x_test.apply(lambda x : x.split())"
      ]
    },
    {
      "cell_type": "code",
      "execution_count": null,
      "metadata": {
        "colab": {
          "base_uri": "https://localhost:8080/"
        },
        "id": "N711f8ar7VTY",
        "outputId": "77424ef4-c2e8-4271-842a-3d1f8c78195f"
      },
      "outputs": [
        {
          "output_type": "stream",
          "name": "stdout",
          "text": [
            "CPU times: user 481 ms, sys: 10 ms, total: 491 ms\n",
            "Wall time: 492 ms\n"
          ]
        }
      ],
      "source": [
        "%%time\n",
        "x_test=x_test.apply(dv_conversion)"
      ]
    },
    {
      "cell_type": "code",
      "execution_count": null,
      "metadata": {
        "id": "7fAwcYzs7u4O"
      },
      "outputs": [],
      "source": [
        "x_test=np.array(list(x_test))"
      ]
    },
    {
      "cell_type": "code",
      "execution_count": null,
      "metadata": {
        "id": "NQyzmwXE9GIT"
      },
      "outputs": [],
      "source": [
        "y_test=y_test.map({\"ham\":0,\"spam\":1})"
      ]
    },
    {
      "cell_type": "code",
      "execution_count": null,
      "metadata": {
        "colab": {
          "base_uri": "https://localhost:8080/"
        },
        "id": "FqWwhaY28fLs",
        "outputId": "831a2e15-a3ee-4064-e7cc-7d33cd1e17f6"
      },
      "outputs": [
        {
          "output_type": "stream",
          "name": "stdout",
          "text": [
            "              precision    recall  f1-score   support\n",
            "\n",
            "           0       0.93      0.90      0.91       993\n",
            "           1       0.34      0.41      0.37       122\n",
            "\n",
            "    accuracy                           0.85      1115\n",
            "   macro avg       0.63      0.66      0.64      1115\n",
            "weighted avg       0.86      0.85      0.85      1115\n",
            "\n"
          ]
        }
      ],
      "source": [
        "print(classification_report(model3.predict(x_test),y_test))"
      ]
    },
    {
      "cell_type": "code",
      "execution_count": null,
      "metadata": {
        "colab": {
          "base_uri": "https://localhost:8080/"
        },
        "id": "chpoOZ9b82if",
        "outputId": "a43d377c-6809-4069-a890-96cfb30aab47"
      },
      "outputs": [
        {
          "output_type": "stream",
          "name": "stdout",
          "text": [
            "0.655069090188698\n"
          ]
        }
      ],
      "source": [
        "from sklearn.metrics import roc_auc_score\n",
        "\n",
        "print(roc_auc_score(model3.predict(x_test),y_test))"
      ]
    },
    {
      "cell_type": "code",
      "execution_count": null,
      "metadata": {
        "colab": {
          "base_uri": "https://localhost:8080/"
        },
        "id": "cpnGJTk49xO6",
        "outputId": "0c2980f5-91e2-42a5-b534-0ea0e713c439"
      },
      "outputs": [
        {
          "output_type": "stream",
          "name": "stdout",
          "text": [
            "[[894  99]\n",
            " [ 72  50]]\n"
          ]
        }
      ],
      "source": [
        "print(confusion_matrix(model3.predict(x_test),y_test))"
      ]
    },
    {
      "cell_type": "code",
      "source": [
        "x_train_testing=pd.DataFrame(x_train)"
      ],
      "metadata": {
        "id": "6_GFG37Wqkbc"
      },
      "execution_count": null,
      "outputs": []
    },
    {
      "cell_type": "code",
      "source": [
        "from imblearn.ensemble import RUSBoostClassifier,BalancedBaggingClassifier,BalancedRandomForestClassifier\n",
        "\n",
        "\n",
        "model4=RUSBoostClassifier()\n",
        "\n"
      ],
      "metadata": {
        "id": "tF7QwIYQpuJy"
      },
      "execution_count": null,
      "outputs": []
    },
    {
      "cell_type": "code",
      "source": [
        "model4.fit(x_train_testing,train_data[\"label\"])"
      ],
      "metadata": {
        "colab": {
          "base_uri": "https://localhost:8080/"
        },
        "id": "HESykCCIqIWh",
        "outputId": "7f411f05-05cc-4353-8c1f-9baaa2814fb5"
      },
      "execution_count": null,
      "outputs": [
        {
          "output_type": "execute_result",
          "data": {
            "text/plain": [
              "RUSBoostClassifier()"
            ]
          },
          "metadata": {},
          "execution_count": 58
        }
      ]
    },
    {
      "cell_type": "code",
      "source": [
        "print(roc_auc_score(model4.predict(x_test),y_test))"
      ],
      "metadata": {
        "colab": {
          "base_uri": "https://localhost:8080/"
        },
        "id": "MXEyhgIgrhdz",
        "outputId": "7b6b10e3-fc80-46ca-cca7-2f587917d87b"
      },
      "execution_count": null,
      "outputs": [
        {
          "output_type": "stream",
          "name": "stdout",
          "text": [
            "0.6093902102667271\n"
          ]
        }
      ]
    },
    {
      "cell_type": "code",
      "source": [
        "model5=BalancedRandomForestClassifier()\n",
        "model5.fit(x_train_testing,train_data[\"label\"])\n",
        "print(roc_auc_score(model5.predict(x_test),y_test))"
      ],
      "metadata": {
        "colab": {
          "base_uri": "https://localhost:8080/"
        },
        "id": "07zj_uxLrvBy",
        "outputId": "ae70a76f-c584-4405-b5c5-b6a45422809b"
      },
      "execution_count": null,
      "outputs": [
        {
          "output_type": "stream",
          "name": "stdout",
          "text": [
            "0.6502862985685072\n"
          ]
        }
      ]
    },
    {
      "cell_type": "code",
      "source": [
        "\n",
        "\n"
      ],
      "metadata": {
        "id": "HL-w8q7JsAYg"
      },
      "execution_count": null,
      "outputs": []
    },
    {
      "cell_type": "code",
      "execution_count": null,
      "metadata": {
        "colab": {
          "base_uri": "https://localhost:8080/",
          "height": 641
        },
        "id": "i1OPjnaF-il8",
        "outputId": "8d807cc4-d25b-4a18-e321-7bb44a17fa40"
      },
      "outputs": [
        {
          "output_type": "execute_result",
          "data": {
            "text/plain": [
              "                                                message  label  word_count  \\\n",
              "4631          Everybody had fun this evening. Miss you.      0           7   \n",
              "4250     Loosu go to hospital. De dont let it careless.      0           9   \n",
              "2062  Hey ! I want you ! I crave you ! I miss you ! ...      0          26   \n",
              "2797  Tell your friends what you plan to do on Valen...      0          13   \n",
              "1676  Painful words- \"I thought being Happy was the ...      0          24   \n",
              "...                                                 ...    ...         ...   \n",
              "2897  pdate_Now - Double mins and 1000 txts on Orang...      1          24   \n",
              "1688  Free Top ringtone -sub to weekly ringtone-get ...      1          16   \n",
              "3289  Someone U know has asked our dating service 2 ...      1          25   \n",
              "2309  Moby Pub Quiz.Win a £100 High Street prize if ...      1          30   \n",
              "1904  Free entry in 2 a weekly comp for a chance to ...      1          30   \n",
              "\n",
              "      stop_words_count  digit_count  upper_case_count  \\\n",
              "4631                 2            0                 0   \n",
              "4250                 2            0                 0   \n",
              "2062                 4            0                 0   \n",
              "2797                 6            0                 0   \n",
              "1676                 9            0                 1   \n",
              "...                ...          ...               ...   \n",
              "2897                 4            2                 1   \n",
              "1688                 2            0                 1   \n",
              "3289                 5            2                 3   \n",
              "2309                 8            1                 2   \n",
              "1904                 9            3                 1   \n",
              "\n",
              "                                                cleaned  \\\n",
              "4631                             everybody evening miss   \n",
              "4250                       loosghospital de dlecareless   \n",
              "2062  hey ! I I grave I miss I need I love ahead sav...   \n",
              "2797                tell friend whypldvalentine day @ &   \n",
              "1676  painful words- \" thoughbee happy mostoughesthe...   \n",
              "...                                                 ...   \n",
              "2897  pdate_now - double mind 1000 txt orange tariff...   \n",
              "1688  free trigone -sub weekly ringtone free supply ...   \n",
              "3289  someone know ask date service 2 guess call 090...   \n",
              "2309  mob pub quit.w£100 high streeprize know wythe ...   \n",
              "1904  free entry 2 weekly comfort chance wipe trod 8...   \n",
              "\n",
              "                                                  token  \n",
              "4631                         [everybody, evening, miss]  \n",
              "4250                   [loosghospital, de, dlecareless]  \n",
              "2062  [hey, !, I, I, grave, I, miss, I, need, I, lov...  \n",
              "2797         [tell, friend, whypldvalentine, day, @, &]  \n",
              "1676  [painful, words-, \", thoughbee, happy, mostoug...  \n",
              "...                                                 ...  \n",
              "2897  [pdate_now, -, double, mind, 1000, txt, orange...  \n",
              "1688  [free, trigone, -sub, weekly, ringtone, free, ...  \n",
              "3289  [someone, know, ask, date, service, 2, guess, ...  \n",
              "2309  [mob, pub, quit.w£100, high, streeprize, know,...  \n",
              "1904  [free, entry, 2, weekly, comfort, chance, wipe...  \n",
              "\n",
              "[2598 rows x 8 columns]"
            ],
            "text/html": [
              "\n",
              "  <div id=\"df-2d2230c6-1455-4956-b86d-75027647a085\">\n",
              "    <div class=\"colab-df-container\">\n",
              "      <div>\n",
              "<style scoped>\n",
              "    .dataframe tbody tr th:only-of-type {\n",
              "        vertical-align: middle;\n",
              "    }\n",
              "\n",
              "    .dataframe tbody tr th {\n",
              "        vertical-align: top;\n",
              "    }\n",
              "\n",
              "    .dataframe thead th {\n",
              "        text-align: right;\n",
              "    }\n",
              "</style>\n",
              "<table border=\"1\" class=\"dataframe\">\n",
              "  <thead>\n",
              "    <tr style=\"text-align: right;\">\n",
              "      <th></th>\n",
              "      <th>message</th>\n",
              "      <th>label</th>\n",
              "      <th>word_count</th>\n",
              "      <th>stop_words_count</th>\n",
              "      <th>digit_count</th>\n",
              "      <th>upper_case_count</th>\n",
              "      <th>cleaned</th>\n",
              "      <th>token</th>\n",
              "    </tr>\n",
              "  </thead>\n",
              "  <tbody>\n",
              "    <tr>\n",
              "      <th>4631</th>\n",
              "      <td>Everybody had fun this evening. Miss you.</td>\n",
              "      <td>0</td>\n",
              "      <td>7</td>\n",
              "      <td>2</td>\n",
              "      <td>0</td>\n",
              "      <td>0</td>\n",
              "      <td>everybody evening miss</td>\n",
              "      <td>[everybody, evening, miss]</td>\n",
              "    </tr>\n",
              "    <tr>\n",
              "      <th>4250</th>\n",
              "      <td>Loosu go to hospital. De dont let it careless.</td>\n",
              "      <td>0</td>\n",
              "      <td>9</td>\n",
              "      <td>2</td>\n",
              "      <td>0</td>\n",
              "      <td>0</td>\n",
              "      <td>loosghospital de dlecareless</td>\n",
              "      <td>[loosghospital, de, dlecareless]</td>\n",
              "    </tr>\n",
              "    <tr>\n",
              "      <th>2062</th>\n",
              "      <td>Hey ! I want you ! I crave you ! I miss you ! ...</td>\n",
              "      <td>0</td>\n",
              "      <td>26</td>\n",
              "      <td>4</td>\n",
              "      <td>0</td>\n",
              "      <td>0</td>\n",
              "      <td>hey ! I I grave I miss I need I love ahead sav...</td>\n",
              "      <td>[hey, !, I, I, grave, I, miss, I, need, I, lov...</td>\n",
              "    </tr>\n",
              "    <tr>\n",
              "      <th>2797</th>\n",
              "      <td>Tell your friends what you plan to do on Valen...</td>\n",
              "      <td>0</td>\n",
              "      <td>13</td>\n",
              "      <td>6</td>\n",
              "      <td>0</td>\n",
              "      <td>0</td>\n",
              "      <td>tell friend whypldvalentine day @ &amp;</td>\n",
              "      <td>[tell, friend, whypldvalentine, day, @, &amp;]</td>\n",
              "    </tr>\n",
              "    <tr>\n",
              "      <th>1676</th>\n",
              "      <td>Painful words- \"I thought being Happy was the ...</td>\n",
              "      <td>0</td>\n",
              "      <td>24</td>\n",
              "      <td>9</td>\n",
              "      <td>0</td>\n",
              "      <td>1</td>\n",
              "      <td>painful words- \" thoughbee happy mostoughesthe...</td>\n",
              "      <td>[painful, words-, \", thoughbee, happy, mostoug...</td>\n",
              "    </tr>\n",
              "    <tr>\n",
              "      <th>...</th>\n",
              "      <td>...</td>\n",
              "      <td>...</td>\n",
              "      <td>...</td>\n",
              "      <td>...</td>\n",
              "      <td>...</td>\n",
              "      <td>...</td>\n",
              "      <td>...</td>\n",
              "      <td>...</td>\n",
              "    </tr>\n",
              "    <tr>\n",
              "      <th>2897</th>\n",
              "      <td>pdate_Now - Double mins and 1000 txts on Orang...</td>\n",
              "      <td>1</td>\n",
              "      <td>24</td>\n",
              "      <td>4</td>\n",
              "      <td>2</td>\n",
              "      <td>1</td>\n",
              "      <td>pdate_now - double mind 1000 txt orange tariff...</td>\n",
              "      <td>[pdate_now, -, double, mind, 1000, txt, orange...</td>\n",
              "    </tr>\n",
              "    <tr>\n",
              "      <th>1688</th>\n",
              "      <td>Free Top ringtone -sub to weekly ringtone-get ...</td>\n",
              "      <td>1</td>\n",
              "      <td>16</td>\n",
              "      <td>2</td>\n",
              "      <td>0</td>\n",
              "      <td>1</td>\n",
              "      <td>free trigone -sub weekly ringtone free supply ...</td>\n",
              "      <td>[free, trigone, -sub, weekly, ringtone, free, ...</td>\n",
              "    </tr>\n",
              "    <tr>\n",
              "      <th>3289</th>\n",
              "      <td>Someone U know has asked our dating service 2 ...</td>\n",
              "      <td>1</td>\n",
              "      <td>25</td>\n",
              "      <td>5</td>\n",
              "      <td>2</td>\n",
              "      <td>3</td>\n",
              "      <td>someone know ask date service 2 guess call 090...</td>\n",
              "      <td>[someone, know, ask, date, service, 2, guess, ...</td>\n",
              "    </tr>\n",
              "    <tr>\n",
              "      <th>2309</th>\n",
              "      <td>Moby Pub Quiz.Win a £100 High Street prize if ...</td>\n",
              "      <td>1</td>\n",
              "      <td>30</td>\n",
              "      <td>8</td>\n",
              "      <td>1</td>\n",
              "      <td>2</td>\n",
              "      <td>mob pub quit.w£100 high streeprize know wythe ...</td>\n",
              "      <td>[mob, pub, quit.w£100, high, streeprize, know,...</td>\n",
              "    </tr>\n",
              "    <tr>\n",
              "      <th>1904</th>\n",
              "      <td>Free entry in 2 a weekly comp for a chance to ...</td>\n",
              "      <td>1</td>\n",
              "      <td>30</td>\n",
              "      <td>9</td>\n",
              "      <td>3</td>\n",
              "      <td>1</td>\n",
              "      <td>free entry 2 weekly comfort chance wipe trod 8...</td>\n",
              "      <td>[free, entry, 2, weekly, comfort, chance, wipe...</td>\n",
              "    </tr>\n",
              "  </tbody>\n",
              "</table>\n",
              "<p>2598 rows × 8 columns</p>\n",
              "</div>\n",
              "      <button class=\"colab-df-convert\" onclick=\"convertToInteractive('df-2d2230c6-1455-4956-b86d-75027647a085')\"\n",
              "              title=\"Convert this dataframe to an interactive table.\"\n",
              "              style=\"display:none;\">\n",
              "        \n",
              "  <svg xmlns=\"http://www.w3.org/2000/svg\" height=\"24px\"viewBox=\"0 0 24 24\"\n",
              "       width=\"24px\">\n",
              "    <path d=\"M0 0h24v24H0V0z\" fill=\"none\"/>\n",
              "    <path d=\"M18.56 5.44l.94 2.06.94-2.06 2.06-.94-2.06-.94-.94-2.06-.94 2.06-2.06.94zm-11 1L8.5 8.5l.94-2.06 2.06-.94-2.06-.94L8.5 2.5l-.94 2.06-2.06.94zm10 10l.94 2.06.94-2.06 2.06-.94-2.06-.94-.94-2.06-.94 2.06-2.06.94z\"/><path d=\"M17.41 7.96l-1.37-1.37c-.4-.4-.92-.59-1.43-.59-.52 0-1.04.2-1.43.59L10.3 9.45l-7.72 7.72c-.78.78-.78 2.05 0 2.83L4 21.41c.39.39.9.59 1.41.59.51 0 1.02-.2 1.41-.59l7.78-7.78 2.81-2.81c.8-.78.8-2.07 0-2.86zM5.41 20L4 18.59l7.72-7.72 1.47 1.35L5.41 20z\"/>\n",
              "  </svg>\n",
              "      </button>\n",
              "      \n",
              "  <style>\n",
              "    .colab-df-container {\n",
              "      display:flex;\n",
              "      flex-wrap:wrap;\n",
              "      gap: 12px;\n",
              "    }\n",
              "\n",
              "    .colab-df-convert {\n",
              "      background-color: #E8F0FE;\n",
              "      border: none;\n",
              "      border-radius: 50%;\n",
              "      cursor: pointer;\n",
              "      display: none;\n",
              "      fill: #1967D2;\n",
              "      height: 32px;\n",
              "      padding: 0 0 0 0;\n",
              "      width: 32px;\n",
              "    }\n",
              "\n",
              "    .colab-df-convert:hover {\n",
              "      background-color: #E2EBFA;\n",
              "      box-shadow: 0px 1px 2px rgba(60, 64, 67, 0.3), 0px 1px 3px 1px rgba(60, 64, 67, 0.15);\n",
              "      fill: #174EA6;\n",
              "    }\n",
              "\n",
              "    [theme=dark] .colab-df-convert {\n",
              "      background-color: #3B4455;\n",
              "      fill: #D2E3FC;\n",
              "    }\n",
              "\n",
              "    [theme=dark] .colab-df-convert:hover {\n",
              "      background-color: #434B5C;\n",
              "      box-shadow: 0px 1px 3px 1px rgba(0, 0, 0, 0.15);\n",
              "      filter: drop-shadow(0px 1px 2px rgba(0, 0, 0, 0.3));\n",
              "      fill: #FFFFFF;\n",
              "    }\n",
              "  </style>\n",
              "\n",
              "      <script>\n",
              "        const buttonEl =\n",
              "          document.querySelector('#df-2d2230c6-1455-4956-b86d-75027647a085 button.colab-df-convert');\n",
              "        buttonEl.style.display =\n",
              "          google.colab.kernel.accessAllowed ? 'block' : 'none';\n",
              "\n",
              "        async function convertToInteractive(key) {\n",
              "          const element = document.querySelector('#df-2d2230c6-1455-4956-b86d-75027647a085');\n",
              "          const dataTable =\n",
              "            await google.colab.kernel.invokeFunction('convertToInteractive',\n",
              "                                                     [key], {});\n",
              "          if (!dataTable) return;\n",
              "\n",
              "          const docLinkHtml = 'Like what you see? Visit the ' +\n",
              "            '<a target=\"_blank\" href=https://colab.research.google.com/notebooks/data_table.ipynb>data table notebook</a>'\n",
              "            + ' to learn more about interactive tables.';\n",
              "          element.innerHTML = '';\n",
              "          dataTable['output_type'] = 'display_data';\n",
              "          await google.colab.output.renderOutput(dataTable, element);\n",
              "          const docLink = document.createElement('div');\n",
              "          docLink.innerHTML = docLinkHtml;\n",
              "          element.appendChild(docLink);\n",
              "        }\n",
              "      </script>\n",
              "    </div>\n",
              "  </div>\n",
              "  "
            ]
          },
          "metadata": {},
          "execution_count": 61
        }
      ],
      "source": [
        "train_data_sample"
      ]
    },
    {
      "cell_type": "code",
      "source": [
        "new_train_x=pd.DataFrame(x_train)"
      ],
      "metadata": {
        "id": "tPM05W_blY6I"
      },
      "execution_count": null,
      "outputs": []
    },
    {
      "cell_type": "code",
      "source": [
        "new_train_x.head()"
      ],
      "metadata": {
        "colab": {
          "base_uri": "https://localhost:8080/",
          "height": 300
        },
        "id": "gJ4CQYGymGIw",
        "outputId": "7ee172f8-62fd-4857-8b2c-4319217b408d"
      },
      "execution_count": null,
      "outputs": [
        {
          "output_type": "execute_result",
          "data": {
            "text/plain": [
              "         0         1         2         3         4         5         6   \\\n",
              "0  0.000355  0.008237 -0.005626 -0.005128  0.001241  0.009651 -0.001611   \n",
              "1 -0.003800  0.006309 -0.005669  0.003732  0.003276  0.004091  0.005304   \n",
              "2  0.006534  0.001307  0.008129 -0.017326 -0.004356  0.020816 -0.016001   \n",
              "3  0.001190  0.001850  0.004645 -0.002574 -0.001003  0.011309 -0.009001   \n",
              "4 -0.001359 -0.001771  0.004729 -0.014217  0.003563  0.001238 -0.012155   \n",
              "\n",
              "         7         8         9   ...        60        61        62        63  \\\n",
              "0  0.006053  0.007502  0.007208  ...  0.011626  0.001602 -0.007718 -0.000748   \n",
              "1  0.003929 -0.004975 -0.000876  ...  0.003641  0.002666 -0.009468 -0.002592   \n",
              "2  0.025999  0.014878  0.006917  ...  0.020966  0.007745 -0.028136  0.005395   \n",
              "3  0.001067  0.004471  0.003681  ...  0.007558 -0.001847 -0.003381  0.005044   \n",
              "4  0.007696  0.004924  0.012931  ...  0.007327  0.007659 -0.009526  0.008376   \n",
              "\n",
              "         64        65        66        67        68        69  \n",
              "0  0.012078  0.000852 -0.001937  0.003483  0.001123 -0.002537  \n",
              "1 -0.004771  0.002273 -0.005724 -0.003021 -0.001321 -0.001197  \n",
              "2  0.027011 -0.005339 -0.004209 -0.009999  0.009968 -0.001655  \n",
              "3  0.013376 -0.001975 -0.001992 -0.001372 -0.002822  0.003607  \n",
              "4  0.009823 -0.003974  0.000363 -0.001393  0.006182  0.001160  \n",
              "\n",
              "[5 rows x 70 columns]"
            ],
            "text/html": [
              "\n",
              "  <div id=\"df-2aa04195-0781-44da-a120-f5f3cad8beef\">\n",
              "    <div class=\"colab-df-container\">\n",
              "      <div>\n",
              "<style scoped>\n",
              "    .dataframe tbody tr th:only-of-type {\n",
              "        vertical-align: middle;\n",
              "    }\n",
              "\n",
              "    .dataframe tbody tr th {\n",
              "        vertical-align: top;\n",
              "    }\n",
              "\n",
              "    .dataframe thead th {\n",
              "        text-align: right;\n",
              "    }\n",
              "</style>\n",
              "<table border=\"1\" class=\"dataframe\">\n",
              "  <thead>\n",
              "    <tr style=\"text-align: right;\">\n",
              "      <th></th>\n",
              "      <th>0</th>\n",
              "      <th>1</th>\n",
              "      <th>2</th>\n",
              "      <th>3</th>\n",
              "      <th>4</th>\n",
              "      <th>5</th>\n",
              "      <th>6</th>\n",
              "      <th>7</th>\n",
              "      <th>8</th>\n",
              "      <th>9</th>\n",
              "      <th>...</th>\n",
              "      <th>60</th>\n",
              "      <th>61</th>\n",
              "      <th>62</th>\n",
              "      <th>63</th>\n",
              "      <th>64</th>\n",
              "      <th>65</th>\n",
              "      <th>66</th>\n",
              "      <th>67</th>\n",
              "      <th>68</th>\n",
              "      <th>69</th>\n",
              "    </tr>\n",
              "  </thead>\n",
              "  <tbody>\n",
              "    <tr>\n",
              "      <th>0</th>\n",
              "      <td>0.000355</td>\n",
              "      <td>0.008237</td>\n",
              "      <td>-0.005626</td>\n",
              "      <td>-0.005128</td>\n",
              "      <td>0.001241</td>\n",
              "      <td>0.009651</td>\n",
              "      <td>-0.001611</td>\n",
              "      <td>0.006053</td>\n",
              "      <td>0.007502</td>\n",
              "      <td>0.007208</td>\n",
              "      <td>...</td>\n",
              "      <td>0.011626</td>\n",
              "      <td>0.001602</td>\n",
              "      <td>-0.007718</td>\n",
              "      <td>-0.000748</td>\n",
              "      <td>0.012078</td>\n",
              "      <td>0.000852</td>\n",
              "      <td>-0.001937</td>\n",
              "      <td>0.003483</td>\n",
              "      <td>0.001123</td>\n",
              "      <td>-0.002537</td>\n",
              "    </tr>\n",
              "    <tr>\n",
              "      <th>1</th>\n",
              "      <td>-0.003800</td>\n",
              "      <td>0.006309</td>\n",
              "      <td>-0.005669</td>\n",
              "      <td>0.003732</td>\n",
              "      <td>0.003276</td>\n",
              "      <td>0.004091</td>\n",
              "      <td>0.005304</td>\n",
              "      <td>0.003929</td>\n",
              "      <td>-0.004975</td>\n",
              "      <td>-0.000876</td>\n",
              "      <td>...</td>\n",
              "      <td>0.003641</td>\n",
              "      <td>0.002666</td>\n",
              "      <td>-0.009468</td>\n",
              "      <td>-0.002592</td>\n",
              "      <td>-0.004771</td>\n",
              "      <td>0.002273</td>\n",
              "      <td>-0.005724</td>\n",
              "      <td>-0.003021</td>\n",
              "      <td>-0.001321</td>\n",
              "      <td>-0.001197</td>\n",
              "    </tr>\n",
              "    <tr>\n",
              "      <th>2</th>\n",
              "      <td>0.006534</td>\n",
              "      <td>0.001307</td>\n",
              "      <td>0.008129</td>\n",
              "      <td>-0.017326</td>\n",
              "      <td>-0.004356</td>\n",
              "      <td>0.020816</td>\n",
              "      <td>-0.016001</td>\n",
              "      <td>0.025999</td>\n",
              "      <td>0.014878</td>\n",
              "      <td>0.006917</td>\n",
              "      <td>...</td>\n",
              "      <td>0.020966</td>\n",
              "      <td>0.007745</td>\n",
              "      <td>-0.028136</td>\n",
              "      <td>0.005395</td>\n",
              "      <td>0.027011</td>\n",
              "      <td>-0.005339</td>\n",
              "      <td>-0.004209</td>\n",
              "      <td>-0.009999</td>\n",
              "      <td>0.009968</td>\n",
              "      <td>-0.001655</td>\n",
              "    </tr>\n",
              "    <tr>\n",
              "      <th>3</th>\n",
              "      <td>0.001190</td>\n",
              "      <td>0.001850</td>\n",
              "      <td>0.004645</td>\n",
              "      <td>-0.002574</td>\n",
              "      <td>-0.001003</td>\n",
              "      <td>0.011309</td>\n",
              "      <td>-0.009001</td>\n",
              "      <td>0.001067</td>\n",
              "      <td>0.004471</td>\n",
              "      <td>0.003681</td>\n",
              "      <td>...</td>\n",
              "      <td>0.007558</td>\n",
              "      <td>-0.001847</td>\n",
              "      <td>-0.003381</td>\n",
              "      <td>0.005044</td>\n",
              "      <td>0.013376</td>\n",
              "      <td>-0.001975</td>\n",
              "      <td>-0.001992</td>\n",
              "      <td>-0.001372</td>\n",
              "      <td>-0.002822</td>\n",
              "      <td>0.003607</td>\n",
              "    </tr>\n",
              "    <tr>\n",
              "      <th>4</th>\n",
              "      <td>-0.001359</td>\n",
              "      <td>-0.001771</td>\n",
              "      <td>0.004729</td>\n",
              "      <td>-0.014217</td>\n",
              "      <td>0.003563</td>\n",
              "      <td>0.001238</td>\n",
              "      <td>-0.012155</td>\n",
              "      <td>0.007696</td>\n",
              "      <td>0.004924</td>\n",
              "      <td>0.012931</td>\n",
              "      <td>...</td>\n",
              "      <td>0.007327</td>\n",
              "      <td>0.007659</td>\n",
              "      <td>-0.009526</td>\n",
              "      <td>0.008376</td>\n",
              "      <td>0.009823</td>\n",
              "      <td>-0.003974</td>\n",
              "      <td>0.000363</td>\n",
              "      <td>-0.001393</td>\n",
              "      <td>0.006182</td>\n",
              "      <td>0.001160</td>\n",
              "    </tr>\n",
              "  </tbody>\n",
              "</table>\n",
              "<p>5 rows × 70 columns</p>\n",
              "</div>\n",
              "      <button class=\"colab-df-convert\" onclick=\"convertToInteractive('df-2aa04195-0781-44da-a120-f5f3cad8beef')\"\n",
              "              title=\"Convert this dataframe to an interactive table.\"\n",
              "              style=\"display:none;\">\n",
              "        \n",
              "  <svg xmlns=\"http://www.w3.org/2000/svg\" height=\"24px\"viewBox=\"0 0 24 24\"\n",
              "       width=\"24px\">\n",
              "    <path d=\"M0 0h24v24H0V0z\" fill=\"none\"/>\n",
              "    <path d=\"M18.56 5.44l.94 2.06.94-2.06 2.06-.94-2.06-.94-.94-2.06-.94 2.06-2.06.94zm-11 1L8.5 8.5l.94-2.06 2.06-.94-2.06-.94L8.5 2.5l-.94 2.06-2.06.94zm10 10l.94 2.06.94-2.06 2.06-.94-2.06-.94-.94-2.06-.94 2.06-2.06.94z\"/><path d=\"M17.41 7.96l-1.37-1.37c-.4-.4-.92-.59-1.43-.59-.52 0-1.04.2-1.43.59L10.3 9.45l-7.72 7.72c-.78.78-.78 2.05 0 2.83L4 21.41c.39.39.9.59 1.41.59.51 0 1.02-.2 1.41-.59l7.78-7.78 2.81-2.81c.8-.78.8-2.07 0-2.86zM5.41 20L4 18.59l7.72-7.72 1.47 1.35L5.41 20z\"/>\n",
              "  </svg>\n",
              "      </button>\n",
              "      \n",
              "  <style>\n",
              "    .colab-df-container {\n",
              "      display:flex;\n",
              "      flex-wrap:wrap;\n",
              "      gap: 12px;\n",
              "    }\n",
              "\n",
              "    .colab-df-convert {\n",
              "      background-color: #E8F0FE;\n",
              "      border: none;\n",
              "      border-radius: 50%;\n",
              "      cursor: pointer;\n",
              "      display: none;\n",
              "      fill: #1967D2;\n",
              "      height: 32px;\n",
              "      padding: 0 0 0 0;\n",
              "      width: 32px;\n",
              "    }\n",
              "\n",
              "    .colab-df-convert:hover {\n",
              "      background-color: #E2EBFA;\n",
              "      box-shadow: 0px 1px 2px rgba(60, 64, 67, 0.3), 0px 1px 3px 1px rgba(60, 64, 67, 0.15);\n",
              "      fill: #174EA6;\n",
              "    }\n",
              "\n",
              "    [theme=dark] .colab-df-convert {\n",
              "      background-color: #3B4455;\n",
              "      fill: #D2E3FC;\n",
              "    }\n",
              "\n",
              "    [theme=dark] .colab-df-convert:hover {\n",
              "      background-color: #434B5C;\n",
              "      box-shadow: 0px 1px 3px 1px rgba(0, 0, 0, 0.15);\n",
              "      filter: drop-shadow(0px 1px 2px rgba(0, 0, 0, 0.3));\n",
              "      fill: #FFFFFF;\n",
              "    }\n",
              "  </style>\n",
              "\n",
              "      <script>\n",
              "        const buttonEl =\n",
              "          document.querySelector('#df-2aa04195-0781-44da-a120-f5f3cad8beef button.colab-df-convert');\n",
              "        buttonEl.style.display =\n",
              "          google.colab.kernel.accessAllowed ? 'block' : 'none';\n",
              "\n",
              "        async function convertToInteractive(key) {\n",
              "          const element = document.querySelector('#df-2aa04195-0781-44da-a120-f5f3cad8beef');\n",
              "          const dataTable =\n",
              "            await google.colab.kernel.invokeFunction('convertToInteractive',\n",
              "                                                     [key], {});\n",
              "          if (!dataTable) return;\n",
              "\n",
              "          const docLinkHtml = 'Like what you see? Visit the ' +\n",
              "            '<a target=\"_blank\" href=https://colab.research.google.com/notebooks/data_table.ipynb>data table notebook</a>'\n",
              "            + ' to learn more about interactive tables.';\n",
              "          element.innerHTML = '';\n",
              "          dataTable['output_type'] = 'display_data';\n",
              "          await google.colab.output.renderOutput(dataTable, element);\n",
              "          const docLink = document.createElement('div');\n",
              "          docLink.innerHTML = docLinkHtml;\n",
              "          element.appendChild(docLink);\n",
              "        }\n",
              "      </script>\n",
              "    </div>\n",
              "  </div>\n",
              "  "
            ]
          },
          "metadata": {},
          "execution_count": 63
        }
      ]
    },
    {
      "cell_type": "code",
      "source": [
        "train_data[\"label\"].value_counts()"
      ],
      "metadata": {
        "colab": {
          "base_uri": "https://localhost:8080/"
        },
        "id": "FXGz3SrAoozQ",
        "outputId": "1947814f-bcbc-4a08-d214-8ce10198b978"
      },
      "execution_count": null,
      "outputs": [
        {
          "output_type": "execute_result",
          "data": {
            "text/plain": [
              "0    2000\n",
              "1     598\n",
              "Name: label, dtype: int64"
            ]
          },
          "metadata": {},
          "execution_count": 64
        }
      ]
    },
    {
      "cell_type": "code",
      "execution_count": null,
      "metadata": {
        "id": "5wIABATvAxoa"
      },
      "outputs": [],
      "source": [
        "from imblearn.under_sampling import ClusterCentroids\n",
        "\n",
        "under_sample=ClusterCentroids(sampling_strategy=1)\n",
        "\n",
        "x_train_clus,y_train_clus=under_sample.fit_resample(new_train_x,train_data[\"label\"])"
      ]
    },
    {
      "cell_type": "code",
      "execution_count": null,
      "metadata": {
        "colab": {
          "base_uri": "https://localhost:8080/"
        },
        "id": "f6kIV9s9BmHm",
        "outputId": "db50f33b-47f9-4f25-9dca-63025f688cf3"
      },
      "outputs": [
        {
          "output_type": "execute_result",
          "data": {
            "text/plain": [
              "0    598\n",
              "1    598\n",
              "Name: label, dtype: int64"
            ]
          },
          "metadata": {},
          "execution_count": 66
        }
      ],
      "source": [
        "y_train_clus.value_counts()"
      ]
    },
    {
      "cell_type": "code",
      "execution_count": null,
      "metadata": {
        "colab": {
          "base_uri": "https://localhost:8080/"
        },
        "id": "jNaK7AbfCn-O",
        "outputId": "a8fe5eed-7ccf-4b78-f81d-a2d055037ede"
      },
      "outputs": [
        {
          "output_type": "stream",
          "name": "stdout",
          "text": [
            "0.6323732189367244\n"
          ]
        }
      ],
      "source": [
        "model6=BalancedRandomForestClassifier()\n",
        "model6.fit(x_train_clus,y_train_clus)\n",
        "print(roc_auc_score(model6.predict(x_test),y_test))"
      ]
    },
    {
      "cell_type": "code",
      "execution_count": null,
      "metadata": {
        "colab": {
          "base_uri": "https://localhost:8080/"
        },
        "id": "uTPyi9lhDYWs",
        "outputId": "e816a2c7-bdb4-4991-c700-e58a706a2a3b"
      },
      "outputs": [
        {
          "output_type": "stream",
          "name": "stdout",
          "text": [
            "0.590479797979798\n"
          ]
        }
      ],
      "source": [
        "model7=RUSBoostClassifier()\n",
        "model7.fit(x_train_clus,y_train_clus)\n",
        "print(roc_auc_score(model7.predict(x_test),y_test))\n",
        "\n"
      ]
    },
    {
      "cell_type": "code",
      "execution_count": null,
      "metadata": {
        "colab": {
          "base_uri": "https://localhost:8080/"
        },
        "id": "HwZuAqYZERrx",
        "outputId": "3aa6dcfc-686c-4099-9a0e-289a8541a0b3"
      },
      "outputs": [
        {
          "output_type": "stream",
          "name": "stdout",
          "text": [
            "0.6332911429449379\n"
          ]
        }
      ],
      "source": [
        "model8=RandomForestClassifier()\n",
        "model8.fit(x_train_clus,y_train_clus)\n",
        "print(roc_auc_score(model8.predict(x_test),y_test))"
      ]
    },
    {
      "cell_type": "code",
      "execution_count": null,
      "metadata": {
        "id": "R3pV55LlJXxW"
      },
      "outputs": [],
      "source": [
        "from sklearn.feature_extraction.text import TfidfVectorizer\n",
        "\n",
        "tf=TfidfVectorizer()\n",
        "vec_x=tf.fit_transform(train_data_sample[\"cleaned\"])\n"
      ]
    },
    {
      "cell_type": "code",
      "source": [
        "model1.fit(vec_x,train_data_sample[\"label\"])"
      ],
      "metadata": {
        "colab": {
          "base_uri": "https://localhost:8080/"
        },
        "id": "uG_n9Z4muncs",
        "outputId": "a03c88ad-93f2-4753-a48a-fc1fb6e2daf8"
      },
      "execution_count": null,
      "outputs": [
        {
          "output_type": "execute_result",
          "data": {
            "text/plain": [
              "LogisticRegression()"
            ]
          },
          "metadata": {},
          "execution_count": 73
        }
      ]
    },
    {
      "cell_type": "code",
      "source": [
        "model1.score(vec_x,train_data_sample[\"label\"])"
      ],
      "metadata": {
        "colab": {
          "base_uri": "https://localhost:8080/"
        },
        "id": "j2fB9FYnwt0b",
        "outputId": "86520fd3-f2b0-42f1-cc29-d805bd5484ba"
      },
      "execution_count": null,
      "outputs": [
        {
          "output_type": "execute_result",
          "data": {
            "text/plain": [
              "0.9491916859122402"
            ]
          },
          "metadata": {},
          "execution_count": 74
        }
      ]
    },
    {
      "cell_type": "code",
      "source": [
        "roc_auc_score(model1.predict(vec_x),train_data_sample[\"label\"])"
      ],
      "metadata": {
        "colab": {
          "base_uri": "https://localhost:8080/"
        },
        "id": "TqNpGWekw4za",
        "outputId": "f6085bcb-f95b-41d0-9a92-2a2670715954"
      },
      "execution_count": null,
      "outputs": [
        {
          "output_type": "execute_result",
          "data": {
            "text/plain": [
              "0.958536006300234"
            ]
          },
          "metadata": {},
          "execution_count": 75
        }
      ]
    },
    {
      "cell_type": "code",
      "source": [
        "\n",
        "x_train,x_test,y_train,y_test=train_test_split(data[\"message\"],data[\"label\"],stratify=data[\"label\"],test_size=0.2,random_state=42)"
      ],
      "metadata": {
        "id": "tDLstHLcviqW"
      },
      "execution_count": null,
      "outputs": []
    },
    {
      "cell_type": "code",
      "source": [
        "%%time\n",
        "x_test=x_test.apply(clean)"
      ],
      "metadata": {
        "colab": {
          "base_uri": "https://localhost:8080/"
        },
        "id": "rAg7P7Aiwnja",
        "outputId": "3e7199b7-f119-4779-dfbb-7fd5792d8359"
      },
      "execution_count": null,
      "outputs": [
        {
          "output_type": "stream",
          "name": "stdout",
          "text": [
            "CPU times: user 10min 1s, sys: 1.8 s, total: 10min 3s\n",
            "Wall time: 10min 4s\n"
          ]
        }
      ]
    },
    {
      "cell_type": "code",
      "source": [
        " x_text_copy=x_test"
      ],
      "metadata": {
        "id": "Tx9CDhOIxIKw"
      },
      "execution_count": null,
      "outputs": []
    },
    {
      "cell_type": "code",
      "source": [
        "vec_x_test=tf.transform(x_test)"
      ],
      "metadata": {
        "id": "mrtFzZSA1Ckf"
      },
      "execution_count": null,
      "outputs": []
    },
    {
      "cell_type": "code",
      "source": [
        "y_test=y_test.map({\"ham\":0,\"spam\":1})"
      ],
      "metadata": {
        "id": "RCd6BiLN2pZT"
      },
      "execution_count": null,
      "outputs": []
    },
    {
      "cell_type": "code",
      "source": [
        "print(classification_report(model1.predict(vec_x_test),y_test))"
      ],
      "metadata": {
        "colab": {
          "base_uri": "https://localhost:8080/"
        },
        "id": "RIIIAUGE2Lls",
        "outputId": "6472c726-5c4f-453f-93fb-397197f48a82"
      },
      "execution_count": null,
      "outputs": [
        {
          "output_type": "stream",
          "name": "stdout",
          "text": [
            "              precision    recall  f1-score   support\n",
            "\n",
            "           0       1.00      0.96      0.98      1002\n",
            "           1       0.73      0.96      0.83       113\n",
            "\n",
            "    accuracy                           0.96      1115\n",
            "   macro avg       0.86      0.96      0.90      1115\n",
            "weighted avg       0.97      0.96      0.96      1115\n",
            "\n"
          ]
        }
      ]
    },
    {
      "cell_type": "code",
      "source": [
        "model3.fit(vec_x,train_data_sample[\"label\"])\n",
        "\n",
        "print(classification_report(model3.predict(vec_x_test),y_test))"
      ],
      "metadata": {
        "colab": {
          "base_uri": "https://localhost:8080/"
        },
        "id": "lyp2tpe61wfn",
        "outputId": "3809d129-0e3e-4862-ea61-3decd65946fd"
      },
      "execution_count": null,
      "outputs": [
        {
          "output_type": "stream",
          "name": "stdout",
          "text": [
            "              precision    recall  f1-score   support\n",
            "\n",
            "           0       1.00      0.97      0.99       994\n",
            "           1       0.81      1.00      0.90       121\n",
            "\n",
            "    accuracy                           0.97      1115\n",
            "   macro avg       0.91      0.99      0.94      1115\n",
            "weighted avg       0.98      0.97      0.98      1115\n",
            "\n"
          ]
        }
      ]
    },
    {
      "cell_type": "code",
      "source": [
        "import seaborn as sns\n",
        "\n",
        "sns.heatmap(confusion_matrix(model3.predict(vec_x_test),y_test),annot=True);\n"
      ],
      "metadata": {
        "id": "jMRWMJS12-g9",
        "colab": {
          "base_uri": "https://localhost:8080/",
          "height": 265
        },
        "outputId": "dd96fbf2-7db6-416e-f21c-ae08959977c0"
      },
      "execution_count": null,
      "outputs": [
        {
          "output_type": "display_data",
          "data": {
            "text/plain": [
              "<Figure size 432x288 with 2 Axes>"
            ],
            "image/png": "[encoded data removed]"
          },
          "metadata": {
            "needs_background": "light"
          }
        }
      ]
    },
    {
      "cell_type": "markdown",
      "source": [
        ""
      ],
      "metadata": {
        "id": "zB2p9OdMf-dq"
      }
    }
  ],
  "metadata": {
    "colab": {
      "name": "SPAM-HAM CLASSIFIER.ipynb",
      "provenance": [],
      "collapsed_sections": [
        "5TTuElPhXsFj",
        "VIE38jfetypq"
      ],
      "authorship_tag": "ABX9TyOFcqydQNoaxykLE1SLkqzf",
      "include_colab_link": true
    },
    "gpuClass": "standard",
    "kernelspec": {
      "display_name": "Python 3",
      "name": "python3"
    },
    "language_info": {
      "name": "python"
    }
  },
  "nbformat": 4,
  "nbformat_minor": 0
}